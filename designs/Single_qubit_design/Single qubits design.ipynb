{
 "cells": [
  {
   "cell_type": "code",
   "execution_count": 1,
   "metadata": {},
   "outputs": [
    {
     "name": "stderr",
     "output_type": "stream",
     "text": [
      "..\\..\\QCreator\\general_sample_creator.py:298: SyntaxWarning: \"is not\" with a literal. Did you mean \"!=\"?\n",
      "  if value is not None and key is not 'flux':\n"
     ]
    }
   ],
   "source": [
    "from importlib import reload\n",
    "import numpy as np\n",
    "from matplotlib import pyplot as plt\n",
    "import Single_qubit_design as sqd"
   ]
  },
  {
   "cell_type": "code",
   "execution_count": 7,
   "metadata": {},
   "outputs": [
    {
     "data": {
      "text/plain": [
       "<module 'Single_qubit_design' from 'E:\\\\Github2.0\\\\QCreator\\\\designs\\\\Single_qubit_design\\\\Single_qubit_design.py'>"
      ]
     },
     "execution_count": 7,
     "metadata": {},
     "output_type": "execute_result"
    }
   ],
   "source": [
    "reload(sqd)"
   ]
  },
  {
   "cell_type": "markdown",
   "metadata": {},
   "source": [
    "# Draw a qubit design"
   ]
  },
  {
   "cell_type": "code",
   "execution_count": 8,
   "metadata": {},
   "outputs": [],
   "source": [
    "g1,g2= sqd.draw_double_resonator(sqd.sample,sqd.elements,\n",
    "                            sqd.coupler_start+2450, sqd.central_line_y, 150,\n",
    "                             sqd.resonator_core,sqd.resonator_gap,15, \n",
    "                             sqd.tl_core, sqd.tl_gap, sqd.tl_ground, grounding_width=10,\n",
    "                             closed_end_meander_length1=2750,length_left1=100,length_right1=100,\n",
    "                             closed_end_meander_length2=2850,length_left2=100,length_right2=100,\n",
    "                             open_length1=1000,open_length2=1000,orientation='left')"
   ]
  },
  {
   "cell_type": "code",
   "execution_count": 9,
   "metadata": {},
   "outputs": [],
   "source": [
    "g3,g4= sqd.draw_double_resonator_plus_double_qubit(sqd.sample,sqd.elements,\n",
    "                            sqd.coupler_start, sqd.central_line_y, sqd.coupler_length,\n",
    "                             sqd.resonator_core,sqd.resonator_gap,sqd.resonator_ground, \n",
    "                             sqd.tl_core, sqd.tl_gap, sqd.tl_ground, grounding_width=10,\n",
    "                             closed_end_meander_length1=3200,length_left1=350,length_right1=300,\n",
    "                              closed_end_meander_length2=3300,length_left2=300,length_right2=350,\n",
    "                             open_end_shift_length1=400, open_end_shift_length2=400,\n",
    "                             qubit1=sqd.coaxmon1, coupler_name1='coupler2',\n",
    "                             qubit2=sqd.coaxmon2, coupler_name2='coupler2',\n",
    "                             orientation='left')"
   ]
  },
  {
   "cell_type": "code",
   "execution_count": 10,
   "metadata": {},
   "outputs": [],
   "source": [
    "g5,g6= sqd.draw_double_resonator_plus_double_qubit(sqd.sample,sqd.elements,\n",
    "                            sqd.coupler_start+1000, sqd.central_line_y, sqd.coupler_length,\n",
    "                             sqd.resonator_core,sqd.resonator_gap,sqd.resonator_ground, \n",
    "                             sqd.tl_core, sqd.tl_gap, sqd.tl_ground, grounding_width=10,\n",
    "                             closed_end_meander_length1=3400,length_left1=350,length_right1=300,\n",
    "                              closed_end_meander_length2=3500,length_left2=300,length_right2=350,\n",
    "                             open_end_shift_length1=400, open_end_shift_length2=400,\n",
    "                             qubit1=sqd.coaxmon3, coupler_name1='coupler2',\n",
    "                             qubit2=sqd.coaxmon4, coupler_name2='coupler2',\n",
    "                             orientation='left')"
   ]
  },
  {
   "cell_type": "code",
   "execution_count": 11,
   "metadata": {},
   "outputs": [],
   "source": [
    "g7,g8= sqd.draw_double_resonator_plus_double_qubit(sqd.sample,sqd.elements,\n",
    "                            sqd.coupler_start+1900, sqd.central_line_y, sqd.coupler_length,\n",
    "                             sqd.resonator_core,sqd.resonator_gap,sqd.resonator_ground, \n",
    "                             sqd.tl_core, sqd.tl_gap, sqd.tl_ground, grounding_width=10,\n",
    "                             closed_end_meander_length1=3600,length_left1=350,length_right1=300,\n",
    "                              closed_end_meander_length2=3700,length_left2=300,length_right2=350,\n",
    "                             open_end_shift_length1=600, open_end_shift_length2=600,\n",
    "                             qubit1=sqd.xmon2, coupler_name1='crab_up',\n",
    "                             qubit2=sqd.xmon1, coupler_name2='crab_down',\n",
    "                             orientation='left')"
   ]
  },
  {
   "cell_type": "code",
   "execution_count": 12,
   "metadata": {},
   "outputs": [
    {
     "data": {
      "text/plain": [
       "CPW \"right TL\", l=1348.000"
      ]
     },
     "execution_count": 12,
     "metadata": {},
     "output_type": "execute_result"
    }
   ],
   "source": [
    "sqd.sample.connect_cpw(o1=sqd.p1, o2=g3, port1='port', port2='narrow', name='right TL', points=[])\n",
    "sqd.sample.connect_cpw(o1=g4, o2=g5, port1='narrow', port2='narrow', name='right TL', points=[])\n",
    "sqd.sample.connect_cpw(o1=g6, o2=g7, port1='narrow', port2='narrow', name='right TL', points=[])\n",
    "sqd.sample.connect_cpw(o1=g6, o2=sqd.p2, port1='narrow', port2='port', name='right TL', points=[])"
   ]
  },
  {
   "cell_type": "code",
   "execution_count": 52,
   "metadata": {},
   "outputs": [
    {
     "data": {
      "text/plain": [
       "CPW \"right TL\", l=448.000"
      ]
     },
     "execution_count": 52,
     "metadata": {},
     "output_type": "execute_result"
    }
   ],
   "source": [
    "sqd.sample.connect_cpw(o1=sqd.p1, o2=g7, port1='port', port2='narrow', name='right TL', points=[])\n",
    "sqd.sample.connect_cpw(o1=g8, o2=sqd.p2, port1='narrow', port2='port', name='right TL', points=[])"
   ]
  },
  {
   "cell_type": "code",
   "execution_count": 19,
   "metadata": {},
   "outputs": [],
   "source": [
    "sqd.sample.draw_design()\n",
    "sqd.sample.watch()"
   ]
  },
  {
   "cell_type": "markdown",
   "metadata": {},
   "source": [
    "# Simulations"
   ]
  },
  {
   "cell_type": "code",
   "execution_count": 14,
   "metadata": {},
   "outputs": [],
   "source": [
    "sqd.sample.draw_cap()"
   ]
  },
  {
   "cell_type": "code",
   "execution_count": 15,
   "metadata": {},
   "outputs": [
    {
     "name": "stdout",
     "output_type": "stream",
     "text": [
      "Gds file has been writen here:  E:\\Github2.0\\QCreator\\designs\\Single_qubit_design\\1Q_test.gds\n",
      "For 0 conductor total length is:  33887\n",
      "For 1 conductor total length is:  12258\n",
      "For 2 conductor total length is:  2117\n",
      "Sum : 48262\n",
      "Data has been written into the file: E:\\Github2.0\\QCreator\\designs\\Single_qubit_design\\mesh_4k_data\n",
      "Time for fastcap job is:  5.2945356369018555\n",
      "Capacitance results have been writen here:  E:\\Github2.0\\QCreator\\designs\\Single_qubit_design\\mesh_4k_results\n",
      "Capacitance value in:  nanofarads\n",
      "[<map object at 0x0000025F343D12B0>, <map object at 0x0000025F05150850>, <map object at 0x0000025F1C78AD30>]\n",
      "Gds file has been writen here:  E:\\Github2.0\\QCreator\\designs\\Single_qubit_design\\1Q_test.gds\n",
      "For 0 conductor total length is:  33887\n",
      "For 1 conductor total length is:  12258\n",
      "For 2 conductor total length is:  2117\n",
      "Sum : 48262\n",
      "Data has been written into the file: E:\\Github2.0\\QCreator\\designs\\Single_qubit_design\\mesh_4k_data\n",
      "Time for fastcap job is:  5.12339186668396\n",
      "Capacitance results have been writen here:  E:\\Github2.0\\QCreator\\designs\\Single_qubit_design\\mesh_4k_results\n",
      "Capacitance value in:  nanofarads\n",
      "[<map object at 0x0000025F3468F3A0>, <map object at 0x0000025F3468F2E0>, <map object at 0x0000025F3468F2B0>]\n",
      "Gds file has been writen here:  E:\\Github2.0\\QCreator\\designs\\Single_qubit_design\\1Q_test.gds\n",
      "For 0 conductor total length is:  33902\n",
      "For 1 conductor total length is:  12195\n",
      "For 2 conductor total length is:  2105\n",
      "Sum : 48202\n",
      "Data has been written into the file: E:\\Github2.0\\QCreator\\designs\\Single_qubit_design\\mesh_4k_data\n",
      "Time for fastcap job is:  5.3620216846466064\n",
      "Capacitance results have been writen here:  E:\\Github2.0\\QCreator\\designs\\Single_qubit_design\\mesh_4k_results\n",
      "Capacitance value in:  nanofarads\n",
      "[<map object at 0x0000025F3468F340>, <map object at 0x0000025F3468F100>, <map object at 0x0000025F3468F040>]\n",
      "Gds file has been writen here:  E:\\Github2.0\\QCreator\\designs\\Single_qubit_design\\1Q_test.gds\n",
      "For 0 conductor total length is:  33902\n",
      "For 1 conductor total length is:  12195\n",
      "For 2 conductor total length is:  2105\n",
      "Sum : 48202\n",
      "Data has been written into the file: E:\\Github2.0\\QCreator\\designs\\Single_qubit_design\\mesh_4k_data\n",
      "Time for fastcap job is:  5.020224571228027\n",
      "Capacitance results have been writen here:  E:\\Github2.0\\QCreator\\designs\\Single_qubit_design\\mesh_4k_results\n",
      "Capacitance value in:  nanofarads\n",
      "[<map object at 0x0000025F3468F3D0>, <map object at 0x0000025F3468F250>, <map object at 0x0000025F3468F1C0>]\n",
      "Gds file has been writen here:  E:\\Github2.0\\QCreator\\designs\\Single_qubit_design\\1Q_test.gds\n",
      "For 0 conductor total length is:  7108\n",
      "For 1 conductor total length is:  2351\n",
      "For 2 conductor total length is:  500\n",
      "Sum : 9959\n",
      "Data has been written into the file: E:\\Github2.0\\QCreator\\designs\\Single_qubit_design\\mesh_4k_data\n",
      "Time for fastcap job is:  0.788409948348999\n",
      "Capacitance results have been writen here:  E:\\Github2.0\\QCreator\\designs\\Single_qubit_design\\mesh_4k_results\n",
      "Capacitance value in:  nanofarads\n",
      "[<map object at 0x0000025F3468F700>, <map object at 0x0000025F3468F910>, <map object at 0x0000025F3468F6A0>]\n",
      "Gds file has been writen here:  E:\\Github2.0\\QCreator\\designs\\Single_qubit_design\\1Q_test.gds\n",
      "For 0 conductor total length is:  7136\n",
      "For 1 conductor total length is:  2351\n",
      "For 2 conductor total length is:  511\n",
      "Sum : 9998\n",
      "Data has been written into the file: E:\\Github2.0\\QCreator\\designs\\Single_qubit_design\\mesh_4k_data\n",
      "Time for fastcap job is:  0.8093125820159912\n",
      "Capacitance results have been writen here:  E:\\Github2.0\\QCreator\\designs\\Single_qubit_design\\mesh_4k_results\n",
      "Capacitance value in:  nanofarads\n",
      "[<map object at 0x0000025F3468FD30>, <map object at 0x0000025F3468FD60>, <map object at 0x0000025F3468F9D0>]\n"
     ]
    }
   ],
   "source": [
    "for i,qubit in enumerate(sqd.sample.qubits):\n",
    "    caps=sqd.sample.calculate_qubit_capacitance(cell= sqd.sample.qubit_cap_cells[i], qubit=sqd.sample.qubits[i],\n",
    "                                       mesh_volume=4)"
   ]
  },
  {
   "cell_type": "code",
   "execution_count": 16,
   "metadata": {},
   "outputs": [
    {
     "name": "stdout",
     "output_type": "stream",
     "text": [
      "('down',)\n",
      "('up',)\n"
     ]
    },
    {
     "data": {
      "text/plain": [
       "(array([4.04313887, 4.04314151, 4.92864759, 4.92897416, 4.92926912,\n",
       "        4.92951774, 5.83328306, 5.94738929, 6.23049383, 6.35945474]),\n",
       " array([-2.26622916e-09, -1.88540093e-09,  3.29995524e-03,  2.80304456e-03,\n",
       "         2.57430284e-03,  2.17948746e-03, -3.10891527e-08,  8.25160462e-09,\n",
       "         1.38618508e+00,  1.59685638e+00]),\n",
       " array([-5.60485921e+12, -6.73697751e+12,  4.69212518e+06,  5.52428928e+06,\n",
       "         6.01551433e+06,  7.10558653e+06, -5.89459590e+11,  2.26432014e+12,\n",
       "         1.41205341e+04,  1.25113420e+04]))"
      ]
     },
     "execution_count": 16,
     "metadata": {},
     "output_type": "execute_result"
    }
   ],
   "source": [
    "sys, connections, elements_ = sqd.sample.get_tls()\n",
    "f, delta, modes = sys.get_modes()\n",
    "f[:14]/(2*np.pi)/1e9, delta[:14]/1e6,f[:14]/delta[:14]/2 "
   ]
  },
  {
   "cell_type": "code",
   "execution_count": 5,
   "metadata": {},
   "outputs": [
    {
     "data": {
      "text/plain": [
       "(array([ 9.06076239, 19.42226669, 27.16461574, 39.57433433, 45.29853018,\n",
       "        51.83146578, 53.50024385, 63.49859608, 67.88772327, 67.95258779]),\n",
       " array([2.14077943e+00, 1.80665983e+05, 1.71306495e+01, 1.77314229e+05,\n",
       "        3.51691698e+01, 1.84545490e+05, 2.84513151e+05, 4.27841197e+01,\n",
       "        3.81138102e+04, 3.61196605e+04]),\n",
       " array([1.32966639e+04, 3.37732922e-01, 4.98172338e+03, 7.01164474e-01,\n",
       "        4.04642846e+03, 8.82348044e-01, 5.90749400e-01, 4.66263474e+03,\n",
       "        5.59575575e+00, 5.91033657e+00]))"
      ]
     },
     "execution_count": 5,
     "metadata": {},
     "output_type": "execute_result"
    }
   ],
   "source": [
    "sys, connections, elements_ = sqd.sample.get_tls()\n",
    "f, delta, modes = sys.get_modes()\n",
    "f[:10]/(2*np.pi)/1e9, delta[:10]/1e6,f[:10]/delta[:10]/2 "
   ]
  },
  {
   "cell_type": "code",
   "execution_count": 10,
   "metadata": {},
   "outputs": [
    {
     "data": {
      "text/plain": [
       "(array([ 6.96008632, 19.42226766, 20.87224856, 34.81355726, 39.57433432,\n",
       "        48.21381172, 51.8314627 , 53.50023925, 55.94610617, 65.03334189]),\n",
       " array([9.69911481e-01, 1.80665987e+05, 8.35423250e+00, 1.92918374e+01,\n",
       "        1.77314230e+05, 2.34471952e+01, 1.84545490e+05, 2.84513090e+05,\n",
       "        1.36296082e+01, 4.02592953e+01]),\n",
       " array([2.25440739e+04, 3.37732931e-01, 7.84896790e+03, 5.66923791e+03,\n",
       "        7.01164469e-01, 6.45996912e+03, 8.82347990e-01, 5.90749475e-01,\n",
       "        1.28954460e+04, 5.07480986e+03]))"
      ]
     },
     "execution_count": 10,
     "metadata": {},
     "output_type": "execute_result"
    }
   ],
   "source": [
    "sys, connections, elements_ = sqd.sample.get_tls()\n",
    "f, delta, modes = sys.get_modes()\n",
    "f[:10]/(2*np.pi)/1e9, delta[:10]/1e6,f[:10]/delta[:10]/2 "
   ]
  },
  {
   "cell_type": "code",
   "execution_count": null,
   "metadata": {},
   "outputs": [],
   "source": [
    "f_ = np.linspace(6.9e9, 7.1e9, 2001)\n",
    "# s11 = sample.get_s21('p1', 'p1', f_)\n",
    "s11 = sample.get_s21('pad-left-0', 'pad-right-0', f_)"
   ]
  },
  {
   "cell_type": "code",
   "execution_count": null,
   "metadata": {},
   "outputs": [],
   "source": [
    "import resonator_tools\n",
    "from resonator_tools.circuit import notch_port, reflection_port"
   ]
  },
  {
   "cell_type": "code",
   "execution_count": null,
   "metadata": {},
   "outputs": [],
   "source": [
    "fitter = notch_port(f_data=f_, z_data_raw=s11)\n",
    "fitter.autofit()"
   ]
  },
  {
   "cell_type": "code",
   "execution_count": null,
   "metadata": {},
   "outputs": [],
   "source": [
    "fitter.plotall()"
   ]
  },
  {
   "cell_type": "code",
   "execution_count": null,
   "metadata": {},
   "outputs": [],
   "source": [
    "fitter.fitresults"
   ]
  },
  {
   "cell_type": "markdown",
   "metadata": {},
   "source": [
    "# Tests"
   ]
  },
  {
   "cell_type": "code",
   "execution_count": 10,
   "metadata": {},
   "outputs": [],
   "source": [
    "g5,g6,res= sqd.draw_single_resonator(sqd.sample,sqd.elements,\n",
    "                            sqd.coupler_start+1500, sqd.central_line_y, sqd.coupler_length,\n",
    "                             sqd.resonator_core,sqd.resonator_gap,sqd.resonator_ground,\n",
    "                             sqd.tl_core, sqd.tl_gap, sqd.tl_ground, grounding_width=10,\n",
    "                             closed_end_meander_length=3000,length_left=400,length_right=400,\n",
    "                             open_end_legth=800,\n",
    "                             port_orientation='right', direction_orientation='up')"
   ]
  }
 ],
 "metadata": {
  "kernelspec": {
   "display_name": "Python 3",
   "language": "python",
   "name": "python3"
  },
  "language_info": {
   "codemirror_mode": {
    "name": "ipython",
    "version": 3
   },
   "file_extension": ".py",
   "mimetype": "text/x-python",
   "name": "python",
   "nbconvert_exporter": "python",
   "pygments_lexer": "ipython3",
   "version": "3.8.5"
  }
 },
 "nbformat": 4,
 "nbformat_minor": 4
}
