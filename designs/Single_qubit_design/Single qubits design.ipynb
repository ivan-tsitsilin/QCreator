{
 "cells": [
  {
   "cell_type": "code",
   "execution_count": 1,
   "metadata": {},
   "outputs": [],
   "source": [
    "from importlib import reload\n",
    "import numpy as np\n",
    "from matplotlib import pyplot as plt\n",
    "import Single_qubit_design as sqd"
   ]
  },
  {
   "cell_type": "code",
   "execution_count": 2,
   "metadata": {},
   "outputs": [
    {
     "data": {
      "text/plain": [
       "<module 'Single_qubit_design' from 'E:\\\\Github2.0\\\\QCreator\\\\designs\\\\Single_qubit_design\\\\Single_qubit_design.py'>"
      ]
     },
     "execution_count": 2,
     "metadata": {},
     "output_type": "execute_result"
    }
   ],
   "source": [
    "reload(sqd)"
   ]
  },
  {
   "cell_type": "markdown",
   "metadata": {},
   "source": [
    "# Draw a qubit design"
   ]
  },
  {
   "cell_type": "code",
   "execution_count": 2,
   "metadata": {},
   "outputs": [
    {
     "name": "stderr",
     "output_type": "stream",
     "text": [
      "..\\..\\QCreator\\elements\\cpw.py:181: RuntimeWarning: invalid value encountered in sqrt\n",
      "  self.z0 = np.sqrt(np.dot(ll, np.linalg.inv(cl)))\n"
     ]
    }
   ],
   "source": [
    "g1,g2= sqd.draw_double_resonator(sqd.sample,sqd.elements,\n",
    "                            sqd.coupler_start+2450, sqd.central_line_y, 150,\n",
    "                             sqd.resonator_core,sqd.resonator_gap,15, \n",
    "                             sqd.tl_core, sqd.tl_gap, sqd.tl_ground, grounding_width=10,\n",
    "                             closed_end_meander_length1=2750,length_left1=100,length_right1=100,\n",
    "                             closed_end_meander_length2=2850,length_left2=100,length_right2=100,\n",
    "                             open_length1=1000,open_length2=1000,orientation='left')"
   ]
  },
  {
   "cell_type": "code",
   "execution_count": 3,
   "metadata": {},
   "outputs": [],
   "source": [
    "g3,g4, par1, par2= sqd.draw_double_resonator_plus_double_qubit(sqd.sample,sqd.elements,\n",
    "                            sqd.coupler_start, sqd.central_line_y, sqd.coupler_length,\n",
    "                             sqd.resonator_core,sqd.resonator_gap,sqd.resonator_ground, \n",
    "                             sqd.tl_core, sqd.tl_gap, sqd.tl_ground, grounding_width=10,\n",
    "                             closed_end_meander_length1=3200,length_left1=350,length_right1=300,\n",
    "                              closed_end_meander_length2=3300,length_left2=300,length_right2=350,\n",
    "                             open_end_shift_length1=400, open_end_shift_length2=400,\n",
    "                             qubit1=sqd.coaxmon1, coupler_name1='coupler2',\n",
    "                             qubit2=sqd.coaxmon2, coupler_name2='coupler2',\n",
    "                             orientation='left')"
   ]
  },
  {
   "cell_type": "code",
   "execution_count": 4,
   "metadata": {},
   "outputs": [],
   "source": [
    "g5,g6, par1, par2= sqd.draw_double_resonator_plus_double_qubit(sqd.sample,sqd.elements,\n",
    "                            sqd.coupler_start+1000, sqd.central_line_y, sqd.coupler_length,\n",
    "                             sqd.resonator_core,sqd.resonator_gap,sqd.resonator_ground, \n",
    "                             sqd.tl_core, sqd.tl_gap, sqd.tl_ground, grounding_width=10,\n",
    "                             closed_end_meander_length1=3400,length_left1=350,length_right1=300,\n",
    "                              closed_end_meander_length2=3500,length_left2=300,length_right2=350,\n",
    "                             open_end_shift_length1=400, open_end_shift_length2=400,\n",
    "                             qubit1=sqd.coaxmon3, coupler_name1='coupler2',\n",
    "                             qubit2=sqd.coaxmon4, coupler_name2='coupler2',\n",
    "                             orientation='left')"
   ]
  },
  {
   "cell_type": "code",
   "execution_count": 5,
   "metadata": {},
   "outputs": [],
   "source": [
    "g7,g8, par1, par2= sqd.draw_double_resonator_plus_double_qubit(sqd.sample,sqd.elements,\n",
    "                            sqd.coupler_start+1900, sqd.central_line_y, sqd.coupler_length,\n",
    "                             sqd.resonator_core,sqd.resonator_gap,sqd.resonator_ground, \n",
    "                             sqd.tl_core, sqd.tl_gap, sqd.tl_ground, grounding_width=10,\n",
    "                             closed_end_meander_length1=3600,length_left1=350,length_right1=300,\n",
    "                              closed_end_meander_length2=3700,length_left2=300,length_right2=350,\n",
    "                             open_end_shift_length1=600, open_end_shift_length2=600,\n",
    "                             qubit1=sqd.xmon2, coupler_name1='crab_up',\n",
    "                             qubit2=sqd.xmon1, coupler_name2='crab_down',\n",
    "                             orientation='left')"
   ]
  },
  {
   "cell_type": "code",
   "execution_count": 6,
   "metadata": {},
   "outputs": [
    {
     "data": {
      "text/plain": [
       "CPW \"right TL\", l=1348.000"
      ]
     },
     "execution_count": 6,
     "metadata": {},
     "output_type": "execute_result"
    }
   ],
   "source": [
    "sqd.sample.connect_cpw(o1=sqd.p1, o2=g3, port1='port', port2='narrow', name='right TL', points=[])\n",
    "sqd.sample.connect_cpw(o1=g4, o2=g5, port1='narrow', port2='narrow', name='right TL', points=[])\n",
    "sqd.sample.connect_cpw(o1=g6, o2=g7, port1='narrow', port2='narrow', name='right TL', points=[])\n",
    "sqd.sample.connect_cpw(o1=g6, o2=sqd.p2, port1='narrow', port2='port', name='right TL', points=[])"
   ]
  },
  {
   "cell_type": "code",
   "execution_count": 8,
   "metadata": {},
   "outputs": [
    {
     "name": "stderr",
     "output_type": "stream",
     "text": [
      "E:\\py38\\lib\\site-packages\\gdspy\\path.py:827: UserWarning: [GDSPY] Possible inconsistency found in `FlexPath` due to sharp corner.\n",
      "  warnings.warn(\n"
     ]
    }
   ],
   "source": [
    "sqd.sample.draw_design()\n",
    "sqd.sample.watch()"
   ]
  },
  {
   "cell_type": "code",
   "execution_count": 9,
   "metadata": {},
   "outputs": [
    {
     "data": {
      "text/plain": [
       "((4784.687038912825, array([[0.01761051]]), array([[4.72581822e-13]])),\n",
       " (4884.880227912947, array([[0.01761051]]), array([[4.72581822e-13]])))"
      ]
     },
     "execution_count": 9,
     "metadata": {},
     "output_type": "execute_result"
    }
   ],
   "source": [
    "par1, par2"
   ]
  },
  {
   "cell_type": "markdown",
   "metadata": {},
   "source": [
    "# Connect contact pads"
   ]
  },
  {
   "cell_type": "code",
   "execution_count": 7,
   "metadata": {},
   "outputs": [],
   "source": [
    "flux_pads_coaxmons = [\n",
    "    (sqd.sample.qubits[0], sqd.pads_bottom[0], [((1015, 1077))]),\n",
    "    (sqd.sample.qubits[1], sqd.pads_top[0], [(1047, 3620)]),\n",
    "    (sqd.sample.qubits[2], sqd.pads_bottom[1], [(2000, 1077)]),\n",
    "    (sqd.sample.qubits[3], sqd.pads_top[1], [(2036,3691)])]#[(2076, 3691)])]#[(2030, 3640)])]\n",
    "\n",
    "flux_pads_xmons = [(sqd.sample.qubits[4], sqd.pads_top[2], [(3200, 3768)]),\n",
    "                   (sqd.sample.qubits[5], sqd.pads_bottom[2], [(3200, 922)])]\n",
    "\n",
    "\n",
    "for coaxmon, pad, points in flux_pads_coaxmons:  \n",
    "    flux_line_narrowing_position = np.asarray(coaxmon.terminals['flux'].position)\n",
    "    direction = [np.cos(coaxmon.terminals['flux'].orientation), \n",
    "                 np.sin(coaxmon.terminals['flux'].orientation)]\n",
    "    narrowing_length = 25\n",
    "    flux_line_narrowing_position = flux_line_narrowing_position - np.asarray(direction)*narrowing_length/2\n",
    "    flux_line_narrowing = sqd.elements.Narrowing(name='flux_line_narrowing', position=flux_line_narrowing_position, \n",
    "                                             orientation=coaxmon.terminals['flux'].orientation+np.pi, \n",
    "                                             w1=coaxmon.terminals['flux'].w, \n",
    "                                             s1=coaxmon.terminals['flux'].s, g1=coaxmon.terminals['flux'].g,\n",
    "                                             w2=sqd.tl_core, s2=sqd.tl_gap, g2=sqd.tl_ground, \n",
    "                                             layer_configuration=sqd.sample.layer_configuration, length=narrowing_length)\n",
    "    sqd.sample.add(flux_line_narrowing)\n",
    "\n",
    "    sqd.sample.connect_cpw(pad, flux_line_narrowing, 'port', 'port2', 'flux_control5', points=points)\n",
    "    \n",
    "for xmon, pad, points in flux_pads_xmons:  \n",
    "    flux_line_narrowing_position = np.asarray(xmon.terminals['flux'].position)\n",
    "    direction = [np.cos(xmon.terminals['flux'].orientation), \n",
    "                 np.sin(xmon.terminals['flux'].orientation)]\n",
    "    narrowing_length = 20\n",
    "    flux_line_narrowing_position = flux_line_narrowing_position - np.asarray(direction)*narrowing_length/2\n",
    "    flux_line_narrowing = sqd.elements.Narrowing(name='flux_line_narrowing', position=flux_line_narrowing_position, \n",
    "                                             orientation=xmon.terminals['flux'].orientation+np.pi, \n",
    "                                             w1=xmon.terminals['flux'].w, \n",
    "                                             s1=xmon.terminals['flux'].s, g1=xmon.terminals['flux'].g,\n",
    "                                             w2=sqd.tl_core, s2=sqd.tl_gap, g2=sqd.tl_ground, \n",
    "                                             layer_configuration=sqd.sample.layer_configuration, length=narrowing_length)\n",
    "    sqd.sample.add(flux_line_narrowing)\n",
    "\n",
    "    sqd.sample.connect_cpw(pad, flux_line_narrowing, 'port', 'port2', 'flux_control5', points=points)"
   ]
  },
  {
   "cell_type": "code",
   "execution_count": 9,
   "metadata": {},
   "outputs": [
    {
     "name": "stdout",
     "output_type": "stream",
     "text": [
      "Gds file has been writen here:  E:\\Github2.0\\QCreator\\designs\\Single_qubit_design\\1Q_test.gds\n"
     ]
    }
   ],
   "source": [
    "sqd.sample.write_to_gds()"
   ]
  },
  {
   "cell_type": "markdown",
   "metadata": {},
   "source": [
    "# Simulations"
   ]
  },
  {
   "cell_type": "code",
   "execution_count": 8,
   "metadata": {},
   "outputs": [],
   "source": [
    "sqd.sample.draw_cap()"
   ]
  },
  {
   "cell_type": "code",
   "execution_count": 9,
   "metadata": {},
   "outputs": [
    {
     "name": "stdout",
     "output_type": "stream",
     "text": [
      "Gds file has been writen here:  E:\\Github2.0\\QCreator\\designs\\Single_qubit_design\\1Q_test.gds\n",
      "For 0 conductor total length is:  33887\n",
      "For 1 conductor total length is:  12258\n",
      "For 2 conductor total length is:  2117\n",
      "Sum : 48262\n",
      "Data has been written into the file: E:\\Github2.0\\QCreator\\designs\\Single_qubit_design\\mesh_4k_data\n",
      "Time for fastcap job is:  5.029475688934326\n",
      "Capacitance results have been writen here:  E:\\Github2.0\\QCreator\\designs\\Single_qubit_design\\mesh_4k_results\n",
      "Capacitance value in:  nanofarads\n",
      "[<map object at 0x0000025284A37BB0>, <map object at 0x0000025284A37CA0>, <map object at 0x0000025284A37C70>]\n",
      "       0     1     2\n",
      "0  151.2 -46.2 -15.4\n",
      "1  -46.2  64.6  -4.8\n",
      "2  -15.4  -4.8  25.0\n",
      "Gds file has been writen here:  E:\\Github2.0\\QCreator\\designs\\Single_qubit_design\\1Q_test.gds\n",
      "For 0 conductor total length is:  33887\n",
      "For 1 conductor total length is:  12258\n",
      "For 2 conductor total length is:  2117\n",
      "Sum : 48262\n",
      "Data has been written into the file: E:\\Github2.0\\QCreator\\designs\\Single_qubit_design\\mesh_4k_data\n",
      "Time for fastcap job is:  5.0796427726745605\n",
      "Capacitance results have been writen here:  E:\\Github2.0\\QCreator\\designs\\Single_qubit_design\\mesh_4k_results\n",
      "Capacitance value in:  nanofarads\n",
      "[<map object at 0x0000025284A37F70>, <map object at 0x00000252848B7AC0>, <map object at 0x00000252EDA2BEB0>]\n",
      "       0     1     2\n",
      "0  151.2 -46.2 -15.4\n",
      "1  -46.2  64.6  -4.8\n",
      "2  -15.4  -4.8  25.0\n",
      "Gds file has been writen here:  E:\\Github2.0\\QCreator\\designs\\Single_qubit_design\\1Q_test.gds\n",
      "For 0 conductor total length is:  33902\n",
      "For 1 conductor total length is:  12195\n",
      "For 2 conductor total length is:  2105\n",
      "Sum : 48202\n",
      "Data has been written into the file: E:\\Github2.0\\QCreator\\designs\\Single_qubit_design\\mesh_4k_data\n",
      "Time for fastcap job is:  5.255722761154175\n",
      "Capacitance results have been writen here:  E:\\Github2.0\\QCreator\\designs\\Single_qubit_design\\mesh_4k_results\n",
      "Capacitance value in:  nanofarads\n",
      "[<map object at 0x0000025284962640>, <map object at 0x0000025284A37B80>, <map object at 0x0000025284A37D30>]\n",
      "       0     1     2\n",
      "0  151.2 -46.2 -15.4\n",
      "1  -46.2  64.6  -4.8\n",
      "2  -15.4  -4.8  25.0\n",
      "Gds file has been writen here:  E:\\Github2.0\\QCreator\\designs\\Single_qubit_design\\1Q_test.gds\n",
      "For 0 conductor total length is:  33902\n",
      "For 1 conductor total length is:  12195\n",
      "For 2 conductor total length is:  2105\n",
      "Sum : 48202\n",
      "Data has been written into the file: E:\\Github2.0\\QCreator\\designs\\Single_qubit_design\\mesh_4k_data\n",
      "Time for fastcap job is:  5.059300661087036\n",
      "Capacitance results have been writen here:  E:\\Github2.0\\QCreator\\designs\\Single_qubit_design\\mesh_4k_results\n",
      "Capacitance value in:  nanofarads\n",
      "[<map object at 0x000002528495FBE0>, <map object at 0x0000025284A003D0>, <map object at 0x0000025284A00220>]\n",
      "       0     1     2\n",
      "0  151.2 -46.2 -15.4\n",
      "1  -46.2  64.6  -4.8\n",
      "2  -15.4  -4.8  25.0\n",
      "Gds file has been writen here:  E:\\Github2.0\\QCreator\\designs\\Single_qubit_design\\1Q_test.gds\n",
      "For 0 conductor total length is:  7108\n",
      "For 1 conductor total length is:  2351\n",
      "For 2 conductor total length is:  500\n",
      "Sum : 9959\n",
      "Data has been written into the file: E:\\Github2.0\\QCreator\\designs\\Single_qubit_design\\mesh_4k_data\n",
      "Time for fastcap job is:  0.8123354911804199\n",
      "Capacitance results have been writen here:  E:\\Github2.0\\QCreator\\designs\\Single_qubit_design\\mesh_4k_results\n",
      "Capacitance value in:  nanofarads\n",
      "[<map object at 0x0000025284A00820>, <map object at 0x0000025284A00220>, <map object at 0x0000025284A00790>]\n",
      "       0      1     2\n",
      "0  163.5  -92.4 -22.1\n",
      "1  -92.4  102.3  -1.0\n",
      "2  -22.1   -1.0  25.7\n",
      "Gds file has been writen here:  E:\\Github2.0\\QCreator\\designs\\Single_qubit_design\\1Q_test.gds\n",
      "For 0 conductor total length is:  7136\n",
      "For 1 conductor total length is:  2351\n",
      "For 2 conductor total length is:  511\n",
      "Sum : 9998\n",
      "Data has been written into the file: E:\\Github2.0\\QCreator\\designs\\Single_qubit_design\\mesh_4k_data\n",
      "Time for fastcap job is:  0.8099880218505859\n",
      "Capacitance results have been writen here:  E:\\Github2.0\\QCreator\\designs\\Single_qubit_design\\mesh_4k_results\n",
      "Capacitance value in:  nanofarads\n",
      "[<map object at 0x0000025284A00A60>, <map object at 0x0000025284A005E0>, <map object at 0x0000025284A00040>]\n",
      "       0      1     2\n",
      "0  163.6  -92.5 -22.1\n",
      "1  -92.5  102.3  -1.0\n",
      "2  -22.1   -1.0  25.7\n"
     ]
    }
   ],
   "source": [
    "for i,qubit in enumerate(sqd.sample.qubits):\n",
    "    caps=sqd.sample.calculate_qubit_capacitance(cell= sqd.sample.qubit_cap_cells[i], qubit=sqd.sample.qubits[i],\n",
    "                                       mesh_volume=4)"
   ]
  },
  {
   "cell_type": "code",
   "execution_count": null,
   "metadata": {},
   "outputs": [
    {
     "name": "stdout",
     "output_type": "stream",
     "text": [
      "('down',)\n",
      "('up',)\n"
     ]
    }
   ],
   "source": [
    "sys, connections, elements_ = sqd.sample.get_tls()\n",
    "f, delta, modes = sys.get_modes()\n"
   ]
  },
  {
   "cell_type": "code",
   "execution_count": null,
   "metadata": {},
   "outputs": [],
   "source": [
    "f[:16]/(2*np.pi)/1e9, delta[:14]/1e6,f[:14]/delta[:14]/2 "
   ]
  },
  {
   "cell_type": "code",
   "execution_count": null,
   "metadata": {},
   "outputs": [],
   "source": [
    "f[:16]/(2*np.pi)/1e9"
   ]
  },
  {
   "cell_type": "code",
   "execution_count": 5,
   "metadata": {},
   "outputs": [
    {
     "data": {
      "text/plain": [
       "(array([ 9.06076239, 19.42226669, 27.16461574, 39.57433433, 45.29853018,\n",
       "        51.83146578, 53.50024385, 63.49859608, 67.88772327, 67.95258779]),\n",
       " array([2.14077943e+00, 1.80665983e+05, 1.71306495e+01, 1.77314229e+05,\n",
       "        3.51691698e+01, 1.84545490e+05, 2.84513151e+05, 4.27841197e+01,\n",
       "        3.81138102e+04, 3.61196605e+04]),\n",
       " array([1.32966639e+04, 3.37732922e-01, 4.98172338e+03, 7.01164474e-01,\n",
       "        4.04642846e+03, 8.82348044e-01, 5.90749400e-01, 4.66263474e+03,\n",
       "        5.59575575e+00, 5.91033657e+00]))"
      ]
     },
     "execution_count": 5,
     "metadata": {},
     "output_type": "execute_result"
    }
   ],
   "source": [
    "sys, connections, elements_ = sqd.sample.get_tls()\n",
    "f, delta, modes = sys.get_modes()\n",
    "f[:10]/(2*np.pi)/1e9, delta[:10]/1e6,f[:10]/delta[:10]/2 "
   ]
  },
  {
   "cell_type": "code",
   "execution_count": 10,
   "metadata": {},
   "outputs": [
    {
     "data": {
      "text/plain": [
       "(array([ 6.96008632, 19.42226766, 20.87224856, 34.81355726, 39.57433432,\n",
       "        48.21381172, 51.8314627 , 53.50023925, 55.94610617, 65.03334189]),\n",
       " array([9.69911481e-01, 1.80665987e+05, 8.35423250e+00, 1.92918374e+01,\n",
       "        1.77314230e+05, 2.34471952e+01, 1.84545490e+05, 2.84513090e+05,\n",
       "        1.36296082e+01, 4.02592953e+01]),\n",
       " array([2.25440739e+04, 3.37732931e-01, 7.84896790e+03, 5.66923791e+03,\n",
       "        7.01164469e-01, 6.45996912e+03, 8.82347990e-01, 5.90749475e-01,\n",
       "        1.28954460e+04, 5.07480986e+03]))"
      ]
     },
     "execution_count": 10,
     "metadata": {},
     "output_type": "execute_result"
    }
   ],
   "source": [
    "sys, connections, elements_ = sqd.sample.get_tls()\n",
    "f, delta, modes = sys.get_modes()\n",
    "f[:10]/(2*np.pi)/1e9, delta[:10]/1e6,f[:10]/delta[:10]/2 "
   ]
  },
  {
   "cell_type": "code",
   "execution_count": null,
   "metadata": {},
   "outputs": [],
   "source": [
    "f_ = np.linspace(6.9e9, 7.1e9, 2001)\n",
    "# s11 = sample.get_s21('p1', 'p1', f_)\n",
    "s11 = sample.get_s21('pad-left-0', 'pad-right-0', f_)"
   ]
  },
  {
   "cell_type": "code",
   "execution_count": null,
   "metadata": {},
   "outputs": [],
   "source": [
    "import resonator_tools\n",
    "from resonator_tools.circuit import notch_port, reflection_port"
   ]
  },
  {
   "cell_type": "code",
   "execution_count": null,
   "metadata": {},
   "outputs": [],
   "source": [
    "fitter = notch_port(f_data=f_, z_data_raw=s11)\n",
    "fitter.autofit()"
   ]
  },
  {
   "cell_type": "code",
   "execution_count": null,
   "metadata": {},
   "outputs": [],
   "source": [
    "fitter.plotall()"
   ]
  },
  {
   "cell_type": "code",
   "execution_count": null,
   "metadata": {},
   "outputs": [],
   "source": [
    "fitter.fitresults"
   ]
  },
  {
   "cell_type": "markdown",
   "metadata": {},
   "source": [
    "# Estimate coupling"
   ]
  },
  {
   "cell_type": "code",
   "execution_count": null,
   "metadata": {},
   "outputs": [],
   "source": []
  },
  {
   "cell_type": "code",
   "execution_count": null,
   "metadata": {},
   "outputs": [],
   "source": []
  },
  {
   "cell_type": "markdown",
   "metadata": {},
   "source": [
    "# Tests"
   ]
  },
  {
   "cell_type": "code",
   "execution_count": 10,
   "metadata": {},
   "outputs": [],
   "source": [
    "g5,g6,res= sqd.draw_single_resonator(sqd.sample,sqd.elements,\n",
    "                            sqd.coupler_start+1500, sqd.central_line_y, sqd.coupler_length,\n",
    "                             sqd.resonator_core,sqd.resonator_gap,sqd.resonator_ground,\n",
    "                             sqd.tl_core, sqd.tl_gap, sqd.tl_ground, grounding_width=10,\n",
    "                             closed_end_meander_length=3000,length_left=400,length_right=400,\n",
    "                             open_end_legth=800,\n",
    "                             port_orientation='right', direction_orientation='up')"
   ]
  }
 ],
 "metadata": {
  "kernelspec": {
   "display_name": "Python 3",
   "language": "python",
   "name": "python3"
  },
  "language_info": {
   "codemirror_mode": {
    "name": "ipython",
    "version": 3
   },
   "file_extension": ".py",
   "mimetype": "text/x-python",
   "name": "python",
   "nbconvert_exporter": "python",
   "pygments_lexer": "ipython3",
   "version": "3.8.5"
  }
 },
 "nbformat": 4,
 "nbformat_minor": 4
}
