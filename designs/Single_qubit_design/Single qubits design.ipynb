{
 "cells": [
  {
   "cell_type": "code",
   "execution_count": 1,
   "metadata": {},
   "outputs": [],
   "source": [
    "from importlib import reload\n",
    "import numpy as np\n",
    "from matplotlib import pyplot as plt\n",
    "import Single_qubit_design as sqd"
   ]
  },
  {
   "cell_type": "code",
   "execution_count": 2,
   "metadata": {},
   "outputs": [
    {
     "data": {
      "text/plain": [
       "<module 'Single_qubit_design' from 'D:\\\\Documents-cloud\\\\qubits\\\\simulation\\\\QCreator\\\\designs\\\\Single_qubit_design\\\\Single_qubit_design.py'>"
      ]
     },
     "execution_count": 2,
     "metadata": {},
     "output_type": "execute_result"
    }
   ],
   "source": [
    "reload(sqd)"
   ]
  },
  {
   "cell_type": "markdown",
   "metadata": {},
   "source": [
    "# Draw a qubit design"
   ]
  },
  {
   "cell_type": "code",
   "execution_count": 3,
   "metadata": {},
   "outputs": [],
   "source": [
    "g7,g8= sqd.draw_double_resonator(sqd.sample,sqd.elements,\n",
    "                            sqd.coupler_start+2450, sqd.central_line_y, 150,\n",
    "                             sqd.resonator_core,sqd.resonator_gap,15, \n",
    "                             sqd.tl_core, sqd.tl_gap, sqd.tl_ground, grounding_width=10,\n",
    "                             closed_end_meander_length1=2750,length_left1=100,length_right1=100,\n",
    "                             closed_end_meander_length2=2850,length_left2=100,length_right2=100,\n",
    "                             open_length1=1000,open_length2=1000,orientation='left')"
   ]
  },
  {
   "cell_type": "code",
   "execution_count": 4,
   "metadata": {},
   "outputs": [],
   "source": [
    "g1,g2, par1, par2= sqd.draw_double_resonator_plus_double_qubit(sqd.sample,sqd.elements,\n",
    "                            sqd.coupler_start, sqd.central_line_y, sqd.coupler_length,\n",
    "                             sqd.resonator_core,sqd.resonator_gap,sqd.resonator_ground, \n",
    "                             sqd.tl_core, sqd.tl_gap, sqd.tl_ground, grounding_width=10,\n",
    "                             closed_end_meander_length1=3200,length_left1=350,length_right1=300,\n",
    "                              closed_end_meander_length2=3300,length_left2=300,length_right2=350,\n",
    "                             open_end_shift_length1=400, open_end_shift_length2=400,\n",
    "                             qubit1=sqd.coaxmon1, coupler_name1='coupler2',\n",
    "                             qubit2=sqd.coaxmon2, coupler_name2='coupler2',\n",
    "                             orientation='left')"
   ]
  },
  {
   "cell_type": "code",
   "execution_count": 5,
   "metadata": {},
   "outputs": [],
   "source": [
    "g3,g4, par1, par2= sqd.draw_double_resonator_plus_double_qubit(sqd.sample,sqd.elements,\n",
    "                            sqd.coupler_start+1000, sqd.central_line_y, sqd.coupler_length,\n",
    "                             sqd.resonator_core,sqd.resonator_gap,sqd.resonator_ground, \n",
    "                             sqd.tl_core, sqd.tl_gap, sqd.tl_ground, grounding_width=10,\n",
    "                             closed_end_meander_length1=3400,length_left1=350,length_right1=300,\n",
    "                              closed_end_meander_length2=3500,length_left2=300,length_right2=350,\n",
    "                             open_end_shift_length1=400, open_end_shift_length2=400,\n",
    "                             qubit1=sqd.coaxmon3, coupler_name1='coupler2',\n",
    "                             qubit2=sqd.coaxmon4, coupler_name2='coupler2',\n",
    "                             orientation='left')"
   ]
  },
  {
   "cell_type": "code",
   "execution_count": 6,
   "metadata": {},
   "outputs": [],
   "source": [
    "g5,g6, par1, par2= sqd.draw_double_resonator_plus_double_qubit(sqd.sample,sqd.elements,\n",
    "                            sqd.coupler_start+1900, sqd.central_line_y, sqd.coupler_length,\n",
    "                             sqd.resonator_core,sqd.resonator_gap,sqd.resonator_ground, \n",
    "                             sqd.tl_core, sqd.tl_gap, sqd.tl_ground, grounding_width=10,\n",
    "                             closed_end_meander_length1=3600,length_left1=350,length_right1=300,\n",
    "                              closed_end_meander_length2=3700,length_left2=300,length_right2=350,\n",
    "                             open_end_shift_length1=600, open_end_shift_length2=600,\n",
    "                             qubit1=sqd.xmon2, coupler_name1='crab_up',\n",
    "                             qubit2=sqd.xmon1, coupler_name2='crab_down',\n",
    "                             orientation='left')"
   ]
  },
  {
   "cell_type": "markdown",
   "metadata": {},
   "source": [
    "# Connect resonators into feedline"
   ]
  },
  {
   "cell_type": "code",
   "execution_count": 7,
   "metadata": {},
   "outputs": [
    {
     "data": {
      "text/plain": [
       "CPW \"right TL\", l=68.000"
      ]
     },
     "execution_count": 7,
     "metadata": {},
     "output_type": "execute_result"
    }
   ],
   "source": [
    "sqd.sample.connect_cpw(o1=sqd.p1, o2=g1, port1='port', port2='narrow', name='right TL', points=[])\n",
    "sqd.sample.connect_cpw(o1=g2, o2=g3, port1='narrow', port2='narrow', name='right TL', points=[])\n",
    "sqd.sample.connect_cpw(o1=g4, o2=g5, port1='narrow', port2='narrow', name='right TL', points=[])\n",
    "sqd.sample.connect_cpw(o1=g6, o2=g7, port1='narrow', port2='narrow', name='right TL', points=[])\n",
    "sqd.sample.connect_cpw(o1=g8, o2=sqd.p2, port1='narrow', port2='port', name='right TL', points=[])"
   ]
  },
  {
   "cell_type": "code",
   "execution_count": 8,
   "metadata": {},
   "outputs": [],
   "source": [
    "# sqd.sample.connect_cpw(o1=sqd.p1, o2=g3, port1='port', port2='narrow', name='right TL', points=[])\n",
    "# sqd.sample.connect_cpw(o1=g4, o2=sqd.p2, port1='narrow', port2='port', name='right TL', points=[])"
   ]
  },
  {
   "cell_type": "code",
   "execution_count": 8,
   "metadata": {},
   "outputs": [
    {
     "name": "stderr",
     "output_type": "stream",
     "text": [
      "C:\\ProgramData\\Anaconda3\\envs\\py38\\lib\\site-packages\\gdspy\\path.py:827: UserWarning: [GDSPY] Possible inconsistency found in `FlexPath` due to sharp corner.\n",
      "  warnings.warn(\n"
     ]
    }
   ],
   "source": [
    "sqd.sample.draw_design()\n",
    "sqd.sample.watch()"
   ]
  },
  {
   "cell_type": "markdown",
   "metadata": {},
   "source": [
    "# Connect contact pads"
   ]
  },
  {
   "cell_type": "code",
   "execution_count": 9,
   "metadata": {},
   "outputs": [],
   "source": [
    "flux_pads_coaxmons = [\n",
    "    (sqd.sample.qubits[0], sqd.pads_bottom[0], [((1015, 1077))]),\n",
    "    (sqd.sample.qubits[1], sqd.pads_top[0], [(1047, 3620)]),\n",
    "    (sqd.sample.qubits[2], sqd.pads_bottom[1], [(2000, 1077)]),\n",
    "    (sqd.sample.qubits[3], sqd.pads_top[1], [(2036,3691)])]#[(2076, 3691)])]#[(2030, 3640)])]\n",
    "\n",
    "flux_pads_xmons = [(sqd.sample.qubits[4], sqd.pads_top[2], [(3200, 3768)]),\n",
    "                   (sqd.sample.qubits[5], sqd.pads_bottom[2], [(3200, 922)])]\n",
    "\n",
    "\n",
    "for coaxmon, pad, points in flux_pads_coaxmons:  \n",
    "    flux_line_narrowing_position = np.asarray(coaxmon.terminals['flux'].position)\n",
    "    direction = [np.cos(coaxmon.terminals['flux'].orientation), \n",
    "                 np.sin(coaxmon.terminals['flux'].orientation)]\n",
    "    narrowing_length = 25\n",
    "    flux_line_narrowing_position = flux_line_narrowing_position - np.asarray(direction)*narrowing_length/2\n",
    "    flux_line_narrowing = sqd.elements.Narrowing(name='flux_line_narrowing', position=flux_line_narrowing_position, \n",
    "                                             orientation=coaxmon.terminals['flux'].orientation+np.pi, \n",
    "                                             w1=coaxmon.terminals['flux'].w, \n",
    "                                             s1=coaxmon.terminals['flux'].s, g1=coaxmon.terminals['flux'].g,\n",
    "                                             w2=sqd.tl_core, s2=sqd.tl_gap, g2=sqd.tl_ground, \n",
    "                                             layer_configuration=sqd.sample.layer_configuration, length=narrowing_length)\n",
    "    sqd.sample.add(flux_line_narrowing)\n",
    "    sqd.sample.connect(flux_line_narrowing, 'port1', coaxmon, 'flux')\n",
    "\n",
    "    sqd.sample.connect_cpw(pad, flux_line_narrowing, 'port', 'port2', 'flux_control5', points=points)\n",
    "    \n",
    "for xmon, pad, points in flux_pads_xmons:  \n",
    "    flux_line_narrowing_position = np.asarray(xmon.terminals['flux'].position)\n",
    "    direction = [np.cos(xmon.terminals['flux'].orientation), \n",
    "                 np.sin(xmon.terminals['flux'].orientation)]\n",
    "    narrowing_length = 20\n",
    "    flux_line_narrowing_position = flux_line_narrowing_position - np.asarray(direction)*narrowing_length/2\n",
    "    flux_line_narrowing = sqd.elements.Narrowing(name='flux_line_narrowing', position=flux_line_narrowing_position, \n",
    "                                             orientation=xmon.terminals['flux'].orientation+np.pi, \n",
    "                                             w1=xmon.terminals['flux'].w, \n",
    "                                             s1=xmon.terminals['flux'].s, g1=xmon.terminals['flux'].g,\n",
    "                                             w2=sqd.tl_core, s2=sqd.tl_gap, g2=sqd.tl_ground, \n",
    "                                             layer_configuration=sqd.sample.layer_configuration, length=narrowing_length)\n",
    "    sqd.sample.add(flux_line_narrowing)\n",
    "    sqd.sample.connect(flux_line_narrowing, 'port1', xmon, 'flux')\n",
    "\n",
    "    sqd.sample.connect_cpw(pad, flux_line_narrowing, 'port', 'port2', 'flux_control5', points=points)"
   ]
  },
  {
   "cell_type": "code",
   "execution_count": 11,
   "metadata": {},
   "outputs": [
    {
     "name": "stdout",
     "output_type": "stream",
     "text": [
      "Gds file has been writen here:  D:\\Documents-cloud\\qubits\\simulation\\QCreator\\designs\\Single_qubit_design\\1Q_test.gds\n"
     ]
    }
   ],
   "source": [
    "sqd.sample.write_to_gds()"
   ]
  },
  {
   "cell_type": "markdown",
   "metadata": {},
   "source": [
    "# Simulations"
   ]
  },
  {
   "cell_type": "code",
   "execution_count": 10,
   "metadata": {},
   "outputs": [],
   "source": [
    "sqd.sample.draw_cap()"
   ]
  },
  {
   "cell_type": "code",
   "execution_count": 11,
   "metadata": {},
   "outputs": [
    {
     "name": "stdout",
     "output_type": "stream",
     "text": [
      "Gds file has been writen here:  D:\\Documents-cloud\\qubits\\simulation\\QCreator\\designs\\Single_qubit_design\\1Q_test.gds\n",
      "For 0 conductor total length is:  33887\n",
      "For 1 conductor total length is:  12258\n",
      "For 2 conductor total length is:  2117\n",
      "Sum : 48262\n",
      "Data has been written into the file: D:\\Documents-cloud\\qubits\\simulation\\QCreator\\designs\\Single_qubit_design\\mesh_4k_data\n",
      "Time for fastcap job is:  17.320002555847168\n",
      "Capacitance results have been writen here:  D:\\Documents-cloud\\qubits\\simulation\\QCreator\\designs\\Single_qubit_design\\mesh_4k_results\n",
      "Capacitance value in:  nanofarads\n",
      "[<map object at 0x0000024EFB35DD00>, <map object at 0x0000024EFB35DBE0>, <map object at 0x0000024EFB35DA00>]\n",
      "       0     1     2\n",
      "0  151.2 -46.2 -15.4\n",
      "1  -46.2  64.6  -4.8\n",
      "2  -15.4  -4.8  25.0\n",
      "Gds file has been writen here:  D:\\Documents-cloud\\qubits\\simulation\\QCreator\\designs\\Single_qubit_design\\1Q_test.gds\n",
      "For 0 conductor total length is:  33887\n",
      "For 1 conductor total length is:  12258\n",
      "For 2 conductor total length is:  2117\n",
      "Sum : 48262\n",
      "Data has been written into the file: D:\\Documents-cloud\\qubits\\simulation\\QCreator\\designs\\Single_qubit_design\\mesh_4k_data\n",
      "Time for fastcap job is:  18.359626054763794\n",
      "Capacitance results have been writen here:  D:\\Documents-cloud\\qubits\\simulation\\QCreator\\designs\\Single_qubit_design\\mesh_4k_results\n",
      "Capacitance value in:  nanofarads\n",
      "[<map object at 0x0000024EF7A86A60>, <map object at 0x0000024EFB35D9D0>, <map object at 0x0000024EFB35DBE0>]\n",
      "       0     1     2\n",
      "0  151.2 -46.2 -15.4\n",
      "1  -46.2  64.6  -4.8\n",
      "2  -15.4  -4.8  25.0\n",
      "Gds file has been writen here:  D:\\Documents-cloud\\qubits\\simulation\\QCreator\\designs\\Single_qubit_design\\1Q_test.gds\n",
      "For 0 conductor total length is:  33902\n",
      "For 1 conductor total length is:  12195\n",
      "For 2 conductor total length is:  2105\n",
      "Sum : 48202\n",
      "Data has been written into the file: D:\\Documents-cloud\\qubits\\simulation\\QCreator\\designs\\Single_qubit_design\\mesh_4k_data\n",
      "Time for fastcap job is:  17.98717713356018\n",
      "Capacitance results have been writen here:  D:\\Documents-cloud\\qubits\\simulation\\QCreator\\designs\\Single_qubit_design\\mesh_4k_results\n",
      "Capacitance value in:  nanofarads\n",
      "[<map object at 0x0000024EFABB9D90>, <map object at 0x0000024EFABB9E50>, <map object at 0x0000024EFB35DFD0>]\n",
      "       0     1     2\n",
      "0  151.2 -46.2 -15.4\n",
      "1  -46.2  64.6  -4.8\n",
      "2  -15.4  -4.8  25.0\n",
      "Gds file has been writen here:  D:\\Documents-cloud\\qubits\\simulation\\QCreator\\designs\\Single_qubit_design\\1Q_test.gds\n",
      "For 0 conductor total length is:  33902\n",
      "For 1 conductor total length is:  12195\n",
      "For 2 conductor total length is:  2105\n",
      "Sum : 48202\n",
      "Data has been written into the file: D:\\Documents-cloud\\qubits\\simulation\\QCreator\\designs\\Single_qubit_design\\mesh_4k_data\n",
      "Time for fastcap job is:  18.36733865737915\n",
      "Capacitance results have been writen here:  D:\\Documents-cloud\\qubits\\simulation\\QCreator\\designs\\Single_qubit_design\\mesh_4k_results\n",
      "Capacitance value in:  nanofarads\n",
      "[<map object at 0x0000024EFB35DCD0>, <map object at 0x0000024EFB35DFD0>, <map object at 0x0000024EFB35D5B0>]\n",
      "       0     1     2\n",
      "0  151.2 -46.2 -15.4\n",
      "1  -46.2  64.6  -4.8\n",
      "2  -15.4  -4.8  25.0\n",
      "Gds file has been writen here:  D:\\Documents-cloud\\qubits\\simulation\\QCreator\\designs\\Single_qubit_design\\1Q_test.gds\n",
      "For 0 conductor total length is:  8517\n",
      "For 1 conductor total length is:  3549\n",
      "For 2 conductor total length is:  811\n",
      "Sum : 12877\n",
      "Data has been written into the file: D:\\Documents-cloud\\qubits\\simulation\\QCreator\\designs\\Single_qubit_design\\mesh_4k_data\n",
      "Time for fastcap job is:  3.3096747398376465\n",
      "Capacitance results have been writen here:  D:\\Documents-cloud\\qubits\\simulation\\QCreator\\designs\\Single_qubit_design\\mesh_4k_results\n",
      "Capacitance value in:  nanofarads\n",
      "[<map object at 0x0000024EFB35DE80>, <map object at 0x0000024EFB35DA00>, <map object at 0x0000024EFB35DCD0>]\n",
      "       0     1     2\n",
      "0  145.0 -65.6 -23.1\n",
      "1  -65.6  79.4  -1.6\n",
      "2  -23.1  -1.6  29.4\n",
      "Gds file has been writen here:  D:\\Documents-cloud\\qubits\\simulation\\QCreator\\designs\\Single_qubit_design\\1Q_test.gds\n",
      "For 0 conductor total length is:  8627\n",
      "For 1 conductor total length is:  3553\n",
      "For 2 conductor total length is:  820\n",
      "Sum : 13000\n",
      "Data has been written into the file: D:\\Documents-cloud\\qubits\\simulation\\QCreator\\designs\\Single_qubit_design\\mesh_4k_data\n",
      "Time for fastcap job is:  3.4438891410827637\n",
      "Capacitance results have been writen here:  D:\\Documents-cloud\\qubits\\simulation\\QCreator\\designs\\Single_qubit_design\\mesh_4k_results\n",
      "Capacitance value in:  nanofarads\n",
      "[<map object at 0x0000024EFAB82E50>, <map object at 0x0000024EFAB82850>, <map object at 0x0000024EFAB82880>]\n",
      "       0     1     2\n",
      "0  145.1 -65.6 -23.1\n",
      "1  -65.6  79.4  -1.6\n",
      "2  -23.1  -1.6  29.4\n"
     ]
    }
   ],
   "source": [
    "for i,qubit in enumerate(sqd.sample.qubits):\n",
    "    caps=sqd.sample.calculate_qubit_capacitance(cell= sqd.sample.qubit_cap_cells[i], qubit=sqd.sample.qubits[i],\n",
    "                                       mesh_volume=4)"
   ]
  },
  {
   "cell_type": "code",
   "execution_count": 12,
   "metadata": {},
   "outputs": [
    {
     "name": "stdout",
     "output_type": "stream",
     "text": [
      "('down',)\n",
      "('up',)\n"
     ]
    },
    {
     "name": "stderr",
     "output_type": "stream",
     "text": [
      "C:\\ProgramData\\Anaconda3\\envs\\py38\\lib\\site-packages\\numpy\\core\\_asarray.py:83: VisibleDeprecationWarning: Creating an ndarray from ragged nested sequences (which is a list-or-tuple of lists-or-tuples-or ndarrays with different lengths or shapes) is deprecated. If you meant to do this, you must specify 'dtype=object' when creating the ndarray\n",
      "  return array(a, dtype, copy=False, order=order)\n"
     ]
    }
   ],
   "source": [
    "sys, connections, elements_ = sqd.sample.get_tls()\n",
    "f, delta, modes = sys.get_modes()"
   ]
  },
  {
   "cell_type": "code",
   "execution_count": 21,
   "metadata": {},
   "outputs": [
    {
     "data": {
      "text/plain": [
       "{(CPWCoupler \"TL-resonator coupler\", n=5, l=150.000, 'port1', 0): 1,\n",
       " (RectFanout closed end resonator fanout, n=5, grouping=(1, 4), 'wide', 0): 1,\n",
       " (CPWCoupler \"TL-resonator coupler\", n=5, l=150.000, 'port1', 1): 2,\n",
       " (RectFanout closed end resonator fanout, n=5, grouping=(1, 4), 'wide', 1): 2,\n",
       " (CPWCoupler \"TL-resonator coupler\", n=5, l=150.000, 'port1', 2): 3,\n",
       " (RectFanout closed end resonator fanout, n=5, grouping=(1, 4), 'wide', 2): 3,\n",
       " (CPWCoupler \"TL-resonator coupler\", n=5, l=150.000, 'port1', 3): 4,\n",
       " (RectFanout closed end resonator fanout, n=5, grouping=(1, 4), 'wide', 3): 4,\n",
       " (CPWCoupler \"TL-resonator coupler\", n=5, l=150.000, 'port1', 4): 5,\n",
       " (RectFanout closed end resonator fanout, n=5, grouping=(1, 4), 'wide', 4): 5,\n",
       " (RectFanout closed end resonator fanout, n=5, grouping=(1, 4),\n",
       "  'center',\n",
       "  0): 6,\n",
       " (RectGrounding cl1, 'wide', 0): 6,\n",
       " (RectFanout closed end resonator fanout, n=5, grouping=(1, 4),\n",
       "  'center',\n",
       "  1): 7,\n",
       " (RectGrounding cl1, 'wide', 1): 7,\n",
       " (RectFanout closed end resonator fanout, n=5, grouping=(1, 4),\n",
       "  'center',\n",
       "  2): 8,\n",
       " (RectGrounding cl1, 'wide', 2): 8,\n",
       " (CPW \"closed end 1\", l=2750.301, 'port1', 0): 9,\n",
       " (RectFanout closed end resonator fanout, n=5, grouping=(1, 4), 'down', 0): 9,\n",
       " (CPW \"closed end 2\", l=2850.000, 'port1', 0): 10,\n",
       " (RectFanout closed end resonator fanout, n=5, grouping=(1, 4), 'up', 0): 10,\n",
       " (CPWCoupler \"TL-resonator coupler\", n=5, l=150.000, 'port2', 0): 11,\n",
       " (RectFanout open end resonator fanout, n=5, grouping=(1, 4), 'wide', 4): 11,\n",
       " (CPWCoupler \"TL-resonator coupler\", n=5, l=150.000, 'port2', 1): 12,\n",
       " (RectFanout open end resonator fanout, n=5, grouping=(1, 4), 'wide', 3): 12,\n",
       " (CPWCoupler \"TL-resonator coupler\", n=5, l=150.000, 'port2', 2): 13,\n",
       " (RectFanout open end resonator fanout, n=5, grouping=(1, 4), 'wide', 2): 13,\n",
       " (CPWCoupler \"TL-resonator coupler\", n=5, l=150.000, 'port2', 3): 14,\n",
       " (RectFanout open end resonator fanout, n=5, grouping=(1, 4), 'wide', 1): 14,\n",
       " (CPWCoupler \"TL-resonator coupler\", n=5, l=150.000, 'port2', 4): 15,\n",
       " (RectFanout open end resonator fanout, n=5, grouping=(1, 4), 'wide', 0): 15,\n",
       " (RectFanout open end resonator fanout, n=5, grouping=(1, 4), 'center', 0): 16,\n",
       " (RectGrounding cl2, 'wide', 0): 16,\n",
       " (RectFanout open end resonator fanout, n=5, grouping=(1, 4), 'center', 1): 17,\n",
       " (RectGrounding cl2, 'wide', 1): 17,\n",
       " (RectFanout open end resonator fanout, n=5, grouping=(1, 4), 'center', 2): 18,\n",
       " (RectGrounding cl2, 'wide', 2): 18,\n",
       " (CPW \"right open end\", l=1000.000, 'port1', 0): 19,\n",
       " (RectFanout open end resonator fanout, n=5, grouping=(1, 4), 'down', 0): 19,\n",
       " (CPW \"right open end\", l=1000.000, 'port2', 0): 20,\n",
       " (OpenEnd open end 1, 'wide', 0): 20,\n",
       " (CPW \"right open end\", l=1000.000, 'port1', 0): 21,\n",
       " (RectFanout open end resonator fanout, n=5, grouping=(1, 4), 'up', 0): 21,\n",
       " (CPW \"right open end\", l=1000.000, 'port2', 0): 22,\n",
       " (OpenEnd open end 2, 'wide', 0): 22,\n",
       " (CPW \"closed end 1\", l=2750.301, 'port2', 0): 23,\n",
       " (RectGrounding resonator ground 1, 'wide', 0): 23,\n",
       " (CPW \"closed end 2\", l=2850.000, 'port2', 0): 24,\n",
       " (RectGrounding resonator ground 2, 'wide', 0): 24,\n",
       " (CPWCoupler \"TL-resonator coupler\", n=5, l=320.000, 'port1', 0): 25,\n",
       " (RectFanout closed end resonator fanout, n=5, grouping=(1, 4), 'wide', 0): 25,\n",
       " (CPWCoupler \"TL-resonator coupler\", n=5, l=320.000, 'port1', 1): 26,\n",
       " (RectFanout closed end resonator fanout, n=5, grouping=(1, 4), 'wide', 1): 26,\n",
       " (CPWCoupler \"TL-resonator coupler\", n=5, l=320.000, 'port1', 2): 27,\n",
       " (RectFanout closed end resonator fanout, n=5, grouping=(1, 4), 'wide', 2): 27,\n",
       " (CPWCoupler \"TL-resonator coupler\", n=5, l=320.000, 'port1', 3): 28,\n",
       " (RectFanout closed end resonator fanout, n=5, grouping=(1, 4), 'wide', 3): 28,\n",
       " (CPWCoupler \"TL-resonator coupler\", n=5, l=320.000, 'port1', 4): 29,\n",
       " (RectFanout closed end resonator fanout, n=5, grouping=(1, 4), 'wide', 4): 29,\n",
       " (RectFanout closed end resonator fanout, n=5, grouping=(1, 4),\n",
       "  'center',\n",
       "  0): 30,\n",
       " (RectGrounding cl1, 'wide', 0): 30,\n",
       " (RectFanout closed end resonator fanout, n=5, grouping=(1, 4),\n",
       "  'center',\n",
       "  1): 31,\n",
       " (RectGrounding cl1, 'wide', 1): 31,\n",
       " (RectFanout closed end resonator fanout, n=5, grouping=(1, 4),\n",
       "  'center',\n",
       "  2): 32,\n",
       " (RectGrounding cl1, 'wide', 2): 32,\n",
       " (CPW \"closed end 1\", l=3200.487, 'port1', 0): 33,\n",
       " (RectFanout closed end resonator fanout, n=5, grouping=(1, 4), 'down', 0): 33,\n",
       " (CPW \"closed end 2\", l=3300.000, 'port1', 0): 34,\n",
       " (RectFanout closed end resonator fanout, n=5, grouping=(1, 4), 'up', 0): 34,\n",
       " (CPWCoupler \"TL-resonator coupler\", n=5, l=320.000, 'port2', 0): 35,\n",
       " (RectFanout open end resonator fanout, n=5, grouping=(1, 4), 'wide', 4): 35,\n",
       " (CPWCoupler \"TL-resonator coupler\", n=5, l=320.000, 'port2', 1): 36,\n",
       " (RectFanout open end resonator fanout, n=5, grouping=(1, 4), 'wide', 3): 36,\n",
       " (CPWCoupler \"TL-resonator coupler\", n=5, l=320.000, 'port2', 2): 37,\n",
       " (RectFanout open end resonator fanout, n=5, grouping=(1, 4), 'wide', 2): 37,\n",
       " (CPWCoupler \"TL-resonator coupler\", n=5, l=320.000, 'port2', 3): 38,\n",
       " (RectFanout open end resonator fanout, n=5, grouping=(1, 4), 'wide', 1): 38,\n",
       " (CPWCoupler \"TL-resonator coupler\", n=5, l=320.000, 'port2', 4): 39,\n",
       " (RectFanout open end resonator fanout, n=5, grouping=(1, 4), 'wide', 0): 39,\n",
       " (RectFanout open end resonator fanout, n=5, grouping=(1, 4), 'center', 0): 40,\n",
       " (RectGrounding cl2, 'wide', 0): 40,\n",
       " (RectFanout open end resonator fanout, n=5, grouping=(1, 4), 'center', 1): 41,\n",
       " (RectGrounding cl2, 'wide', 1): 41,\n",
       " (RectFanout open end resonator fanout, n=5, grouping=(1, 4), 'center', 2): 42,\n",
       " (RectGrounding cl2, 'wide', 2): 42,\n",
       " (CPW \"right open end 1\", l=741.092, 'port1', 0): 43,\n",
       " (RectFanout open end resonator fanout, n=5, grouping=(1, 4), 'down', 0): 43,\n",
       " (CPW \"right open end 1\", l=741.092, 'port2', 0): 44,\n",
       " (<QCreator.elements.coaxmon.Coaxmon at 0x29449367700>, 'coupler2', 0): 44,\n",
       " (CPW \"right open end 2\", l=742.962, 'port1', 0): 45,\n",
       " (RectFanout open end resonator fanout, n=5, grouping=(1, 4), 'up', 0): 45,\n",
       " (CPW \"right open end 2\", l=742.962, 'port2', 0): 46,\n",
       " (<QCreator.elements.coaxmon.Coaxmon at 0x29449367730>, 'coupler2', 0): 46,\n",
       " (CPW \"closed end 1\", l=3200.487, 'port2', 0): 47,\n",
       " (RectGrounding resonator ground 1, 'wide', 0): 47,\n",
       " (CPW \"closed end 2\", l=3300.000, 'port2', 0): 48,\n",
       " (RectGrounding resonator ground 2, 'wide', 0): 48,\n",
       " (CPWCoupler \"TL-resonator coupler\", n=5, l=320.000, 'port1', 0): 49,\n",
       " (RectFanout closed end resonator fanout, n=5, grouping=(1, 4), 'wide', 0): 49,\n",
       " (CPWCoupler \"TL-resonator coupler\", n=5, l=320.000, 'port1', 1): 50,\n",
       " (RectFanout closed end resonator fanout, n=5, grouping=(1, 4), 'wide', 1): 50,\n",
       " (CPWCoupler \"TL-resonator coupler\", n=5, l=320.000, 'port1', 2): 51,\n",
       " (RectFanout closed end resonator fanout, n=5, grouping=(1, 4), 'wide', 2): 51,\n",
       " (CPWCoupler \"TL-resonator coupler\", n=5, l=320.000, 'port1', 3): 52,\n",
       " (RectFanout closed end resonator fanout, n=5, grouping=(1, 4), 'wide', 3): 52,\n",
       " (CPWCoupler \"TL-resonator coupler\", n=5, l=320.000, 'port1', 4): 53,\n",
       " (RectFanout closed end resonator fanout, n=5, grouping=(1, 4), 'wide', 4): 53,\n",
       " (RectFanout closed end resonator fanout, n=5, grouping=(1, 4),\n",
       "  'center',\n",
       "  0): 54,\n",
       " (RectGrounding cl1, 'wide', 0): 54,\n",
       " (RectFanout closed end resonator fanout, n=5, grouping=(1, 4),\n",
       "  'center',\n",
       "  1): 55,\n",
       " (RectGrounding cl1, 'wide', 1): 55,\n",
       " (RectFanout closed end resonator fanout, n=5, grouping=(1, 4),\n",
       "  'center',\n",
       "  2): 56,\n",
       " (RectGrounding cl1, 'wide', 2): 56,\n",
       " (CPW \"closed end 1\", l=3400.000, 'port1', 0): 57,\n",
       " (RectFanout closed end resonator fanout, n=5, grouping=(1, 4), 'down', 0): 57,\n",
       " (CPW \"closed end 2\", l=3500.000, 'port1', 0): 58,\n",
       " (RectFanout closed end resonator fanout, n=5, grouping=(1, 4), 'up', 0): 58,\n",
       " (CPWCoupler \"TL-resonator coupler\", n=5, l=320.000, 'port2', 0): 59,\n",
       " (RectFanout open end resonator fanout, n=5, grouping=(1, 4), 'wide', 4): 59,\n",
       " (CPWCoupler \"TL-resonator coupler\", n=5, l=320.000, 'port2', 1): 60,\n",
       " (RectFanout open end resonator fanout, n=5, grouping=(1, 4), 'wide', 3): 60,\n",
       " (CPWCoupler \"TL-resonator coupler\", n=5, l=320.000, 'port2', 2): 61,\n",
       " (RectFanout open end resonator fanout, n=5, grouping=(1, 4), 'wide', 2): 61,\n",
       " (CPWCoupler \"TL-resonator coupler\", n=5, l=320.000, 'port2', 3): 62,\n",
       " (RectFanout open end resonator fanout, n=5, grouping=(1, 4), 'wide', 1): 62,\n",
       " (CPWCoupler \"TL-resonator coupler\", n=5, l=320.000, 'port2', 4): 63,\n",
       " (RectFanout open end resonator fanout, n=5, grouping=(1, 4), 'wide', 0): 63,\n",
       " (RectFanout open end resonator fanout, n=5, grouping=(1, 4), 'center', 0): 64,\n",
       " (RectGrounding cl2, 'wide', 0): 64,\n",
       " (RectFanout open end resonator fanout, n=5, grouping=(1, 4), 'center', 1): 65,\n",
       " (RectGrounding cl2, 'wide', 1): 65,\n",
       " (RectFanout open end resonator fanout, n=5, grouping=(1, 4), 'center', 2): 66,\n",
       " (RectGrounding cl2, 'wide', 2): 66,\n",
       " (CPW \"right open end 1\", l=741.092, 'port1', 0): 67,\n",
       " (RectFanout open end resonator fanout, n=5, grouping=(1, 4), 'down', 0): 67,\n",
       " (CPW \"right open end 1\", l=741.092, 'port2', 0): 68,\n",
       " (<QCreator.elements.coaxmon.Coaxmon at 0x29449367760>, 'coupler2', 0): 68,\n",
       " (CPW \"right open end 2\", l=742.962, 'port1', 0): 69,\n",
       " (RectFanout open end resonator fanout, n=5, grouping=(1, 4), 'up', 0): 69,\n",
       " (CPW \"right open end 2\", l=742.962, 'port2', 0): 70,\n",
       " (<QCreator.elements.coaxmon.Coaxmon at 0x29449367790>, 'coupler2', 0): 70,\n",
       " (CPW \"closed end 1\", l=3400.000, 'port2', 0): 71,\n",
       " (RectGrounding resonator ground 1, 'wide', 0): 71,\n",
       " (CPW \"closed end 2\", l=3500.000, 'port2', 0): 72,\n",
       " (RectGrounding resonator ground 2, 'wide', 0): 72,\n",
       " (CPWCoupler \"TL-resonator coupler\", n=5, l=320.000, 'port1', 0): 73,\n",
       " (RectFanout closed end resonator fanout, n=5, grouping=(1, 4), 'wide', 0): 73,\n",
       " (CPWCoupler \"TL-resonator coupler\", n=5, l=320.000, 'port1', 1): 74,\n",
       " (RectFanout closed end resonator fanout, n=5, grouping=(1, 4), 'wide', 1): 74,\n",
       " (CPWCoupler \"TL-resonator coupler\", n=5, l=320.000, 'port1', 2): 75,\n",
       " (RectFanout closed end resonator fanout, n=5, grouping=(1, 4), 'wide', 2): 75,\n",
       " (CPWCoupler \"TL-resonator coupler\", n=5, l=320.000, 'port1', 3): 76,\n",
       " (RectFanout closed end resonator fanout, n=5, grouping=(1, 4), 'wide', 3): 76,\n",
       " (CPWCoupler \"TL-resonator coupler\", n=5, l=320.000, 'port1', 4): 77,\n",
       " (RectFanout closed end resonator fanout, n=5, grouping=(1, 4), 'wide', 4): 77,\n",
       " (RectFanout closed end resonator fanout, n=5, grouping=(1, 4),\n",
       "  'center',\n",
       "  0): 78,\n",
       " (RectGrounding cl1, 'wide', 0): 78,\n",
       " (RectFanout closed end resonator fanout, n=5, grouping=(1, 4),\n",
       "  'center',\n",
       "  1): 79,\n",
       " (RectGrounding cl1, 'wide', 1): 79,\n",
       " (RectFanout closed end resonator fanout, n=5, grouping=(1, 4),\n",
       "  'center',\n",
       "  2): 80,\n",
       " (RectGrounding cl1, 'wide', 2): 80,\n",
       " (CPW \"closed end 1\", l=3600.000, 'port1', 0): 81,\n",
       " (RectFanout closed end resonator fanout, n=5, grouping=(1, 4), 'down', 0): 81,\n",
       " (CPW \"closed end 2\", l=3700.000, 'port1', 0): 82,\n",
       " (RectFanout closed end resonator fanout, n=5, grouping=(1, 4), 'up', 0): 82,\n",
       " (CPWCoupler \"TL-resonator coupler\", n=5, l=320.000, 'port2', 0): 83,\n",
       " (RectFanout open end resonator fanout, n=5, grouping=(1, 4), 'wide', 4): 83,\n",
       " (CPWCoupler \"TL-resonator coupler\", n=5, l=320.000, 'port2', 1): 84,\n",
       " (RectFanout open end resonator fanout, n=5, grouping=(1, 4), 'wide', 3): 84,\n",
       " (CPWCoupler \"TL-resonator coupler\", n=5, l=320.000, 'port2', 2): 85,\n",
       " (RectFanout open end resonator fanout, n=5, grouping=(1, 4), 'wide', 2): 85,\n",
       " (CPWCoupler \"TL-resonator coupler\", n=5, l=320.000, 'port2', 3): 86,\n",
       " (RectFanout open end resonator fanout, n=5, grouping=(1, 4), 'wide', 1): 86,\n",
       " (CPWCoupler \"TL-resonator coupler\", n=5, l=320.000, 'port2', 4): 87,\n",
       " (RectFanout open end resonator fanout, n=5, grouping=(1, 4), 'wide', 0): 87,\n",
       " (RectFanout open end resonator fanout, n=5, grouping=(1, 4), 'center', 0): 88,\n",
       " (RectGrounding cl2, 'wide', 0): 88,\n",
       " (RectFanout open end resonator fanout, n=5, grouping=(1, 4), 'center', 1): 89,\n",
       " (RectGrounding cl2, 'wide', 1): 89,\n",
       " (RectFanout open end resonator fanout, n=5, grouping=(1, 4), 'center', 2): 90,\n",
       " (RectGrounding cl2, 'wide', 2): 90,\n",
       " (CPW \"right open end 1\", l=864.687, 'port1', 0): 91,\n",
       " (RectFanout open end resonator fanout, n=5, grouping=(1, 4), 'down', 0): 91,\n",
       " (CPW \"right open end 1\", l=864.687, 'port2', 0): 92,\n",
       " (<QCreator.elements.xmon.Xmon at 0x294493677f0>, 'crab_up', 0): 92,\n",
       " (CPW \"right open end 2\", l=864.880, 'port1', 0): 93,\n",
       " (RectFanout open end resonator fanout, n=5, grouping=(1, 4), 'up', 0): 93,\n",
       " (CPW \"right open end 2\", l=864.880, 'port2', 0): 94,\n",
       " (<QCreator.elements.xmon.Xmon at 0x294493677c0>, 'crab_down', 0): 94,\n",
       " (CPW \"closed end 1\", l=3600.000, 'port2', 0): 95,\n",
       " (RectGrounding resonator ground 1, 'wide', 0): 95,\n",
       " (CPW \"closed end 2\", l=3700.000, 'port2', 0): 96,\n",
       " (RectGrounding resonator ground 2, 'wide', 0): 96,\n",
       " (CPW \"right TL\", l=368.000, 'port1', 0): 97,\n",
       " (<QCreator.elements.pad.Pad at 0x294493672e0>, 'port', 0): 97,\n",
       " (CPW \"right TL\", l=368.000, 'port2', 0): 98,\n",
       " (RectGrounding cl1, 'narrow', 0): 98,\n",
       " (CPW \"right TL\", l=616.000, 'port1', 0): 99,\n",
       " (RectGrounding cl2, 'narrow', 0): 99,\n",
       " (CPW \"right TL\", l=616.000, 'port2', 0): 100,\n",
       " (RectGrounding cl1, 'narrow', 0): 100,\n",
       " (CPW \"right TL\", l=516.000, 'port1', 0): 101,\n",
       " (RectGrounding cl2, 'narrow', 0): 101,\n",
       " (CPW \"right TL\", l=516.000, 'port2', 0): 102,\n",
       " (RectGrounding cl1, 'narrow', 0): 102,\n",
       " (CPW \"right TL\", l=166.000, 'port1', 0): 103,\n",
       " (RectGrounding cl2, 'narrow', 0): 103,\n",
       " (CPW \"right TL\", l=166.000, 'port2', 0): 104,\n",
       " (RectGrounding cl1, 'narrow', 0): 104,\n",
       " (CPW \"right TL\", l=68.000, 'port1', 0): 105,\n",
       " (RectGrounding cl2, 'narrow', 0): 105,\n",
       " (CPW \"right TL\", l=68.000, 'port2', 0): 106,\n",
       " (<QCreator.elements.pad.Pad at 0x294493672b0>, 'port', 0): 106,\n",
       " (CPW \"flux_control5\", l=547.953, 'port1', 0): 107,\n",
       " (<QCreator.elements.pad.Pad at 0x29449367340>, 'port', 0): 107,\n",
       " (CPW \"flux_control5\", l=547.953, 'port2', 0): 108,\n",
       " (<QCreator.elements.cpw.Narrowing at 0x29449f312e0>, 'port2', 0): 108,\n",
       " (CPW \"flux_control5\", l=524.225, 'port1', 0): 109,\n",
       " (<QCreator.elements.pad.Pad at 0x294493673d0>, 'port', 0): 109,\n",
       " (CPW \"flux_control5\", l=524.225, 'port2', 0): 110,\n",
       " (<QCreator.elements.cpw.Narrowing at 0x29449f313a0>, 'port2', 0): 110,\n",
       " (CPW \"flux_control5\", l=618.510, 'port1', 0): 111,\n",
       " (<QCreator.elements.pad.Pad at 0x29449367400>, 'port', 0): 111,\n",
       " (CPW \"flux_control5\", l=618.510, 'port2', 0): 112,\n",
       " (<QCreator.elements.cpw.Narrowing at 0x29449f31520>, 'port2', 0): 112,\n",
       " (CPW \"flux_control5\", l=607.542, 'port1', 0): 113,\n",
       " (<QCreator.elements.pad.Pad at 0x29449367490>, 'port', 0): 113,\n",
       " (CPW \"flux_control5\", l=607.542, 'port2', 0): 114,\n",
       " (<QCreator.elements.cpw.Narrowing at 0x29449f31040>, 'port2', 0): 114,\n",
       " (CPW \"flux_control5\", l=508.164, 'port1', 0): 115,\n",
       " (<QCreator.elements.pad.Pad at 0x29449367550>, 'port', 0): 115,\n",
       " (CPW \"flux_control5\", l=508.164, 'port2', 0): 116,\n",
       " (<QCreator.elements.cpw.Narrowing at 0x29449f312b0>, 'port2', 0): 116,\n",
       " (CPW \"flux_control5\", l=509.868, 'port1', 0): 117,\n",
       " (<QCreator.elements.pad.Pad at 0x294493674f0>, 'port', 0): 117,\n",
       " (CPW \"flux_control5\", l=509.868, 'port2', 0): 118,\n",
       " (<QCreator.elements.cpw.Narrowing at 0x29449f31910>, 'port2', 0): 118,\n",
       " (<QCreator.elements.coaxmon.Coaxmon at 0x29449367700>, 'qubit', 0): 119,\n",
       " (<QCreator.elements.coaxmon.Coaxmon at 0x29449367700>, 'flux', 0): 120,\n",
       " (<QCreator.elements.coaxmon.Coaxmon at 0x29449367730>, 'qubit', 0): 121,\n",
       " (<QCreator.elements.coaxmon.Coaxmon at 0x29449367730>, 'flux', 0): 122,\n",
       " (<QCreator.elements.coaxmon.Coaxmon at 0x29449367760>, 'qubit', 0): 123,\n",
       " (<QCreator.elements.coaxmon.Coaxmon at 0x29449367760>, 'flux', 0): 124,\n",
       " (<QCreator.elements.coaxmon.Coaxmon at 0x29449367790>, 'qubit', 0): 125,\n",
       " (<QCreator.elements.coaxmon.Coaxmon at 0x29449367790>, 'flux', 0): 126,\n",
       " (<QCreator.elements.xmon.Xmon at 0x294493677c0>, 'crab_left', 0): 127,\n",
       " (<QCreator.elements.xmon.Xmon at 0x294493677c0>, 'crab_right', 0): 128,\n",
       " (<QCreator.elements.xmon.Xmon at 0x294493677c0>, 'crab_up', 0): 129,\n",
       " (<QCreator.elements.xmon.Xmon at 0x294493677c0>, 'flux', 0): 130,\n",
       " (<QCreator.elements.xmon.Xmon at 0x294493677c0>, 'qubit', 0): 131,\n",
       " (<QCreator.elements.xmon.Xmon at 0x294493677f0>, 'crab_left', 0): 132,\n",
       " (<QCreator.elements.xmon.Xmon at 0x294493677f0>, 'crab_right', 0): 133,\n",
       " (<QCreator.elements.xmon.Xmon at 0x294493677f0>, 'crab_down', 0): 134,\n",
       " (<QCreator.elements.xmon.Xmon at 0x294493677f0>, 'flux', 0): 135,\n",
       " (<QCreator.elements.xmon.Xmon at 0x294493677f0>, 'qubit', 0): 136,\n",
       " (RectFanout closed end resonator fanout, n=5, grouping=(1, 4),\n",
       "  'middle',\n",
       "  0): 137,\n",
       " (RectFanout closed end resonator fanout, n=5, grouping=(1, 4),\n",
       "  'middle',\n",
       "  1): 138,\n",
       " (RectFanout closed end resonator fanout, n=5, grouping=(1, 4),\n",
       "  'middle',\n",
       "  2): 139,\n",
       " (RectFanout closed end resonator fanout, n=5, grouping=(1, 4),\n",
       "  'middle',\n",
       "  3): 140,\n",
       " (RectFanout closed end resonator fanout, n=5, grouping=(1, 4),\n",
       "  'middle',\n",
       "  4): 141,\n",
       " (RectFanout open end resonator fanout, n=5, grouping=(1, 4),\n",
       "  'middle',\n",
       "  0): 142,\n",
       " (RectFanout open end resonator fanout, n=5, grouping=(1, 4),\n",
       "  'middle',\n",
       "  1): 143,\n",
       " (RectFanout open end resonator fanout, n=5, grouping=(1, 4),\n",
       "  'middle',\n",
       "  2): 144,\n",
       " (RectFanout open end resonator fanout, n=5, grouping=(1, 4),\n",
       "  'middle',\n",
       "  3): 145,\n",
       " (RectFanout open end resonator fanout, n=5, grouping=(1, 4),\n",
       "  'middle',\n",
       "  4): 146,\n",
       " (RectFanout closed end resonator fanout, n=5, grouping=(1, 4),\n",
       "  'middle',\n",
       "  0): 147,\n",
       " (RectFanout closed end resonator fanout, n=5, grouping=(1, 4),\n",
       "  'middle',\n",
       "  1): 148,\n",
       " (RectFanout closed end resonator fanout, n=5, grouping=(1, 4),\n",
       "  'middle',\n",
       "  2): 149,\n",
       " (RectFanout closed end resonator fanout, n=5, grouping=(1, 4),\n",
       "  'middle',\n",
       "  3): 150,\n",
       " (RectFanout closed end resonator fanout, n=5, grouping=(1, 4),\n",
       "  'middle',\n",
       "  4): 151,\n",
       " (RectFanout open end resonator fanout, n=5, grouping=(1, 4),\n",
       "  'middle',\n",
       "  0): 152,\n",
       " (RectFanout open end resonator fanout, n=5, grouping=(1, 4),\n",
       "  'middle',\n",
       "  1): 153,\n",
       " (RectFanout open end resonator fanout, n=5, grouping=(1, 4),\n",
       "  'middle',\n",
       "  2): 154,\n",
       " (RectFanout open end resonator fanout, n=5, grouping=(1, 4),\n",
       "  'middle',\n",
       "  3): 155,\n",
       " (RectFanout open end resonator fanout, n=5, grouping=(1, 4),\n",
       "  'middle',\n",
       "  4): 156,\n",
       " (RectFanout closed end resonator fanout, n=5, grouping=(1, 4),\n",
       "  'middle',\n",
       "  0): 157,\n",
       " (RectFanout closed end resonator fanout, n=5, grouping=(1, 4),\n",
       "  'middle',\n",
       "  1): 158,\n",
       " (RectFanout closed end resonator fanout, n=5, grouping=(1, 4),\n",
       "  'middle',\n",
       "  2): 159,\n",
       " (RectFanout closed end resonator fanout, n=5, grouping=(1, 4),\n",
       "  'middle',\n",
       "  3): 160,\n",
       " (RectFanout closed end resonator fanout, n=5, grouping=(1, 4),\n",
       "  'middle',\n",
       "  4): 161,\n",
       " (RectFanout open end resonator fanout, n=5, grouping=(1, 4),\n",
       "  'middle',\n",
       "  0): 162,\n",
       " (RectFanout open end resonator fanout, n=5, grouping=(1, 4),\n",
       "  'middle',\n",
       "  1): 163,\n",
       " (RectFanout open end resonator fanout, n=5, grouping=(1, 4),\n",
       "  'middle',\n",
       "  2): 164,\n",
       " (RectFanout open end resonator fanout, n=5, grouping=(1, 4),\n",
       "  'middle',\n",
       "  3): 165,\n",
       " (RectFanout open end resonator fanout, n=5, grouping=(1, 4),\n",
       "  'middle',\n",
       "  4): 166,\n",
       " (RectFanout closed end resonator fanout, n=5, grouping=(1, 4),\n",
       "  'middle',\n",
       "  0): 167,\n",
       " (RectFanout closed end resonator fanout, n=5, grouping=(1, 4),\n",
       "  'middle',\n",
       "  1): 168,\n",
       " (RectFanout closed end resonator fanout, n=5, grouping=(1, 4),\n",
       "  'middle',\n",
       "  2): 169,\n",
       " (RectFanout closed end resonator fanout, n=5, grouping=(1, 4),\n",
       "  'middle',\n",
       "  3): 170,\n",
       " (RectFanout closed end resonator fanout, n=5, grouping=(1, 4),\n",
       "  'middle',\n",
       "  4): 171,\n",
       " (RectFanout open end resonator fanout, n=5, grouping=(1, 4),\n",
       "  'middle',\n",
       "  0): 172,\n",
       " (RectFanout open end resonator fanout, n=5, grouping=(1, 4),\n",
       "  'middle',\n",
       "  1): 173,\n",
       " (RectFanout open end resonator fanout, n=5, grouping=(1, 4),\n",
       "  'middle',\n",
       "  2): 174,\n",
       " (RectFanout open end resonator fanout, n=5, grouping=(1, 4),\n",
       "  'middle',\n",
       "  3): 175,\n",
       " (RectFanout open end resonator fanout, n=5, grouping=(1, 4),\n",
       "  'middle',\n",
       "  4): 176,\n",
       " (<QCreator.elements.cpw.Narrowing at 0x29449f312e0>, 'port1', 0): 177,\n",
       " (<QCreator.elements.cpw.Narrowing at 0x29449f313a0>, 'port1', 0): 178,\n",
       " (<QCreator.elements.cpw.Narrowing at 0x29449f31520>, 'port1', 0): 179,\n",
       " (<QCreator.elements.cpw.Narrowing at 0x29449f31040>, 'port1', 0): 180,\n",
       " (<QCreator.elements.cpw.Narrowing at 0x29449f312b0>, 'port1', 0): 181,\n",
       " (<QCreator.elements.cpw.Narrowing at 0x29449f31910>, 'port1', 0): 182}"
      ]
     },
     "execution_count": 21,
     "metadata": {},
     "output_type": "execute_result"
    }
   ],
   "source": [
    "connections"
   ]
  },
  {
   "cell_type": "code",
   "execution_count": 13,
   "metadata": {},
   "outputs": [
    {
     "name": "stdout",
     "output_type": "stream",
     "text": [
      "Resonance frequencies are, GHz/2pi: [4.5646054  4.56462902 4.92754409 4.92786994 4.92816427 4.92841241\n",
      " 5.82298671 5.93784549 6.23048763 6.3594493  6.4989762  6.63882184\n",
      " 7.39054578 7.5763216 ]\n",
      "Kappas are, MHz/2pi: [0.00709107 0.00708637 0.00871181 0.00863901 0.00860897 0.00855075\n",
      " 0.18132072 0.20679474 0.22132959 0.25493026 0.25516819 0.29312797\n",
      " 0.02772073 0.03031085]\n",
      "Quality factors are: [321856.09930166 322071.04342851 282808.23974009 285210.26556955\n",
      " 286222.54557678 288185.93169526  16057.1461125   14356.85841491\n",
      "  14075.1345606   12472.91987277  12734.691101    11324.10161642\n",
      " 133303.59811409 124977.07176211]\n"
     ]
    }
   ],
   "source": [
    "num_modes=18\n",
    "(res_fr,kappa,_)=sqd.search_for_resonators_qubits(f,delta,0,15)[:num_modes]"
   ]
  },
  {
   "cell_type": "code",
   "execution_count": 13,
   "metadata": {},
   "outputs": [
    {
     "name": "stdout",
     "output_type": "stream",
     "text": [
      "Resonance frequencies are, GHz/2pi: [4.56460532 4.56462894 4.92754398 4.92786982 4.92816416 4.9284123\n",
      " 5.82298671 5.93784549 6.23048763 6.3594493  6.4989762  6.63882183\n",
      " 7.39054578 7.5763216 ]\n",
      "Kappas are, MHz/2pi: [3.44802262e-05 2.93657851e-05 5.24749212e-04 4.45742130e-04\n",
      " 4.09203406e-04 3.46428603e-04 1.81316763e-01 2.06791146e-01\n",
      " 2.21274493e-01 2.54880858e-01 2.55123590e-01 2.93087135e-01\n",
      " 2.77207285e-02 3.03108445e-02]\n",
      "Quality factors are: [6.61916382e+07 7.77201923e+07 4.69514185e+06 5.52771378e+06\n",
      " 6.02165584e+06 7.11317175e+06 1.60574968e+04 1.43571077e+04\n",
      " 1.40786395e+04 1.24753372e+04 1.27369174e+04 1.13256794e+04\n",
      " 1.33303600e+05 1.24977079e+05]\n"
     ]
    }
   ],
   "source": [
    "num_modes=18\n",
    "(res_fr,kappa,_)=sqd.search_for_resonators_qubits(f,delta,0,15)[:num_modes]"
   ]
  },
  {
   "cell_type": "code",
   "execution_count": 14,
   "metadata": {},
   "outputs": [
    {
     "data": {
      "text/plain": [
       "(array([ 4.5646054 ,  4.56462902,  4.92754409,  4.92786994,  4.92816427,\n",
       "         4.92841241,  5.82298671,  5.93784549,  6.23048763,  6.3594493 ,\n",
       "         6.4989762 ,  6.63882184,  7.39054578,  7.5763216 , 17.44812088,\n",
       "        17.79435768, 18.65625426, 19.04533686]),\n",
       " array([ 0.04455448,  0.04452497,  0.05473793,  0.05428051,  0.05409177,\n",
       "         0.05372595,  1.13927171,  1.29932965,  1.39065485,  1.60177403,\n",
       "         1.60326903,  1.84177735,  0.17417448,  0.19044866, 12.88652894,\n",
       "        10.63503671, 15.04604638, 12.57226923]),\n",
       " array([321856.09930166, 322071.04342851, 282808.23974009, 285210.26556955,\n",
       "        286222.54557678, 288185.93169526,  16057.1461125 ,  14356.85841491,\n",
       "         14075.1345606 ,  12472.91987277,  12734.691101  ,  11324.10161642,\n",
       "        133303.59811409, 124977.07176211,   4253.65811361,   5256.45795861,\n",
       "          3895.39881928,   4759.10030713]))"
      ]
     },
     "execution_count": 14,
     "metadata": {},
     "output_type": "execute_result"
    }
   ],
   "source": [
    "num_modes=18\n",
    "f[:num_modes]/(2*np.pi)/1e9, delta[:num_modes]/1e6,f[:num_modes]/delta[:num_modes]/2 "
   ]
  },
  {
   "cell_type": "code",
   "execution_count": 14,
   "metadata": {},
   "outputs": [
    {
     "data": {
      "text/plain": [
       "(array([ 4.56460532,  4.56462894,  4.92754398,  4.92786982,  4.92816416,\n",
       "         4.9284123 ,  5.82298671,  5.93784549,  6.23048763,  6.3594493 ,\n",
       "         6.4989762 ,  6.63882183,  7.39054578,  7.5763216 , 17.44812088,\n",
       "        17.79435768, 18.65625426, 19.04533686]),\n",
       " array([2.16645651e-04, 1.84510670e-04, 3.29709654e-03, 2.80068040e-03,\n",
       "        2.57110083e-03, 2.17667511e-03, 1.13924682e+00, 1.29930709e+00,\n",
       "        1.39030864e+00, 1.60146366e+00, 1.60298879e+00, 1.84152078e+00,\n",
       "        1.74174474e-01, 1.90448653e-01, 1.28865247e+01, 1.06350326e+01,\n",
       "        1.50459927e+01, 1.25722149e+01]),\n",
       " array([6.61916382e+07, 7.77201923e+07, 4.69514185e+06, 5.52771378e+06,\n",
       "        6.02165584e+06, 7.11317175e+06, 1.60574968e+04, 1.43571077e+04,\n",
       "        1.40786395e+04, 1.24753372e+04, 1.27369174e+04, 1.13256794e+04,\n",
       "        1.33303600e+05, 1.24977079e+05, 4.25365950e+03, 5.25645998e+03,\n",
       "        3.89541273e+03, 4.75912088e+03]))"
      ]
     },
     "execution_count": 14,
     "metadata": {},
     "output_type": "execute_result"
    }
   ],
   "source": [
    "num_modes=18\n",
    "f[:num_modes]/(2*np.pi)/1e9, delta[:num_modes]/1e6,f[:num_modes]/delta[:num_modes]/2 "
   ]
  },
  {
   "cell_type": "markdown",
   "metadata": {},
   "source": [
    "# Get s21 parameters"
   ]
  },
  {
   "cell_type": "code",
   "execution_count": null,
   "metadata": {},
   "outputs": [],
   "source": [
    "f_ = np.linspace(6.9e9, 7.1e9, 2001)\n",
    "# s11 = sample.get_s21('p1', 'p1', f_)\n",
    "s11 = sample.get_s21('pad-left-0', 'pad-right-0', f_)"
   ]
  },
  {
   "cell_type": "code",
   "execution_count": null,
   "metadata": {},
   "outputs": [],
   "source": [
    "import resonator_tools\n",
    "from resonator_tools.circuit import notch_port, reflection_port"
   ]
  },
  {
   "cell_type": "code",
   "execution_count": null,
   "metadata": {},
   "outputs": [],
   "source": [
    "fitter = notch_port(f_data=f_, z_data_raw=s11)\n",
    "fitter.autofit()"
   ]
  },
  {
   "cell_type": "code",
   "execution_count": null,
   "metadata": {},
   "outputs": [],
   "source": [
    "fitter.plotall()"
   ]
  },
  {
   "cell_type": "code",
   "execution_count": null,
   "metadata": {},
   "outputs": [],
   "source": [
    "fitter.fitresults"
   ]
  },
  {
   "cell_type": "markdown",
   "metadata": {},
   "source": [
    "# Estimate qubit-resonator parameters"
   ]
  },
  {
   "cell_type": "code",
   "execution_count": 9,
   "metadata": {},
   "outputs": [],
   "source": [
    "rfr_ind=2\n",
    "qfr_ind=0"
   ]
  },
  {
   "cell_type": "code",
   "execution_count": 10,
   "metadata": {},
   "outputs": [
    {
     "data": {
      "text/plain": [
       "{'g': (97.56920699063008, 'MHz/2pi')}"
      ]
     },
     "execution_count": 10,
     "metadata": {},
     "output_type": "execute_result"
    }
   ],
   "source": [
    "sqd.get_grounded_qubit_resonator_coupling(par1,sqd.coaxmon1,'coupler2',res_fr[rfr_ind],res_fr[qfr_ind])"
   ]
  },
  {
   "cell_type": "code",
   "execution_count": 11,
   "metadata": {},
   "outputs": [
    {
     "name": "stdout",
     "output_type": "stream",
     "text": [
      "Qubit- resonator detuning: -0.49145585956066373\n"
     ]
    },
    {
     "data": {
      "text/plain": [
       "{'g': (97.56920699063008, 'MHz/2pi'),\n",
       " 'alpha': (-279.1099326319758, 'MHz/2pi'),\n",
       " 'chi': (-7.016274947557198, 'MHz/2pi'),\n",
       " 'T': (16.46560784708201, 'us'),\n",
       " 'protection ratio': 25.371344627775542}"
      ]
     },
     "execution_count": 11,
     "metadata": {},
     "output_type": "execute_result"
    }
   ],
   "source": [
    "sqd.get_grounded_qubit_resonator_parameters(par1,sqd.coaxmon1,'coupler2',res_fr[rfr_ind],res_fr[qfr_ind],kappa[rfr_ind])"
   ]
  },
  {
   "cell_type": "code",
   "execution_count": 12,
   "metadata": {},
   "outputs": [
    {
     "name": "stdout",
     "output_type": "stream",
     "text": [
      "From AWR protection ratio is: 28.397216442594896\n"
     ]
    }
   ],
   "source": [
    "print(\"From AWR protection ratio is:\", kappa[rfr_ind]/kappa[qfr_ind])"
   ]
  },
  {
   "cell_type": "markdown",
   "metadata": {},
   "source": [
    "# Tests"
   ]
  },
  {
   "cell_type": "code",
   "execution_count": 10,
   "metadata": {},
   "outputs": [],
   "source": [
    "g5,g6,res= sqd.draw_single_resonator(sqd.sample,sqd.elements,\n",
    "                            sqd.coupler_start+1500, sqd.central_line_y, sqd.coupler_length,\n",
    "                             sqd.resonator_core,sqd.resonator_gap,sqd.resonator_ground,\n",
    "                             sqd.tl_core, sqd.tl_gap, sqd.tl_ground, grounding_width=10,\n",
    "                             closed_end_meander_length=3000,length_left=400,length_right=400,\n",
    "                             open_end_legth=800,\n",
    "                             port_orientation='right', direction_orientation='up')"
   ]
  }
 ],
 "metadata": {
  "kernelspec": {
   "display_name": "Python 3",
   "language": "python",
   "name": "python3"
  },
  "language_info": {
   "codemirror_mode": {
    "name": "ipython",
    "version": 3
   },
   "file_extension": ".py",
   "mimetype": "text/x-python",
   "name": "python",
   "nbconvert_exporter": "python",
   "pygments_lexer": "ipython3",
   "version": "3.8.5"
  }
 },
 "nbformat": 4,
 "nbformat_minor": 4
}
