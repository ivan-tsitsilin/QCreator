{
 "cells": [
  {
   "cell_type": "code",
   "execution_count": 1,
   "metadata": {},
   "outputs": [],
   "source": [
    "from importlib import reload\n",
    "import numpy as np\n",
    "from matplotlib import pyplot as plt\n",
    "import Single_qubit_design as sqd"
   ]
  },
  {
   "cell_type": "code",
   "execution_count": 2,
   "metadata": {},
   "outputs": [
    {
     "data": {
      "text/plain": [
       "<module 'Single_qubit_design' from 'D:\\\\Documents-cloud\\\\qubits\\\\simulation\\\\QCreator\\\\designs\\\\Single_qubit_design\\\\Single_qubit_design.py'>"
      ]
     },
     "execution_count": 2,
     "metadata": {},
     "output_type": "execute_result"
    }
   ],
   "source": [
    "reload(sqd)"
   ]
  },
  {
   "cell_type": "markdown",
   "metadata": {},
   "source": [
    "# Draw a qubit design"
   ]
  },
  {
   "cell_type": "code",
   "execution_count": 3,
   "metadata": {},
   "outputs": [],
   "source": [
    "g7,g8= sqd.draw_double_resonator(sqd.sample,sqd.elements,\n",
    "                            sqd.coupler_start+2450, sqd.central_line_y, 150,\n",
    "                             sqd.resonator_core,sqd.resonator_gap,15, \n",
    "                             sqd.tl_core, sqd.tl_gap, sqd.tl_ground, grounding_width=10,\n",
    "                             closed_end_meander_length1=2750,length_left1=100,length_right1=100,\n",
    "                             closed_end_meander_length2=2850,length_left2=100,length_right2=100,\n",
    "                             open_length1=1000,open_length2=1000,orientation='left')"
   ]
  },
  {
   "cell_type": "code",
   "execution_count": 4,
   "metadata": {},
   "outputs": [],
   "source": [
    "g1,g2, par1, par2= sqd.draw_double_resonator_plus_double_qubit(sqd.sample,sqd.elements,\n",
    "                            sqd.coupler_start, sqd.central_line_y, sqd.coupler_length,\n",
    "                             sqd.resonator_core,sqd.resonator_gap,sqd.resonator_ground, \n",
    "                             sqd.tl_core, sqd.tl_gap, sqd.tl_ground, grounding_width=10,\n",
    "                             closed_end_meander_length1=3200,length_left1=350,length_right1=300,\n",
    "                              closed_end_meander_length2=3300,length_left2=300,length_right2=350,\n",
    "                             open_end_shift_length1=400, open_end_shift_length2=400,\n",
    "                             qubit1=sqd.coaxmon1, coupler_name1='coupler2',\n",
    "                             qubit2=sqd.coaxmon2, coupler_name2='coupler2',\n",
    "                             orientation='left')"
   ]
  },
  {
   "cell_type": "code",
   "execution_count": 5,
   "metadata": {},
   "outputs": [],
   "source": [
    "g3,g4, par1, par2= sqd.draw_double_resonator_plus_double_qubit(sqd.sample,sqd.elements,\n",
    "                            sqd.coupler_start+1000, sqd.central_line_y, sqd.coupler_length,\n",
    "                             sqd.resonator_core,sqd.resonator_gap,sqd.resonator_ground, \n",
    "                             sqd.tl_core, sqd.tl_gap, sqd.tl_ground, grounding_width=10,\n",
    "                             closed_end_meander_length1=3400,length_left1=350,length_right1=300,\n",
    "                              closed_end_meander_length2=3500,length_left2=300,length_right2=350,\n",
    "                             open_end_shift_length1=400, open_end_shift_length2=400,\n",
    "                             qubit1=sqd.coaxmon3, coupler_name1='coupler2',\n",
    "                             qubit2=sqd.coaxmon4, coupler_name2='coupler2',\n",
    "                             orientation='left')"
   ]
  },
  {
   "cell_type": "code",
   "execution_count": 6,
   "metadata": {},
   "outputs": [],
   "source": [
    "g5,g6, par1, par2= sqd.draw_double_resonator_plus_double_qubit(sqd.sample,sqd.elements,\n",
    "                            sqd.coupler_start+1900, sqd.central_line_y, sqd.coupler_length,\n",
    "                             sqd.resonator_core,sqd.resonator_gap,sqd.resonator_ground, \n",
    "                             sqd.tl_core, sqd.tl_gap, sqd.tl_ground, grounding_width=10,\n",
    "                             closed_end_meander_length1=3600,length_left1=350,length_right1=300,\n",
    "                              closed_end_meander_length2=3700,length_left2=300,length_right2=350,\n",
    "                             open_end_shift_length1=600, open_end_shift_length2=600,\n",
    "                             qubit1=sqd.xmon2, coupler_name1='crab_up',\n",
    "                             qubit2=sqd.xmon1, coupler_name2='crab_down',\n",
    "                             orientation='left')"
   ]
  },
  {
   "cell_type": "markdown",
   "metadata": {},
   "source": [
    "# Connect resonators into feedline"
   ]
  },
  {
   "cell_type": "code",
   "execution_count": 7,
   "metadata": {},
   "outputs": [
    {
     "data": {
      "text/plain": [
       "CPW \"right TL\", l=68.000"
      ]
     },
     "execution_count": 7,
     "metadata": {},
     "output_type": "execute_result"
    }
   ],
   "source": [
    "sqd.sample.connect_cpw(o1=sqd.p1, o2=g1, port1='port', port2='narrow', name='right TL', points=[])\n",
    "sqd.sample.connect_cpw(o1=g2, o2=g3, port1='narrow', port2='narrow', name='right TL', points=[])\n",
    "sqd.sample.connect_cpw(o1=g4, o2=g5, port1='narrow', port2='narrow', name='right TL', points=[])\n",
    "sqd.sample.connect_cpw(o1=g6, o2=g7, port1='narrow', port2='narrow', name='right TL', points=[])\n",
    "sqd.sample.connect_cpw(o1=g8, o2=sqd.p2, port1='narrow', port2='port', name='right TL', points=[])"
   ]
  },
  {
   "cell_type": "code",
   "execution_count": 8,
   "metadata": {},
   "outputs": [],
   "source": [
    "# sqd.sample.connect_cpw(o1=sqd.p1, o2=g3, port1='port', port2='narrow', name='right TL', points=[])\n",
    "# sqd.sample.connect_cpw(o1=g4, o2=sqd.p2, port1='narrow', port2='port', name='right TL', points=[])"
   ]
  },
  {
   "cell_type": "code",
   "execution_count": 9,
   "metadata": {},
   "outputs": [
    {
     "name": "stderr",
     "output_type": "stream",
     "text": [
      "C:\\ProgramData\\Anaconda3\\envs\\py38\\lib\\site-packages\\gdspy\\path.py:827: UserWarning: [GDSPY] Possible inconsistency found in `FlexPath` due to sharp corner.\n",
      "  warnings.warn(\n"
     ]
    }
   ],
   "source": [
    "sqd.sample.draw_design()\n",
    "sqd.sample.watch()"
   ]
  },
  {
   "cell_type": "code",
   "execution_count": 10,
   "metadata": {},
   "outputs": [
    {
     "name": "stdout",
     "output_type": "stream",
     "text": [
      "Gds file has been writen here:  D:\\Documents-cloud\\qubits\\simulation\\QCreator\\designs\\Single_qubit_design\\1Q_test.gds\n",
      "For 0 conductor total length is:  33887\n",
      "For 1 conductor total length is:  12258\n",
      "For 2 conductor total length is:  2117\n",
      "Sum : 48262\n",
      "Data has been written into the file: D:\\Documents-cloud\\qubits\\simulation\\QCreator\\designs\\Single_qubit_design\\mesh_4k_data\n",
      "Time for fastcap job is:  6.72308611869812\n",
      "Capacitance results have been writen here:  D:\\Documents-cloud\\qubits\\simulation\\QCreator\\designs\\Single_qubit_design\\mesh_4k_results\n",
      "Capacitance value in:  nanofarads\n",
      "[<map object at 0x0000029761CE76D0>, <map object at 0x0000029761CE7970>, <map object at 0x0000029761CE7A30>]\n",
      "       0     1     2\n",
      "0  151.2 -46.2 -15.4\n",
      "1  -46.2  64.6  -4.8\n",
      "2  -15.4  -4.8  25.0\n",
      "Gds file has been writen here:  D:\\Documents-cloud\\qubits\\simulation\\QCreator\\designs\\Single_qubit_design\\1Q_test.gds\n",
      "For 0 conductor total length is:  33887\n",
      "For 1 conductor total length is:  12258\n",
      "For 2 conductor total length is:  2117\n",
      "Sum : 48262\n",
      "Data has been written into the file: D:\\Documents-cloud\\qubits\\simulation\\QCreator\\designs\\Single_qubit_design\\mesh_4k_data\n",
      "Time for fastcap job is:  6.836035966873169\n",
      "Capacitance results have been writen here:  D:\\Documents-cloud\\qubits\\simulation\\QCreator\\designs\\Single_qubit_design\\mesh_4k_results\n",
      "Capacitance value in:  nanofarads\n",
      "[<map object at 0x0000029761CE7A00>, <map object at 0x0000029761CE7820>, <map object at 0x0000029761CE7700>]\n",
      "       0     1     2\n",
      "0  151.2 -46.2 -15.4\n",
      "1  -46.2  64.6  -4.8\n",
      "2  -15.4  -4.8  25.0\n",
      "Gds file has been writen here:  D:\\Documents-cloud\\qubits\\simulation\\QCreator\\designs\\Single_qubit_design\\1Q_test.gds\n",
      "For 0 conductor total length is:  33902\n",
      "For 1 conductor total length is:  12195\n",
      "For 2 conductor total length is:  2105\n",
      "Sum : 48202\n",
      "Data has been written into the file: D:\\Documents-cloud\\qubits\\simulation\\QCreator\\designs\\Single_qubit_design\\mesh_4k_data\n",
      "Time for fastcap job is:  6.869821071624756\n",
      "Capacitance results have been writen here:  D:\\Documents-cloud\\qubits\\simulation\\QCreator\\designs\\Single_qubit_design\\mesh_4k_results\n",
      "Capacitance value in:  nanofarads\n",
      "[<map object at 0x0000029761CE7700>, <map object at 0x0000029761CE7CA0>, <map object at 0x0000029761CE7D60>]\n",
      "       0     1     2\n",
      "0  151.2 -46.2 -15.4\n",
      "1  -46.2  64.6  -4.8\n",
      "2  -15.4  -4.8  25.0\n",
      "Gds file has been writen here:  D:\\Documents-cloud\\qubits\\simulation\\QCreator\\designs\\Single_qubit_design\\1Q_test.gds\n",
      "For 0 conductor total length is:  33902\n",
      "For 1 conductor total length is:  12195\n",
      "For 2 conductor total length is:  2105\n",
      "Sum : 48202\n",
      "Data has been written into the file: D:\\Documents-cloud\\qubits\\simulation\\QCreator\\designs\\Single_qubit_design\\mesh_4k_data\n",
      "Time for fastcap job is:  7.692052841186523\n",
      "Capacitance results have been writen here:  D:\\Documents-cloud\\qubits\\simulation\\QCreator\\designs\\Single_qubit_design\\mesh_4k_results\n",
      "Capacitance value in:  nanofarads\n",
      "[<map object at 0x0000029761CE7820>, <map object at 0x0000029761CE7CA0>, <map object at 0x0000029761CE76D0>]\n",
      "       0     1     2\n",
      "0  151.2 -46.2 -15.4\n",
      "1  -46.2  64.6  -4.8\n",
      "2  -15.4  -4.8  25.0\n",
      "Gds file has been writen here:  D:\\Documents-cloud\\qubits\\simulation\\QCreator\\designs\\Single_qubit_design\\1Q_test.gds\n",
      "For 0 conductor total length is:  8517\n",
      "For 1 conductor total length is:  3549\n",
      "For 2 conductor total length is:  811\n",
      "Sum : 12877\n",
      "Data has been written into the file: D:\\Documents-cloud\\qubits\\simulation\\QCreator\\designs\\Single_qubit_design\\mesh_4k_data\n",
      "Time for fastcap job is:  1.4808597564697266\n",
      "Capacitance results have been writen here:  D:\\Documents-cloud\\qubits\\simulation\\QCreator\\designs\\Single_qubit_design\\mesh_4k_results\n",
      "Capacitance value in:  nanofarads\n",
      "[<map object at 0x0000029761CE7550>, <map object at 0x0000029761CE7FD0>, <map object at 0x0000029762505580>]\n",
      "       0     1     2\n",
      "0  145.0 -65.6 -23.1\n",
      "1  -65.6  79.4  -1.6\n",
      "2  -23.1  -1.6  29.4\n",
      "Gds file has been writen here:  D:\\Documents-cloud\\qubits\\simulation\\QCreator\\designs\\Single_qubit_design\\1Q_test.gds\n",
      "For 0 conductor total length is:  8627\n",
      "For 1 conductor total length is:  3553\n",
      "For 2 conductor total length is:  820\n",
      "Sum : 13000\n",
      "Data has been written into the file: D:\\Documents-cloud\\qubits\\simulation\\QCreator\\designs\\Single_qubit_design\\mesh_4k_data\n",
      "Time for fastcap job is:  1.4348363876342773\n",
      "Capacitance results have been writen here:  D:\\Documents-cloud\\qubits\\simulation\\QCreator\\designs\\Single_qubit_design\\mesh_4k_results\n",
      "Capacitance value in:  nanofarads\n",
      "[<map object at 0x0000029762505880>, <map object at 0x0000029762505580>, <map object at 0x00000297625053A0>]\n",
      "       0     1     2\n",
      "0  145.1 -65.6 -23.1\n",
      "1  -65.6  79.4  -1.6\n",
      "2  -23.1  -1.6  29.4\n"
     ]
    }
   ],
   "source": [
    "sqd.sample.draw_cap()\n",
    "for i,qubit in enumerate(sqd.sample.qubits):\n",
    "    caps=sqd.sample.calculate_qubit_capacitance(cell= sqd.sample.qubit_cap_cells[i], qubit=sqd.sample.qubits[i],\n",
    "                                       mesh_volume=4)"
   ]
  },
  {
   "cell_type": "code",
   "execution_count": 11,
   "metadata": {},
   "outputs": [
    {
     "name": "stdout",
     "output_type": "stream",
     "text": [
      "('down',)\n",
      "('up',)\n",
      "Resonance frequencies are, GHz/2pi: [4.52007265 4.52022559 4.52036958 4.52049582 5.82822275 5.94357466\n",
      " 6.23383494 6.36343171 6.50355906 6.64409482 7.37947516 7.56410607]\n",
      "Kappas are, MHz/2pi: [2.27138911e-04 1.94496710e-04 1.92519560e-04 1.62932994e-04\n",
      " 1.81919142e-01 2.07579710e-01 2.22030489e-01 2.55763623e-01\n",
      " 2.55957034e-01 2.94123916e-01 2.75044666e-02 3.00502815e-02]\n",
      "Quality factors are: [9.95001830e+06 1.16203138e+07 1.17400268e+07 1.38722542e+07\n",
      " 1.60187176e+04 1.43163671e+04 1.40382408e+04 1.24400641e+04\n",
      " 1.27043960e+04 1.12947205e+04 1.34150487e+05 1.25857491e+05]\n"
     ]
    }
   ],
   "source": [
    "sys, connections, elements_ = sqd.sample.get_tls(cutoff=2e11)\n",
    "f, delta, modes = sys.get_modes()\n",
    "num_modes=18\n",
    "(res_fr,kappa,_)=sqd.search_for_resonators_qubits(f,delta,0,15)[:num_modes]"
   ]
  },
  {
   "cell_type": "code",
   "execution_count": 12,
   "metadata": {},
   "outputs": [
    {
     "data": {
      "text/plain": [
       "(array([ 4.52007265,  4.52022559,  4.52036958,  4.52049582,  5.82822275,\n",
       "         5.94357466,  6.23383494,  6.36343171,  6.50355906,  6.64409482,\n",
       "         7.37947516,  7.56410607, 17.59417693, 17.95076339, 18.42786821,\n",
       "        18.78501022, 19.15266763, 19.1543113 ]),\n",
       " array([1.42715587e+03, 1.22205887e+03, 1.20963607e+03, 1.02373819e+03,\n",
       "        1.14303168e+06, 1.30426179e+06, 1.39505871e+06, 1.60701024e+06,\n",
       "        1.60822548e+06, 1.84803506e+06, 1.72815660e+05, 1.88811487e+05,\n",
       "        1.31249004e+07, 1.09497061e+07, 1.77137720e+11, 1.52401861e+07,\n",
       "        4.60737621e+04, 6.92349338e+04]))"
      ]
     },
     "execution_count": 12,
     "metadata": {},
     "output_type": "execute_result"
    }
   ],
   "source": [
    "f[:num_modes]/(2*np.pi)/1e9, delta[:num_modes]"
   ]
  },
  {
   "cell_type": "markdown",
   "metadata": {},
   "source": [
    "# Connect contact pads"
   ]
  },
  {
   "cell_type": "code",
   "execution_count": 13,
   "metadata": {},
   "outputs": [],
   "source": [
    "flux_pads_coaxmons = [\n",
    "    (sqd.sample.qubits[0], sqd.pads_bottom[0], [((1015, 1077))]),\n",
    "    (sqd.sample.qubits[1], sqd.pads_top[0], [(1047, 3620)]),\n",
    "    (sqd.sample.qubits[2], sqd.pads_bottom[1], [(2000, 1077)]),\n",
    "    (sqd.sample.qubits[3], sqd.pads_top[1], [(2036,3691)])]#[(2076, 3691)])]#[(2030, 3640)])]\n",
    "\n",
    "flux_pads_xmons = [(sqd.sample.qubits[4], sqd.pads_top[2], [(3200, 3768)]),\n",
    "                   (sqd.sample.qubits[5], sqd.pads_bottom[2], [(3200, 922)])]\n",
    "\n",
    "\n",
    "for coaxmon, pad, points in flux_pads_coaxmons:  \n",
    "    flux_line_narrowing_position = np.asarray(coaxmon.terminals['flux'].position)\n",
    "    direction = [np.cos(coaxmon.terminals['flux'].orientation), \n",
    "                 np.sin(coaxmon.terminals['flux'].orientation)]\n",
    "    narrowing_length = 25\n",
    "    flux_line_narrowing_position = flux_line_narrowing_position - np.asarray(direction)*narrowing_length/2\n",
    "    flux_line_narrowing = sqd.elements.Narrowing(name='flux_line_narrowing', position=flux_line_narrowing_position, \n",
    "                                             orientation=coaxmon.terminals['flux'].orientation+np.pi, \n",
    "                                             w1=coaxmon.terminals['flux'].w, \n",
    "                                             s1=coaxmon.terminals['flux'].s, g1=coaxmon.terminals['flux'].g,\n",
    "                                             w2=sqd.tl_core, s2=sqd.tl_gap, g2=sqd.tl_ground, \n",
    "                                             layer_configuration=sqd.sample.layer_configuration, length=narrowing_length)\n",
    "    sqd.sample.add(flux_line_narrowing)\n",
    "    sqd.sample.connect(flux_line_narrowing, 'port1', coaxmon, 'flux')\n",
    "\n",
    "    sqd.sample.connect_cpw(pad, flux_line_narrowing, 'port', 'port2', 'flux_control5', points=points)\n",
    "    \n",
    "for xmon, pad, points in flux_pads_xmons:  \n",
    "    flux_line_narrowing_position = np.asarray(xmon.terminals['flux'].position)\n",
    "    direction = [np.cos(xmon.terminals['flux'].orientation), \n",
    "                 np.sin(xmon.terminals['flux'].orientation)]\n",
    "    narrowing_length = 20\n",
    "    flux_line_narrowing_position = flux_line_narrowing_position - np.asarray(direction)*narrowing_length/2\n",
    "    flux_line_narrowing = sqd.elements.Narrowing(name='flux_line_narrowing', position=flux_line_narrowing_position, \n",
    "                                             orientation=xmon.terminals['flux'].orientation+np.pi, \n",
    "                                             w1=xmon.terminals['flux'].w, \n",
    "                                             s1=xmon.terminals['flux'].s, g1=xmon.terminals['flux'].g,\n",
    "                                             w2=sqd.tl_core, s2=sqd.tl_gap, g2=sqd.tl_ground, \n",
    "                                             layer_configuration=sqd.sample.layer_configuration, length=narrowing_length)\n",
    "    sqd.sample.add(flux_line_narrowing)\n",
    "    sqd.sample.connect(flux_line_narrowing, 'port1', xmon, 'flux')\n",
    "\n",
    "    sqd.sample.connect_cpw(pad, flux_line_narrowing, 'port', 'port2', 'flux_control5', points=points)"
   ]
  },
  {
   "cell_type": "code",
   "execution_count": 14,
   "metadata": {},
   "outputs": [
    {
     "name": "stdout",
     "output_type": "stream",
     "text": [
      "('down',)\n",
      "('up',)\n"
     ]
    },
    {
     "name": "stderr",
     "output_type": "stream",
     "text": [
      "C:\\ProgramData\\Anaconda3\\envs\\py38\\lib\\site-packages\\numpy\\core\\_asarray.py:83: VisibleDeprecationWarning: Creating an ndarray from ragged nested sequences (which is a list-or-tuple of lists-or-tuples-or ndarrays with different lengths or shapes) is deprecated. If you meant to do this, you must specify 'dtype=object' when creating the ndarray\n",
      "  return array(a, dtype, copy=False, order=order)\n"
     ]
    },
    {
     "name": "stdout",
     "output_type": "stream",
     "text": [
      "Resonance frequencies are, GHz/2pi: [4.52007276 4.5202257  4.52036969 4.52049593 5.82822275 5.94357466\n",
      " 6.23383494 6.36343171 6.50355906 6.64409482 7.37947516 7.56410607]\n",
      "Kappas are, MHz/2pi: [0.00888337 0.00885354 0.00885518 0.00882802 0.18191998 0.20758065\n",
      " 0.22206676 0.25579755 0.25598888 0.29415406 0.02750447 0.03005028]\n",
      "Quality factors are: [254411.98003081 255277.79215207 255238.66642629 256031.02119629\n",
      "  16018.6436483   14316.30242229  14035.94819731  12438.41418862\n",
      "  12702.81536347  11293.56316752 134150.48738866 125857.48934048]\n"
     ]
    }
   ],
   "source": [
    "sys, connections, elements_ = sqd.sample.get_tls(cutoff=2e11)\n",
    "f, delta, modes = sys.get_modes()\n",
    "num_modes=18\n",
    "(res_fr,kappa,_)=sqd.search_for_resonators_qubits(f,delta,0,15)[:num_modes]"
   ]
  },
  {
   "cell_type": "code",
   "execution_count": 15,
   "metadata": {},
   "outputs": [
    {
     "data": {
      "text/plain": [
       "(array([ 4.52007276,  4.5202257 ,  4.52036969,  4.52049593,  5.82822275,\n",
       "         5.94357466,  6.23383494,  6.36343171,  6.50355906,  6.64409482,\n",
       "         7.37947516,  7.56410607, 17.59417702, 17.95076356, 18.42786821,\n",
       "        18.78501022, 19.15271223, 19.1543558 ]),\n",
       " array([5.58158754e+04, 5.56284498e+04, 5.56387494e+04, 5.54681098e+04,\n",
       "        1.14303696e+06, 1.30426768e+06, 1.39528657e+06, 1.60722340e+06,\n",
       "        1.60842560e+06, 1.84822444e+06, 1.72815659e+05, 1.88811490e+05,\n",
       "        1.31395413e+07, 1.09763245e+07, 1.77137720e+11, 1.52402440e+07,\n",
       "        6.03131000e+06, 6.04288723e+06]))"
      ]
     },
     "execution_count": 15,
     "metadata": {},
     "output_type": "execute_result"
    }
   ],
   "source": [
    "f[:num_modes]/(2*np.pi)/1e9, delta[:num_modes]"
   ]
  },
  {
   "cell_type": "code",
   "execution_count": 16,
   "metadata": {},
   "outputs": [
    {
     "name": "stdout",
     "output_type": "stream",
     "text": [
      "Gds file has been writen here:  D:\\Documents-cloud\\qubits\\simulation\\QCreator\\designs\\Single_qubit_design\\1Q_test.gds\n"
     ]
    }
   ],
   "source": [
    "sqd.sample.write_to_gds()"
   ]
  },
  {
   "cell_type": "markdown",
   "metadata": {},
   "source": [
    "# Simulations"
   ]
  },
  {
   "cell_type": "code",
   "execution_count": 17,
   "metadata": {},
   "outputs": [
    {
     "name": "stdout",
     "output_type": "stream",
     "text": [
      "('down',)\n",
      "('up',)\n"
     ]
    },
    {
     "name": "stderr",
     "output_type": "stream",
     "text": [
      "C:\\ProgramData\\Anaconda3\\envs\\py38\\lib\\site-packages\\numpy\\core\\_asarray.py:83: VisibleDeprecationWarning: Creating an ndarray from ragged nested sequences (which is a list-or-tuple of lists-or-tuples-or ndarrays with different lengths or shapes) is deprecated. If you meant to do this, you must specify 'dtype=object' when creating the ndarray\n",
      "  return array(a, dtype, copy=False, order=order)\n"
     ]
    }
   ],
   "source": [
    "sys, connections, elements_ = sqd.sample.get_tls()\n",
    "f, delta, modes = sys.get_modes()"
   ]
  },
  {
   "cell_type": "code",
   "execution_count": 18,
   "metadata": {},
   "outputs": [
    {
     "name": "stdout",
     "output_type": "stream",
     "text": [
      "Resonance frequencies are, GHz/2pi: [4.92754409 4.92786994 4.92816427 4.92841241 5.82237707 5.93725003\n",
      " 6.23048763 6.3594493  6.4989762  6.63882184 7.39054578 7.5763216 ]\n",
      "Kappas are, MHz/2pi: [0.00871181 0.00863901 0.00860897 0.00855075 0.18133009 0.20679175\n",
      " 0.22132931 0.25493007 0.25516803 0.29312784 0.02772073 0.03031085]\n",
      "Quality factors are: [282808.26117442 285210.266044   286222.54725799 288185.93872864\n",
      "  16054.63594337  14355.6261769   14075.15255892  12472.92879454\n",
      "  12734.69930794  11324.10647405 133303.58801683 124977.06592616]\n"
     ]
    }
   ],
   "source": [
    "num_modes=18\n",
    "(res_fr,kappa,_)=sqd.search_for_resonators_qubits(f,delta,0,15)[:num_modes]"
   ]
  },
  {
   "cell_type": "markdown",
   "metadata": {},
   "source": [
    "# Get s21 parameters"
   ]
  },
  {
   "cell_type": "code",
   "execution_count": null,
   "metadata": {},
   "outputs": [],
   "source": [
    "f_ = np.linspace(6.9e9, 7.1e9, 2001)\n",
    "# s11 = sample.get_s21('p1', 'p1', f_)\n",
    "s11 = sample.get_s21('pad-left-0', 'pad-right-0', f_)"
   ]
  },
  {
   "cell_type": "code",
   "execution_count": null,
   "metadata": {},
   "outputs": [],
   "source": [
    "import resonator_tools\n",
    "from resonator_tools.circuit import notch_port, reflection_port"
   ]
  },
  {
   "cell_type": "code",
   "execution_count": null,
   "metadata": {},
   "outputs": [],
   "source": [
    "fitter = notch_port(f_data=f_, z_data_raw=s11)\n",
    "fitter.autofit()"
   ]
  },
  {
   "cell_type": "code",
   "execution_count": null,
   "metadata": {},
   "outputs": [],
   "source": [
    "fitter.plotall()"
   ]
  },
  {
   "cell_type": "code",
   "execution_count": null,
   "metadata": {},
   "outputs": [],
   "source": [
    "fitter.fitresults"
   ]
  },
  {
   "cell_type": "markdown",
   "metadata": {},
   "source": [
    "# Estimate qubit-resonator parameters"
   ]
  },
  {
   "cell_type": "code",
   "execution_count": 9,
   "metadata": {},
   "outputs": [],
   "source": [
    "rfr_ind=2\n",
    "qfr_ind=0"
   ]
  },
  {
   "cell_type": "code",
   "execution_count": 10,
   "metadata": {},
   "outputs": [
    {
     "data": {
      "text/plain": [
       "{'g': (97.56920699063008, 'MHz/2pi')}"
      ]
     },
     "execution_count": 10,
     "metadata": {},
     "output_type": "execute_result"
    }
   ],
   "source": [
    "sqd.get_grounded_qubit_resonator_coupling(par1,sqd.coaxmon1,'coupler2',res_fr[rfr_ind],res_fr[qfr_ind])"
   ]
  },
  {
   "cell_type": "code",
   "execution_count": 11,
   "metadata": {},
   "outputs": [
    {
     "name": "stdout",
     "output_type": "stream",
     "text": [
      "Qubit- resonator detuning: -0.49145585956066373\n"
     ]
    },
    {
     "data": {
      "text/plain": [
       "{'g': (97.56920699063008, 'MHz/2pi'),\n",
       " 'alpha': (-279.1099326319758, 'MHz/2pi'),\n",
       " 'chi': (-7.016274947557198, 'MHz/2pi'),\n",
       " 'T': (16.46560784708201, 'us'),\n",
       " 'protection ratio': 25.371344627775542}"
      ]
     },
     "execution_count": 11,
     "metadata": {},
     "output_type": "execute_result"
    }
   ],
   "source": [
    "sqd.get_grounded_qubit_resonator_parameters(par1,sqd.coaxmon1,'coupler2',res_fr[rfr_ind],res_fr[qfr_ind],kappa[rfr_ind])"
   ]
  },
  {
   "cell_type": "code",
   "execution_count": 12,
   "metadata": {},
   "outputs": [
    {
     "name": "stdout",
     "output_type": "stream",
     "text": [
      "From AWR protection ratio is: 28.397216442594896\n"
     ]
    }
   ],
   "source": [
    "print(\"From AWR protection ratio is:\", kappa[rfr_ind]/kappa[qfr_ind])"
   ]
  },
  {
   "cell_type": "markdown",
   "metadata": {},
   "source": [
    "# Tests"
   ]
  },
  {
   "cell_type": "code",
   "execution_count": 10,
   "metadata": {},
   "outputs": [],
   "source": [
    "g5,g6,res= sqd.draw_single_resonator(sqd.sample,sqd.elements,\n",
    "                            sqd.coupler_start+1500, sqd.central_line_y, sqd.coupler_length,\n",
    "                             sqd.resonator_core,sqd.resonator_gap,sqd.resonator_ground,\n",
    "                             sqd.tl_core, sqd.tl_gap, sqd.tl_ground, grounding_width=10,\n",
    "                             closed_end_meander_length=3000,length_left=400,length_right=400,\n",
    "                             open_end_legth=800,\n",
    "                             port_orientation='right', direction_orientation='up')"
   ]
  }
 ],
 "metadata": {
  "kernelspec": {
   "display_name": "Python 3",
   "language": "python",
   "name": "python3"
  },
  "language_info": {
   "codemirror_mode": {
    "name": "ipython",
    "version": 3
   },
   "file_extension": ".py",
   "mimetype": "text/x-python",
   "name": "python",
   "nbconvert_exporter": "python",
   "pygments_lexer": "ipython3",
   "version": "3.8.5"
  }
 },
 "nbformat": 4,
 "nbformat_minor": 4
}
