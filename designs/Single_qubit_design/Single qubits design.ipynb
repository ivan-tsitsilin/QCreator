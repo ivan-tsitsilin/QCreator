{
 "cells": [
  {
   "cell_type": "code",
   "execution_count": 42,
   "metadata": {},
   "outputs": [],
   "source": [
    "from importlib import reload\n",
    "import numpy as np\n",
    "from matplotlib import pyplot as plt\n",
    "import Single_qubit_design as sqd"
   ]
  },
  {
   "cell_type": "code",
   "execution_count": 44,
   "metadata": {},
   "outputs": [
    {
     "data": {
      "text/plain": [
       "<module 'Single_qubit_design' from 'E:\\\\Github2.0\\\\QCreator\\\\designs\\\\Single_qubit_design\\\\Single_qubit_design.py'>"
      ]
     },
     "execution_count": 44,
     "metadata": {},
     "output_type": "execute_result"
    }
   ],
   "source": [
    "reload(sqd)"
   ]
  },
  {
   "cell_type": "markdown",
   "metadata": {},
   "source": [
    "# Draw a qubit design"
   ]
  },
  {
   "cell_type": "code",
   "execution_count": 18,
   "metadata": {},
   "outputs": [],
   "source": [
    "g5,g6,res= sqd.draw_single_resonator(sqd.sample,sqd.elements,\n",
    "                            sqd.coupler_start+1500, sqd.central_line_y, sqd.coupler_length,\n",
    "                             sqd.resonator_core,sqd.resonator_gap,sqd.resonator_ground,\n",
    "                             sqd.tl_core, sqd.tl_gap, sqd.tl_ground, grounding_width=10,\n",
    "                             closed_end_meander_length=2000,length_left=400,length_right=400,\n",
    "                             open_end_legth=800,\n",
    "                             port_orientation='right', direction_orientation='down')"
   ]
  },
  {
   "cell_type": "code",
   "execution_count": 45,
   "metadata": {},
   "outputs": [],
   "source": [
    "g5,g6= sqd.draw_double_resonator(sqd.sample,sqd.elements,\n",
    "                            sqd.coupler_start+1500, sqd.central_line_y, sqd.coupler_length,\n",
    "                             sqd.resonator_core,sqd.resonator_gap,sqd.resonator_ground, \n",
    "                             sqd.tl_core, sqd.tl_gap, sqd.tl_ground, grounding_width=10,\n",
    "                             closed_end_meander_length1=3000,length_left1=400,length_right1=400,\n",
    "                              closed_end_meander_length2=2000,length_left2=400,length_right2=400,\n",
    "                             open_length1=800,open_length2=800,orientation='left')"
   ]
  },
  {
   "cell_type": "code",
   "execution_count": null,
   "metadata": {},
   "outputs": [],
   "source": [
    "g5,g6= sqd.draw_double_resonator(sqd.sample,sqd.elements,\n",
    "                            sqd.coupler_start+1500, sqd.central_line_y, sqd.coupler_length,\n",
    "                             sqd.resonator_core,sqd.resonator_gap,sqd.resonator_ground, \n",
    "                             sqd.tl_core, sqd.tl_gap, sqd.tl_ground, grounding_width=10,\n",
    "                             closed_end_meander_length1=2000,length_left1=400,length_right1=400,\n",
    "                              closed_end_meander_length2=3000,length_left2=400,length_right2=400,\n",
    "                             open_length1=800,open_length2=800,orientation='left')"
   ]
  },
  {
   "cell_type": "code",
   "execution_count": 47,
   "metadata": {},
   "outputs": [
    {
     "data": {
      "text/plain": [
       "CPW \"right TL\", l=118.000"
      ]
     },
     "execution_count": 47,
     "metadata": {},
     "output_type": "execute_result"
    }
   ],
   "source": [
    "sqd.sample.connect_cpw(o1=sqd.p1, o2=g5, port1='port', port2='narrow', name='right TL', points=[])\n",
    "sqd.sample.connect_cpw(o1=g6, o2=sqd.p2, port1='narrow', port2='port', name='right TL', points=[])"
   ]
  },
  {
   "cell_type": "code",
   "execution_count": 51,
   "metadata": {},
   "outputs": [],
   "source": [
    "sqd.sample.draw_design()\n",
    "sqd.sample.watch()"
   ]
  },
  {
   "cell_type": "markdown",
   "metadata": {},
   "source": [
    "# Simulations"
   ]
  },
  {
   "cell_type": "code",
   "execution_count": 43,
   "metadata": {},
   "outputs": [
    {
     "data": {
      "text/plain": [
       "(array([ 6.92956692,  8.97312406, 19.21791928, 20.49862886, 27.14673587,\n",
       "        34.7278851 , 38.85994806, 44.83539741, 48.32911985, 50.55407049]),\n",
       " array([7.45421043e-02, 2.25401141e+00, 1.92395353e+05, 5.06126612e+00,\n",
       "        1.78108519e+01, 3.44010255e+00, 1.92138732e+05, 2.64305450e+01,\n",
       "        9.11452013e+00, 1.84118760e+05]),\n",
       " array([2.92048054e+05, 1.25065474e+04, 3.13806300e-01, 1.27237613e+04,\n",
       "        4.78831594e+03, 3.17144234e+04, 6.35385306e-01, 5.32923384e+03,\n",
       "        1.66580803e+04, 8.62597036e-01]))"
      ]
     },
     "execution_count": 43,
     "metadata": {},
     "output_type": "execute_result"
    }
   ],
   "source": [
    "sys, connections, elements_ = sqd.sample.get_tls()\n",
    "f, delta, modes = sys.get_modes()\n",
    "f[:10]/(2*np.pi)/1e9, delta[:10]/1e6,f[:10]/delta[:10]/2 "
   ]
  },
  {
   "cell_type": "code",
   "execution_count": 49,
   "metadata": {},
   "outputs": [
    {
     "data": {
      "text/plain": [
       "(array([ 6.8604021 ,  9.0612892 , 19.21792213, 20.67533609, 26.7264162 ,\n",
       "        35.02493668, 38.85995104, 45.02433981, 48.09285445, 50.55405564]),\n",
       " array([8.25536990e-01, 6.20731038e-01, 1.92395356e+05, 1.07040830e+01,\n",
       "        6.35417739e+00, 1.72177528e+01, 1.92138718e+05, 1.72337748e+00,\n",
       "        2.56400934e+01, 1.84118792e+05]),\n",
       " array([2.61073569e+04, 4.58602484e+04, 3.13806343e-01, 6.06810356e+03,\n",
       "        1.32139076e+04, 6.39073434e+03, 6.35385403e-01, 8.20761189e+04,\n",
       "        5.89265241e+03, 8.62596632e-01]))"
      ]
     },
     "execution_count": 49,
     "metadata": {},
     "output_type": "execute_result"
    }
   ],
   "source": [
    "sys, connections, elements_ = sqd.sample.get_tls()\n",
    "f, delta, modes = sys.get_modes()\n",
    "f[:10]/(2*np.pi)/1e9, delta[:10]/1e6,f[:10]/delta[:10]/2 "
   ]
  },
  {
   "cell_type": "code",
   "execution_count": null,
   "metadata": {},
   "outputs": [],
   "source": [
    "f_ = np.linspace(6.9e9, 7.1e9, 2001)\n",
    "# s11 = sample.get_s21('p1', 'p1', f_)\n",
    "s11 = sample.get_s21('pad-left-0', 'pad-right-0', f_)"
   ]
  },
  {
   "cell_type": "code",
   "execution_count": null,
   "metadata": {},
   "outputs": [],
   "source": [
    "import resonator_tools\n",
    "from resonator_tools.circuit import notch_port, reflection_port"
   ]
  },
  {
   "cell_type": "code",
   "execution_count": null,
   "metadata": {},
   "outputs": [],
   "source": [
    "fitter = notch_port(f_data=f_, z_data_raw=s11)\n",
    "fitter.autofit()"
   ]
  },
  {
   "cell_type": "code",
   "execution_count": null,
   "metadata": {},
   "outputs": [],
   "source": [
    "fitter.plotall()"
   ]
  },
  {
   "cell_type": "code",
   "execution_count": null,
   "metadata": {},
   "outputs": [],
   "source": [
    "fitter.fitresults"
   ]
  }
 ],
 "metadata": {
  "kernelspec": {
   "display_name": "Python 3",
   "language": "python",
   "name": "python3"
  },
  "language_info": {
   "codemirror_mode": {
    "name": "ipython",
    "version": 3
   },
   "file_extension": ".py",
   "mimetype": "text/x-python",
   "name": "python",
   "nbconvert_exporter": "python",
   "pygments_lexer": "ipython3",
   "version": "3.8.5"
  }
 },
 "nbformat": 4,
 "nbformat_minor": 4
}
