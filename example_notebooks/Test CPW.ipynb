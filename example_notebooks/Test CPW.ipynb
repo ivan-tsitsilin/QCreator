{
 "cells": [
  {
   "cell_type": "code",
   "execution_count": 1,
   "id": "traditional-texture",
   "metadata": {},
   "outputs": [],
   "source": [
    "import sys\n",
    "sys.path.append('..')\n",
    "import gdspy\n",
    "import numpy as np\n",
    "from importlib import reload\n",
    "#import libraries.conformal_mapping as cm\n",
    "#import libraries.general_design_functions as gdf\n",
    "#import libraries.general_sample_creator as creator\n",
    "#from  ..libraries import general_design_functions as gdf\n",
    "#fr\n",
    "from copy import deepcopy\n",
    "from QCreator import elements\n",
    "from QCreator import general_sample_creator as creator"
   ]
  },
  {
   "cell_type": "code",
   "execution_count": 20,
   "id": "infrared-entrance",
   "metadata": {},
   "outputs": [],
   "source": [
    "tl_core = 20\n",
    "tl_gap = 12\n",
    "tl_ground = 10\n",
    "\n",
    "resonator_core = 8\n",
    "resonator_gap = 7\n",
    "resonator_ground = 16\n",
    "\n",
    "pad_offset = 1000\n",
    "pad_element_offset = 1000\n",
    "\n",
    "coupler_start = pad_offset + pad_element_offset\n",
    "coupler_delta = 500\n",
    "coupler_length = 300\n",
    "num_couplers = 1"
   ]
  },
  {
   "cell_type": "code",
   "execution_count": 48,
   "id": "valuable-sensitivity",
   "metadata": {},
   "outputs": [],
   "source": [
    "reload(gdspy)\n",
    "reload(creator)\n",
    "reload(elements)\n",
    "\n",
    "layers_configuration = {\n",
    "    'total':0,\n",
    "    'restricted area':10,\n",
    "    'for removing':100,\n",
    "    'JJs':1,\n",
    "    'air bridges':2,\n",
    "    'air bridge pads':3,\n",
    "    'vertical gridlines':15,\n",
    "    'horizontal gridlines':16,\n",
    "     'inverted':20\n",
    "}\n",
    "sample = creator.Sample('4_qubits',layers_configuration)\n",
    "sample.chip_geometry.sample_vertical_size=4.7e3\n",
    "sample.chip_geometry.sample_horizontal_size=3.7e3\n",
    "\n",
    "central_line_y = sample.chip_geometry.sample_vertical_size/2"
   ]
  },
  {
   "cell_type": "code",
   "execution_count": 49,
   "id": "olympic-profit",
   "metadata": {},
   "outputs": [],
   "source": [
    "p1 = elements.Pad('p1', (pad_offset,  central_line_y), np.pi, tl_core, tl_gap, tl_ground, \n",
    "                  layer_configuration=sample.layer_configuration, chip_geometry=sample.chip_geometry, \n",
    "                  **elements.default_pad_geometry())\n",
    "p2 = elements.Pad('p2', (sample.chip_geometry.sample_horizontal_size-pad_offset,  central_line_y), \n",
    "                  0, tl_core, tl_gap, tl_ground, \n",
    "                  layer_configuration=sample.layer_configuration, chip_geometry=sample.chip_geometry, \n",
    "                  **elements.default_pad_geometry())\n",
    "sample.add(p1)\n",
    "sample.add(p2)"
   ]
  },
  {
   "cell_type": "code",
   "execution_count": 50,
   "id": "severe-symposium",
   "metadata": {},
   "outputs": [],
   "source": [
    "left_TL = sample.connect_cpw(o1=p1, o2=p2, port1='port', port2='port', name='TL', \n",
    "                             points=[(1500,2000),(1500,1500),(1700,1500)])"
   ]
  },
  {
   "cell_type": "code",
   "execution_count": 51,
   "id": "elementary-stationery",
   "metadata": {},
   "outputs": [
    {
     "name": "stdout",
     "output_type": "stream",
     "text": [
      "Gds file has been writen here:  C:\\Python\\Github\\QCreator\\example_notebooks\\4_qubits.gds\n"
     ]
    }
   ],
   "source": [
    "sample.draw_design()\n",
    "sample.write_to_gds()\n",
    "sample.watch()"
   ]
  },
  {
   "cell_type": "code",
   "execution_count": 52,
   "id": "biblical-division",
   "metadata": {},
   "outputs": [
    {
     "data": {
      "text/plain": [
       "2543.760744066947"
      ]
     },
     "execution_count": 52,
     "metadata": {},
     "output_type": "execute_result"
    }
   ],
   "source": [
    "left_TL.length"
   ]
  },
  {
   "cell_type": "code",
   "execution_count": null,
   "id": "straight-intermediate",
   "metadata": {},
   "outputs": [],
   "source": []
  }
 ],
 "metadata": {
  "kernelspec": {
   "display_name": "Python 3",
   "language": "python",
   "name": "python3"
  },
  "language_info": {
   "codemirror_mode": {
    "name": "ipython",
    "version": 3
   },
   "file_extension": ".py",
   "mimetype": "text/x-python",
   "name": "python",
   "nbconvert_exporter": "python",
   "pygments_lexer": "ipython3",
   "version": "3.9.1"
  }
 },
 "nbformat": 4,
 "nbformat_minor": 5
}
