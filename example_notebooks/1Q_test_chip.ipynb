{
 "cells": [
  {
   "cell_type": "markdown",
   "metadata": {},
   "source": [
    "## Import design libraries"
   ]
  },
  {
   "cell_type": "code",
   "execution_count": 1,
   "metadata": {},
   "outputs": [],
   "source": [
    "import sys\n",
    "sys.path.append('..')"
   ]
  },
  {
   "cell_type": "code",
   "execution_count": 2,
   "metadata": {},
   "outputs": [],
   "source": [
    "import gdspy\n",
    "import numpy as np\n",
    "from importlib import reload\n",
    "from copy import deepcopy\n",
    "from QCreator import elements\n",
    "from QCreator import general_sample_creator as creator\n",
    "from QCreator import meshing"
   ]
  },
  {
   "cell_type": "markdown",
   "metadata": {},
   "source": [
    "# Specify constant, everything in microns"
   ]
  },
  {
   "cell_type": "code",
   "execution_count": 3,
   "metadata": {},
   "outputs": [],
   "source": [
    "tl_core = 20.\n",
    "tl_gap = 12.\n",
    "tl_ground = 10."
   ]
  },
  {
   "cell_type": "markdown",
   "metadata": {},
   "source": [
    "# Sample generation"
   ]
  },
  {
   "cell_type": "markdown",
   "metadata": {},
   "source": [
    "## ground and grid, layer config"
   ]
  },
  {
   "cell_type": "code",
   "execution_count": 8,
   "metadata": {},
   "outputs": [],
   "source": [
    "reload(gdspy)\n",
    "reload(creator)\n",
    "reload(elements)\n",
    "\n",
    "\n",
    "resonator_core = 7\n",
    "resonator_gap = 4\n",
    "resonator_ground = 16\n",
    "\n",
    "pad_offset = 800\n",
    "pad_element_offset = 1000\n",
    "qubit_position_offset = 800\n",
    "\n",
    "coupler_start = pad_offset + pad_element_offset\n",
    "coupler_delta = 500\n",
    "coupler_length = 450\n",
    "num_couplers = 1\n",
    "\n",
    "\n",
    "layers_configuration = {\n",
    "    'total':0,\n",
    "    'restricted area':10,\n",
    "    'for removing':100,\n",
    "    'JJs':1,\n",
    "    'air bridges':2,\n",
    "    'air bridge pads':3,\n",
    "    'vertical gridlines':15,\n",
    "    'horizontal gridlines':16,\n",
    "    'inverted':17\n",
    "}\n",
    "sample = creator.Sample('1Q_test',layers_configuration)\n",
    "\n",
    "#specify sample vertical and horizontal lengths\n",
    "sample.chip_geometry.sample_vertical_size=4.7e3\n",
    "sample.chip_geometry.sample_horizontal_size=4.7e3\n",
    "num_qubits_line = 3\n",
    "\n",
    "central_line_y = sample.chip_geometry.sample_vertical_size/2\n",
    "\n",
    "# ChichkovAB = elements.AirBridge(width=15, \n",
    "#                                 length=60, \n",
    "#                                 padsize=30, \n",
    "#                                 min_spacing = 30,\n",
    "#                                 layer_configuration=sample.layer_configuration)\n",
    "\n",
    "chip_edge_ground = elements.ChipEdgeGround(sample.chip_geometry, sample.layer_configuration, sample.pads)\n",
    "sample.add(chip_edge_ground)\n",
    "\n",
    "\n"
   ]
  },
  {
   "cell_type": "markdown",
   "metadata": {},
   "source": [
    "## microwave contact pads"
   ]
  },
  {
   "cell_type": "code",
   "execution_count": 9,
   "metadata": {},
   "outputs": [],
   "source": [
    "# 1. Create contact pads:\n",
    "pads_left = []\n",
    "pads_right = []\n",
    "for pad_side_id in range(1):\n",
    "    pad = elements.Pad('pad-left-'+str(pad_side_id), \n",
    "                       (pad_offset,  sample.chip_geometry.sample_vertical_size/2), np.pi, tl_core, \n",
    "                       tl_gap, tl_ground, \n",
    "                       layer_configuration=sample.layer_configuration, chip_geometry=sample.chip_geometry, \n",
    "                       **elements.default_pad_geometry())\n",
    "    pads_left.append(pad)\n",
    "    sample.add(pad)\n",
    "    pad = elements.Pad('pad-right-'+str(pad_side_id), \n",
    "                       (sample.chip_geometry.sample_horizontal_size-pad_offset,  \n",
    "                        sample.chip_geometry.sample_vertical_size/2), 0, tl_core, \n",
    "                       tl_gap, tl_ground, \n",
    "                       layer_configuration=sample.layer_configuration, chip_geometry=sample.chip_geometry, \n",
    "                       **elements.default_pad_geometry())\n",
    "    pads_right.append(pad)\n",
    "    sample.add(pad)\n",
    "    \n",
    "pads_top = []\n",
    "pads_bottom = []\n",
    "for pad_side_id in range(3):\n",
    "    pad = elements.Pad('pad-bottom-'+str(pad_side_id), \n",
    "                       (sample.chip_geometry.sample_horizontal_size/4*(pad_side_id+1), pad_offset), \n",
    "                       -np.pi/2, tl_core, tl_gap, tl_ground, \n",
    "                       layer_configuration=sample.layer_configuration, chip_geometry=sample.chip_geometry, \n",
    "                       **elements.default_pad_geometry())\n",
    "    pads_bottom.append(pad)\n",
    "    sample.add(pad)\n",
    "    pad = elements.Pad('pad-top-'+str(pad_side_id), \n",
    "                       (sample.chip_geometry.sample_horizontal_size/4*(pad_side_id+1),\n",
    "                        sample.chip_geometry.sample_vertical_size-pad_offset), \n",
    "                        np.pi/2, tl_core, tl_gap, tl_ground, \n",
    "                       layer_configuration=sample.layer_configuration, chip_geometry=sample.chip_geometry, \n",
    "                       **elements.default_pad_geometry())\n",
    "    pads_top.append(pad)\n",
    "    sample.add(pad)\n",
    "    \n",
    "p1 = pads_left[0]\n",
    "p2 = pads_right[0]"
   ]
  },
  {
   "cell_type": "markdown",
   "metadata": {},
   "source": [
    "# Coaxmons"
   ]
  },
  {
   "cell_type": "code",
   "execution_count": 10,
   "metadata": {},
   "outputs": [],
   "source": [
    "\n",
    "##########################################################################3\n",
    "# add coaxmons\n",
    "\n",
    "shift=-1/10\n",
    "shift1=shift+4/5\n",
    "phi1=1/5\n",
    "\n",
    "\n",
    "Couplers1q_corner=[elements.coaxmon.CoaxmonCoupler(arc_start=-1/6-1/100+shift,arc_finish=-3/6+1/100+shift,phi=-1/2,\n",
    "                                          coupler_type=None, w =10,g=4),\n",
    "          elements.coaxmon.CoaxmonCoupler(arc_start=1/6+1/100+shift,arc_finish=3/6-1/100+shift,phi=phi1,\n",
    "                                          coupler_type=None, w =10,g=4),\n",
    "          elements.coaxmon.CoaxmonCoupler(arc_start=3/6+1/100+shift,arc_finish=5/6-1/100+shift,phi=1/2, \n",
    "                                          coupler_type='coupler', w =7,g=10, s=4), #one upper\n",
    "          elements.coaxmon.CoaxmonCoupler(arc_start=-1/6+1/100+1+shift,arc_finish=1/6-1/100+1+shift,phi=1,\n",
    "                                          coupler_type=None, w =10,g=4),\n",
    "          elements.coaxmon.CoaxmonCoupler(arc_start=-1/6+1/100+shift,arc_finish=1/6-1/100+shift,phi=0,\n",
    "                                          coupler_type=None, w =10,g=4),\n",
    "          elements.coaxmon.CoaxmonCoupler(arc_start=-5/6+1/100+shift,arc_finish=-3/6-1/100+shift,phi=1,\n",
    "                                          coupler_type='grounded',w=4,g=4)\n",
    "]\n",
    "Couplers1q_corner1=[elements.coaxmon.CoaxmonCoupler(arc_start=-1/6-1/100+shift,arc_finish=-3/6+1/100+shift,phi=-1/2+1/8,\n",
    "                                          coupler_type='grounded', w =4,g=4),\n",
    "          elements.coaxmon.CoaxmonCoupler(arc_start=1/6+1/100+shift,arc_finish=3/6-1/100+shift,phi=phi1,\n",
    "                                          coupler_type=None, w =10,g=4),\n",
    "          elements.coaxmon.CoaxmonCoupler(arc_start=3/6+1/100+shift,arc_finish=5/6-1/100+shift,phi=1/2, \n",
    "                                          coupler_type='coupler', w =7,g=10, s=4), #one upper\n",
    "          elements.coaxmon.CoaxmonCoupler(arc_start=-1/6+1/100+1+shift,arc_finish=1/6-1/100+1+shift,phi=1,\n",
    "                                          coupler_type=None, w =10,g=4),\n",
    "          elements.coaxmon.CoaxmonCoupler(arc_start=-1/6+1/100+shift,arc_finish=1/6-1/100+shift,phi=0,\n",
    "                                          coupler_type=None, w =10,g=4),\n",
    "          elements.coaxmon.CoaxmonCoupler(arc_start=-5/6+1/100+shift,arc_finish=-3/6-1/100+shift,phi=-1/2-1/6,\n",
    "                                          coupler_type=None,w=4,g=4)\n",
    "]\n",
    "# Couplers1q_corner1=[elements.coaxmon.CoaxmonCoupler(arc_start=-1/6-1/100+shift,arc_finish=-3/6+1/100+shift,phi=-1/2+1/6,\n",
    "#                                           coupler_type='grounded', w =4,g=4),\n",
    "#           elements.coaxmon.CoaxmonCoupler(arc_start=1/6+1/100+shift,arc_finish=3/6-1/100+shift,phi=phi1,\n",
    "#                                           coupler_type=None, w =10,g=4),\n",
    "#           elements.coaxmon.CoaxmonCoupler(arc_start=3/6+1/100+shift,arc_finish=5/6-1/100+shift,phi=1/2, \n",
    "#                                           coupler_type='coupler', w =7,g=10, s=4), #one upper\n",
    "#           elements.coaxmon.CoaxmonCoupler(arc_start=-1/6+1/100+1+shift,arc_finish=1/6-1/100+1+shift,phi=1,\n",
    "#                                           coupler_type=None, w =10,g=4),\n",
    "#           elements.coaxmon.CoaxmonCoupler(arc_start=-1/6+1/100+shift,arc_finish=1/6-1/100+shift,phi=0,\n",
    "#                                           coupler_type=None, w =10,g=4),\n",
    "#           elements.coaxmon.CoaxmonCoupler(arc_start=-5/6+1/100+shift,arc_finish=-3/6-1/100+shift,phi=-1/2-1/6,\n",
    "#                                           coupler_type=None,w=10,g=4)\n",
    "# ]\n",
    "Couplers2q_corner=[elements.coaxmon.CoaxmonCoupler(arc_start=-1/6-1/100+shift1,arc_finish=-3/6+1/100+shift1,phi=1/7,\n",
    "                                          coupler_type=None, w =10,g=10),\n",
    "          elements.coaxmon.CoaxmonCoupler(arc_start=1/6+1/100+shift1,arc_finish=3/6-1/100+shift1,phi=phi1,\n",
    "                                          coupler_type=None, w =10,g=10),\n",
    "          elements.coaxmon.CoaxmonCoupler(arc_start=3/6+1/100+shift1,arc_finish=5/6-1/100+shift1,phi=1/2, \n",
    "                                          coupler_type='coupler', w =10,g=40), #one upper\n",
    "          elements.coaxmon.CoaxmonCoupler(arc_start=-1/6+1/100+1+shift1,arc_finish=1/6-1/100+1+shift1,phi=1-1/4-1/12,\n",
    "                                          coupler_type='coupler', w =7,g=10, s=4), # resonator\n",
    "          elements.coaxmon.CoaxmonCoupler(arc_start=-1/6+1/100+shift1,arc_finish=1/6-1/100+shift1,phi=1/4,\n",
    "                                          coupler_type=None, w =10,g=10),\n",
    "          elements.coaxmon.CoaxmonCoupler(arc_start=-5/6+1/100+shift1,arc_finish=-3/6-1/100+shift1,phi=0,\n",
    "                                          coupler_type='grounded',w=5,g=10)\n",
    "]\n",
    "Couplers2q_line=[elements.coaxmon.CoaxmonCoupler(arc_start=-1/6-1/100+shift,arc_finish=-3/6+1/100+shift,phi=-1/2,\n",
    "                                          coupler_type=None, w =10,g=4),\n",
    "          elements.coaxmon.CoaxmonCoupler(arc_start=1/6+1/100+shift,arc_finish=3/6-1/100+shift,phi=phi1,\n",
    "                                          coupler_type='coupler', w =7,g=10, s=4),# for resonator\n",
    "          elements.coaxmon.CoaxmonCoupler(arc_start=3/6+1/100+shift,arc_finish=5/6-1/100+shift,phi=1/2, \n",
    "                                          coupler_type=None, w =10,g=40), #one upper\n",
    "          elements.coaxmon.CoaxmonCoupler(arc_start=-1/6+1/100+1+shift,arc_finish=1/6-1/100+1+shift,phi=1,\n",
    "                                          coupler_type='coupler', w =10,g=40),\n",
    "          elements.coaxmon.CoaxmonCoupler(arc_start=-1/6+1/100+shift,arc_finish=1/6-1/100+shift,phi=0,\n",
    "                                          coupler_type='coupler', w =10,g=40),\n",
    "          elements.coaxmon.CoaxmonCoupler(arc_start=-5/6+1/100+shift,arc_finish=-3/6-1/100+shift,phi=1,\n",
    "                                          coupler_type='grounded',w=4,g=4)\n",
    "]\n",
    "# Couplers2q_line_top=[elements.coaxmon.CoaxmonCoupler(arc_start=-1/6-1/100+shift,arc_finish=-3/6+1/100+shift,phi=-1/2,\n",
    "#                                           coupler_type='grounded', w =4,g=4),\n",
    "#           elements.coaxmon.CoaxmonCoupler(arc_start=1/6+1/100+shift,arc_finish=3/6-1/100+shift,phi=phi1,\n",
    "#                                           coupler_type='coupler', w =7,g=10, s=4),# for resonator\n",
    "#           elements.coaxmon.CoaxmonCoupler(arc_start=3/6+1/100+shift,arc_finish=5/6-1/100+shift,phi=1/2, \n",
    "#                                           coupler_type=None, w =10,g=40), #one upper\n",
    "#           elements.coaxmon.CoaxmonCoupler(arc_start=-1/6+1/100+1+shift,arc_finish=1/6-1/100+1+shift,phi=1,\n",
    "#                                           coupler_type='coupler', w =10,g=40),\n",
    "#           elements.coaxmon.CoaxmonCoupler(arc_start=-1/6+1/100+shift,arc_finish=1/6-1/100+shift,phi=0,\n",
    "#                                           coupler_type='coupler', w =10,g=40),\n",
    "#           elements.coaxmon.CoaxmonCoupler(arc_start=-5/6+1/100+shift,arc_finish=-3/6-1/100+shift,phi=1,\n",
    "#                                           coupler_type=None,w=10,g=4)\n",
    "# ]\n",
    "\n",
    "\n",
    "jj_coaxmon = {'a1':30,\n",
    "               'b1':0.8,\n",
    "               'a2':0.45,\n",
    "               'b2':0.243,\n",
    "               'c1':0.243,\n",
    "               'c2':10,\n",
    "               'angle_qubit':-np.pi/2-np.pi/3,\n",
    "               'angle_JJ': 0,\n",
    "               'length':10,\n",
    "               'width':4}\n",
    "\n",
    "# add coaxmons 1st line\n",
    "for line_id in range(2):\n",
    "    for qubit_id in range(3):\n",
    "        jj_coaxmon_ = {k:v for k, v in jj_coaxmon.items()} \n",
    "        if qubit_id == 0:\n",
    "            couplers_ = Couplers1q_corner\n",
    "\n",
    "        elif qubit_id == 1:\n",
    "            couplers_ = Couplers1q_corner1\n",
    "            jj_coaxmon_['angle_qubit'] = -np.pi/2+np.pi/4\n",
    "#             \n",
    "        elif qubit_id == 2:\n",
    "            couplers_ = Couplers2q_corner\n",
    "            jj_coaxmon_['angle_qubit'] = np.pi/8\n",
    "        else:\n",
    "            couplers_ = Couplers2q_corner\n",
    "\n",
    "            \n",
    "        if qubit_id==2:\n",
    "            x_shift = 200\n",
    "        else:\n",
    "            x_shift = 100\n",
    "        if line_id == 0:\n",
    "            transformations = {}\n",
    "#             transformations = {'mirror':[(sample.chip_geometry.sample_horizontal_size/2+qubit_position_offset*(qubit_id-(num_qubits_line-1)/2),\n",
    "#                         sample.chip_geometry.sample_vertical_size/2+2*qubit_position_offset*(line_id-0.5)),\n",
    "#                        (sample.chip_geometry.sample_horizontal_size/2+qubit_position_offset*(qubit_id-(num_qubits_line-1)/2),\n",
    "#                         sample.chip_geometry.sample_vertical_size/2+2*qubit_position_offset*(line_id-0.5)+10)]}\n",
    "            coaxmon= elements.coaxmon.Coaxmon(name='Coaxmon',\n",
    "                        center=(sample.chip_geometry.sample_horizontal_size/2+1.2*qubit_position_offset*(qubit_id-(num_qubits_line-1)/2)+x_shift,\n",
    "                                sample.chip_geometry.sample_vertical_size/2+2*qubit_position_offset*(line_id-0.5)),\n",
    "                        center_radius = 100,\n",
    "                        inner_couplers_radius = 140,\n",
    "                        outer_couplers_radius = 200,\n",
    "                        inner_ground_radius = 230,\n",
    "                        outer_ground_radius = 250,\n",
    "                        layer_configuration = sample.layer_configuration,\n",
    "                        Couplers=couplers_,jj_params= jj_coaxmon_,\n",
    "                                  transformations=transformations,\n",
    "                                  calculate_capacitance=True)\n",
    "        else:\n",
    "            transformations = {'rotate':[np.pi,(sample.chip_geometry.sample_horizontal_size/2+1.2*qubit_position_offset*(qubit_id-(num_qubits_line-1)/2)+x_shift,\n",
    "                                sample.chip_geometry.sample_vertical_size/2+2*qubit_position_offset*(line_id-0.5))]}\n",
    "            if qubit_id==2:\n",
    "                coaxmon= elements.coaxmon.Coaxmon(name='Coaxmon',\n",
    "                        center=(sample.chip_geometry.sample_horizontal_size/2+1.2*qubit_position_offset*(qubit_id-(num_qubits_line-1)/2)+x_shift,\n",
    "                                sample.chip_geometry.sample_vertical_size/2+2*qubit_position_offset*(line_id-0.5)),\n",
    "                        center_radius = 100,\n",
    "                        inner_couplers_radius = 140,\n",
    "                        outer_couplers_radius = 200,\n",
    "                        inner_ground_radius = 230,\n",
    "                        outer_ground_radius = 250,\n",
    "                        layer_configuration = sample.layer_configuration,\n",
    "                        Couplers=couplers_,jj_params= jj_coaxmon_,\n",
    "                                  transformations=transformations,\n",
    "                                  calculate_capacitance=True)\n",
    "\n",
    "\n",
    "        sample.add(coaxmon)\n",
    "\n",
    "sample.draw_design()"
   ]
  },
  {
   "cell_type": "code",
   "execution_count": 11,
   "metadata": {},
   "outputs": [],
   "source": [
    "sample.draw_design()\n",
    "sample.watch()"
   ]
  },
  {
   "cell_type": "markdown",
   "metadata": {},
   "source": [
    "## couplers"
   ]
  },
  {
   "cell_type": "code",
   "execution_count": 11,
   "metadata": {
    "collapsed": true
   },
   "outputs": [],
   "source": [
    "jj_coupler = {'indent':40,\n",
    "               'a1':0.243,\n",
    "               'a2':0.243,\n",
    "               'angle': 0}\n",
    "fluxline_parameters_vertical={'w':4,\n",
    "                's':4,\n",
    "                'g':4,\n",
    "                'length_x':20,\n",
    "                'length_y':25,\n",
    "                'width':4}\n",
    "fluxline_parameters_horizontal={'w':4,\n",
    "                's':4,\n",
    "                'g':4,\n",
    "                'length':30,\n",
    "                'width':4}\n",
    "\n",
    "# 1st horizontal line of couplers\n",
    "for line_id in range(2):\n",
    "    if line_id == 0:\n",
    "        \n",
    "        removing = {'left':9,'right':20,'up':0,'down':40}\n",
    "    else:\n",
    "        removing = {'left':10,'right':17,'up':0,'down':40}\n",
    "        \n",
    "\n",
    "################# vertical coupler\n",
    "squid_coupler = {'a1':5,\n",
    "               'b1':0.8,\n",
    "               'a2':0.45,\n",
    "               'b2':0.243,\n",
    "               'c1':0.243,\n",
    "               'c2':10,\n",
    "               'angle':0,\n",
    "               'side':'right',\n",
    "               'point':((sample.qubits[5].get_terminals()['coupler2'].position[0]+\n",
    "                         sample.qubits[2].get_terminals()['coupler2'].position[0])/2+25,\n",
    "                        (sample.qubits[5].get_terminals()['coupler2'].position[1]+\n",
    "                         sample.qubits[2].get_terminals()['coupler2'].position[1])/2  ),\n",
    "                 'removing':{'left':0,'right':30,'up':10,'down':40}}\n",
    "########### fix in the future, qubit4 should be qubit1 and qubit 9= qubit2\n",
    "coupler_qq = elements.tqcoupler.MMCoupler('coupler',qubit1=sample.qubits[2],coupler1_name='coupler2',\n",
    "                                       qubit2=sample.qubits[5],coupler2_name='coupler2',\n",
    "                               core = 10,\n",
    "                               gap = 25,\n",
    "                               ground = 30,\n",
    "                               layer_configuration = sample.layer_configuration,\n",
    "                                jj_params=jj_coupler,squid_params=squid_coupler,fluxline=fluxline_parameters_vertical)\n",
    "sample.add(coupler_qq)"
   ]
  },
  {
   "cell_type": "code",
   "execution_count": 14,
   "metadata": {
    "collapsed": true
   },
   "outputs": [],
   "source": [
    "sample.watch()"
   ]
  },
  {
   "cell_type": "markdown",
   "metadata": {},
   "source": [
    "# Feedlines+Resonators"
   ]
  },
  {
   "cell_type": "code",
   "execution_count": 12,
   "metadata": {},
   "outputs": [
    {
     "name": "stdout",
     "output_type": "stream",
     "text": [
      "Meander\n",
      "[(982.5, 2287.0), (982.5, 2237.0), (1132.5, 2237.0), (1132.5, 2167.0), (832.5, 2167.0), (832.5, 2097.0), (1132.5, 2097.0), (1132.5, 2027.0), (832.5, 2027.0), (832.5, 1957.0), (1132.5, 1957.0), (1132.5, 1887.0), (832.5, 1887.0), (832.5, 1817.0), (1132.5, 1817.0), (1132.5, 1747.0), (832.5, 1747.0), (832.5, 1677.0), (1132.5, 1677.0), (1132.5, 1607.0), (832.5, 1607.0), (832.5, 1537.0), (1132.5, 1537.0), (1132.5, 1537.0)]\n",
      "3900.15000005\n",
      "3900.15000005\n",
      "Meander\n",
      "[(1942.5, 2287.0), (1942.5, 2237.0), (2092.5, 2237.0), (2092.5, 2167.0), (1792.5, 2167.0), (1792.5, 2097.0), (2092.5, 2097.0), (2092.5, 2027.0), (1792.5, 2027.0), (1792.5, 1957.0), (2092.5, 1957.0), (2092.5, 1887.0), (1792.5, 1887.0), (1792.5, 1817.0), (2092.5, 1817.0), (2092.5, 1747.0), (1792.5, 1747.0), (1792.5, 1677.0), (2092.5, 1677.0), (2092.5, 1607.0), (1792.5, 1607.0), (1792.5, 1537.0), (2092.5, 1537.0), (2092.5, 1537.0)]\n",
      "3900.15000005\n",
      "3900.15000005\n",
      "Meander\n",
      "[(2772.5, 2287.0), (2772.5, 2237.0), (3122.5, 2237.0), (3122.5, 2167.0), (2722.5, 2167.0), (2722.5, 2097.0), (3122.5, 2097.0), (3122.5, 2027.0), (2722.5, 2027.0), (2722.5, 1957.0), (3122.5, 1957.0), (3122.5, 1887.0), (2722.5, 1887.0), (2722.5, 1817.0), (3122.5, 1817.0), (3122.5, 1747.0), (2722.5, 1747.0), (2722.5, 1677.0), (2862.5, 1677.0)]\n",
      "3900.0\n",
      "3900.0\n"
     ]
    }
   ],
   "source": [
    "left_element = pads_left[0]\n",
    "left_port = 'port'\n",
    "ebanoe_govno = 0.5*(resonator_core+ resonator_ground+ tl_core + resonator_gap + resonator_gap + tl_gap + tl_gap +2*tl_ground)\n",
    "for coupler_id in range(3):\n",
    "    # coupler_start_x = sample.chip_geometry.sample_horizontal_size/2+qubit_position_offset*(coupler_id-(num_qubits_line-1)/2)-440\n",
    "    if coupler_id == 2:\n",
    "        start_shift=280\n",
    "    else:\n",
    "        start_shift=50\n",
    "    coupler_start_x = list(sample.qubits[coupler_id].get_terminals()['coupler2'].position)[0]-start_shift\n",
    "    # 2. Create main copler:\n",
    "    total_length=0\n",
    "    main_coupler = elements.CPWCoupler('TL-resonator coupler', [(coupler_start_x-coupler_length, central_line_y-ebanoe_govno+tl_ground + tl_gap +0.5*tl_core), \n",
    "                                                                (coupler_start_x, central_line_y-ebanoe_govno+tl_ground + tl_gap +0.5*tl_core)],\n",
    "                                       [resonator_core, resonator_ground, tl_core],[resonator_gap, resonator_gap, tl_gap, tl_gap],\n",
    "                                       tl_ground, sample.layer_configuration, r=100)\n",
    "    sample.add(main_coupler)\n",
    "    total_length = total_length + coupler_length\n",
    "\n",
    "    # 3. Create fanout to create closed end of resonator\n",
    "    fanout_for_closed_end = sample.fanout(o=main_coupler, port='port1', name='closed end resonator fanout', grouping=[1, 3])\n",
    "\n",
    "    # 4. \n",
    "    g1 = sample.ground(o=fanout_for_closed_end, port='center', name='cl1', grounding_width=10, grounding_between = [(2,3)])\n",
    "\n",
    "    # 6. Create closed meander of resonator\n",
    "    if coupler_id == 2:\n",
    "        length_right= 350\n",
    "        length_left = 50\n",
    "    else:\n",
    "        length_right= 150\n",
    "        length_left = 150\n",
    "    closed_end_meander = sample.connect_meander(name='closed end', o1=fanout_for_closed_end, port1='up',\n",
    "                                                meander_length=3900,\n",
    "                                                length_left =length_left,\n",
    "                                                length_right =length_right,\n",
    "                                                first_step_orientation ='right',\n",
    "                                                meander_orientation = 0,meander_type='flush')\n",
    "\n",
    "\n",
    "    print(closed_end_meander.length)\n",
    "    #                                                 end_point=(1500,1500),\n",
    "    #                                                end_orientation=0)\n",
    "    total_length = total_length + closed_end_meander.length\n",
    "    # 7. Create grounding of resonator\n",
    "    resonator_ground_ = sample.ground(o=closed_end_meander, port='port2', name='resonator ground', grounding_width=30, grounding_between = [(0,2)])\n",
    "\n",
    "    # 8. Create fanout to create open end of resonator\n",
    "    fanout_for_open_end = sample.fanout(o=main_coupler, port='port2', name='open end resonator fanout', grouping=[1, 3])\n",
    "\n",
    "    #     # 9. \n",
    "    # g2 = sample.ground(o=fanout_for_open_end, port='center', name='cl2', grounding_width=10, grounding_between = [(0,1)])\n",
    "\n",
    "        # 10. Create open end of resonator\n",
    "    # open_end = elements.OpenEnd(name='open end',position=(fanout_for_open_end.get_terminals()['down'].position[0],\n",
    "    #                                                                    fanout_for_open_end.get_terminals()['down'].position[1]-open_length),\n",
    "    #                                          w=[resonator_core],\n",
    "    #                                          s=[resonator_gap, resonator_gap],\n",
    "    #                                          g=tl_ground,\n",
    "    #                                          orientation=-np.pi/2,\n",
    "    #                                          layer_configuration=sample.layer_configuration,\n",
    "    #                                          h1=20,\n",
    "    #                                           h2=10,\n",
    "    #                                          )\n",
    "    #     sample.add(open_end)\n",
    "    #     # 11. Connect open end with the coupler part of the resonator\n",
    "    #     open_end_resonator = sample.connect_cpw(fanout_for_open_end,open_end,'down','wide',name='right open end',points=[])\n",
    "    #     total_length = total_length + open_end_resonator.length\n",
    "    # res_params = total_length#,open_end_resonator.z0,open_end_resonator.cl)\n",
    "\n",
    "\n",
    "    left_TL = sample.connect_cpw(o1=left_element, o2=g1, port1=left_port, port2='narrow', name='left TL'+str(coupler_id), \n",
    "                                 points=[])\n",
    "    if coupler_id ==2:\n",
    "        port1='coupler3'\n",
    "    else:\n",
    "        port1='coupler2'\n",
    "    c1 = sample.connect_cpw(sample.qubits[coupler_id], fanout_for_open_end, port1=port1, port2='down', \n",
    "                       name='open end res'+str(coupler_id), \n",
    "                            points=sample.cpw_shift(sample.qubits[coupler_id],port1,-20))\n",
    "    g2 = sample.ground(o=fanout_for_open_end, port='center', name='right grounding'+str(coupler_id), \n",
    "                           grounding_width=10, grounding_between = [(0,1), (3, 4)])\n",
    "\n",
    "    left_element = g2\n",
    "    left_port = 'narrow'"
   ]
  },
  {
   "cell_type": "code",
   "execution_count": 8,
   "metadata": {},
   "outputs": [],
   "source": [
    "sample.draw_design()\n",
    "sample.watch()"
   ]
  },
  {
   "cell_type": "code",
   "execution_count": null,
   "metadata": {
    "collapsed": true
   },
   "outputs": [],
   "source": []
  },
  {
   "cell_type": "markdown",
   "metadata": {},
   "source": [
    "## connect contact pads to qubits"
   ]
  },
  {
   "cell_type": "code",
   "execution_count": 14,
   "metadata": {},
   "outputs": [
    {
     "ename": "ValueError",
     "evalue": "Too short segment in line to round corner with given radius",
     "output_type": "error",
     "traceback": [
      "\u001b[1;31m---------------------------------------------------------------------------\u001b[0m",
      "\u001b[1;31mValueError\u001b[0m                                Traceback (most recent call last)",
      "\u001b[1;32m<ipython-input-14-260b810d3be3>\u001b[0m in \u001b[0;36m<module>\u001b[1;34m()\u001b[0m\n\u001b[0;32m     23\u001b[0m     \u001b[0msample\u001b[0m\u001b[1;33m.\u001b[0m\u001b[0madd\u001b[0m\u001b[1;33m(\u001b[0m\u001b[0mflux_line_narrowing\u001b[0m\u001b[1;33m)\u001b[0m\u001b[1;33m\u001b[0m\u001b[0m\n\u001b[0;32m     24\u001b[0m \u001b[1;33m\u001b[0m\u001b[0m\n\u001b[1;32m---> 25\u001b[1;33m     \u001b[0msample\u001b[0m\u001b[1;33m.\u001b[0m\u001b[0mconnect_cpw\u001b[0m\u001b[1;33m(\u001b[0m\u001b[0mpad\u001b[0m\u001b[1;33m,\u001b[0m \u001b[0mflux_line_narrowing\u001b[0m\u001b[1;33m,\u001b[0m \u001b[1;34m'port'\u001b[0m\u001b[1;33m,\u001b[0m \u001b[1;34m'port2'\u001b[0m\u001b[1;33m,\u001b[0m \u001b[1;34m'flux_control5'\u001b[0m\u001b[1;33m,\u001b[0m \u001b[0mpoints\u001b[0m\u001b[1;33m=\u001b[0m\u001b[1;33m[\u001b[0m\u001b[1;33m]\u001b[0m\u001b[1;33m)\u001b[0m\u001b[1;33m\u001b[0m\u001b[0m\n\u001b[0m\u001b[0;32m     26\u001b[0m \u001b[1;33m\u001b[0m\u001b[0m\n\u001b[0;32m     27\u001b[0m \u001b[1;31m#sample.connect_cpw(pads_bottom[0], sample.qubits[6], 'port', 'flux_line', 'flux_control6', points=[])\u001b[0m\u001b[1;33m\u001b[0m\u001b[1;33m\u001b[0m\u001b[0m\n",
      "\u001b[1;32m~\\git\\QCreator\\QCreator\\general_sample_creator.py\u001b[0m in \u001b[0;36mconnect_cpw\u001b[1;34m(self, o1, o2, port1, port2, name, points)\u001b[0m\n\u001b[0;32m    232\u001b[0m         \u001b[0mpoints\u001b[0m \u001b[1;33m=\u001b[0m \u001b[1;33m[\u001b[0m\u001b[0mtuple\u001b[0m\u001b[1;33m(\u001b[0m\u001b[0mt1\u001b[0m\u001b[1;33m.\u001b[0m\u001b[0mposition\u001b[0m\u001b[1;33m)\u001b[0m\u001b[1;33m]\u001b[0m \u001b[1;33m+\u001b[0m \u001b[0mpoints\u001b[0m \u001b[1;33m+\u001b[0m \u001b[1;33m[\u001b[0m\u001b[0mtuple\u001b[0m\u001b[1;33m(\u001b[0m\u001b[0mt2\u001b[0m\u001b[1;33m.\u001b[0m\u001b[0mposition\u001b[0m\u001b[1;33m)\u001b[0m\u001b[1;33m]\u001b[0m\u001b[1;33m\u001b[0m\u001b[0m\n\u001b[0;32m    233\u001b[0m         cpw = elements.CPW(name, points, w, s, g, self.layer_configuration, r=self.default_cpw_radius(w, s, g),\n\u001b[1;32m--> 234\u001b[1;33m                            corner_type='round', orientation1=orientation1, orientation2=orientation2)\n\u001b[0m\u001b[0;32m    235\u001b[0m         \u001b[0mself\u001b[0m\u001b[1;33m.\u001b[0m\u001b[0madd\u001b[0m\u001b[1;33m(\u001b[0m\u001b[0mcpw\u001b[0m\u001b[1;33m)\u001b[0m\u001b[1;33m\u001b[0m\u001b[0m\n\u001b[0;32m    236\u001b[0m         \u001b[1;31m#self.connections.extend([((cpw, 'port1', 0), (o1, port1, 0)), ((cpw, 'port2', 0), (o2, port2, 0))])\u001b[0m\u001b[1;33m\u001b[0m\u001b[1;33m\u001b[0m\u001b[0m\n",
      "\u001b[1;32m~\\git\\QCreator\\QCreator\\elements\\cpw.py\u001b[0m in \u001b[0;36m__init__\u001b[1;34m(self, name, points, w, s, g, layer_configuration, r, corner_type, orientation1, orientation2)\u001b[0m\n\u001b[0;32m    238\u001b[0m                  \u001b[0mlayer_configuration\u001b[0m\u001b[1;33m:\u001b[0m \u001b[0mLayerConfiguration\u001b[0m\u001b[1;33m,\u001b[0m \u001b[0mr\u001b[0m\u001b[1;33m:\u001b[0m \u001b[0mfloat\u001b[0m\u001b[1;33m,\u001b[0m \u001b[0mcorner_type\u001b[0m\u001b[1;33m:\u001b[0m \u001b[0mstr\u001b[0m \u001b[1;33m=\u001b[0m \u001b[1;34m'round'\u001b[0m\u001b[1;33m,\u001b[0m\u001b[1;33m\u001b[0m\u001b[0m\n\u001b[0;32m    239\u001b[0m                  orientation1: float = None, orientation2: float = None):\n\u001b[1;32m--> 240\u001b[1;33m         \u001b[0msuper\u001b[0m\u001b[1;33m(\u001b[0m\u001b[1;33m)\u001b[0m\u001b[1;33m.\u001b[0m\u001b[0m__init__\u001b[0m\u001b[1;33m(\u001b[0m\u001b[0mname\u001b[0m\u001b[1;33m,\u001b[0m \u001b[0mpoints\u001b[0m\u001b[1;33m,\u001b[0m \u001b[1;33m[\u001b[0m\u001b[0mw\u001b[0m\u001b[1;33m]\u001b[0m\u001b[1;33m,\u001b[0m \u001b[1;33m[\u001b[0m\u001b[0ms\u001b[0m\u001b[1;33m,\u001b[0m \u001b[0ms\u001b[0m\u001b[1;33m]\u001b[0m\u001b[1;33m,\u001b[0m \u001b[0mg\u001b[0m\u001b[1;33m,\u001b[0m \u001b[0mlayer_configuration\u001b[0m\u001b[1;33m,\u001b[0m \u001b[0mr\u001b[0m\u001b[1;33m,\u001b[0m \u001b[0mcorner_type\u001b[0m\u001b[1;33m,\u001b[0m \u001b[0morientation1\u001b[0m\u001b[1;33m,\u001b[0m \u001b[0morientation2\u001b[0m\u001b[1;33m)\u001b[0m\u001b[1;33m\u001b[0m\u001b[0m\n\u001b[0m\u001b[0;32m    241\u001b[0m \u001b[1;33m\u001b[0m\u001b[0m\n\u001b[0;32m    242\u001b[0m         \u001b[0mself\u001b[0m\u001b[1;33m.\u001b[0m\u001b[0mterminals\u001b[0m\u001b[1;33m[\u001b[0m\u001b[1;34m'port1'\u001b[0m\u001b[1;33m]\u001b[0m\u001b[1;33m.\u001b[0m\u001b[0mtype\u001b[0m \u001b[1;33m=\u001b[0m \u001b[1;34m'cpw'\u001b[0m\u001b[1;33m\u001b[0m\u001b[0m\n",
      "\u001b[1;32m~\\git\\QCreator\\QCreator\\elements\\cpw.py\u001b[0m in \u001b[0;36m__init__\u001b[1;34m(self, name, points, w, s, g, layer_configuration, r, corner_type, orientation1, orientation2)\u001b[0m\n\u001b[0;32m     54\u001b[0m \u001b[1;33m\u001b[0m\u001b[0m\n\u001b[0;32m     55\u001b[0m         \u001b[0mself\u001b[0m\u001b[1;33m.\u001b[0m\u001b[0msegments\u001b[0m \u001b[1;33m=\u001b[0m \u001b[1;33m[\u001b[0m\u001b[1;33m]\u001b[0m\u001b[1;33m\u001b[0m\u001b[0m\n\u001b[1;32m---> 56\u001b[1;33m         \u001b[0mself\u001b[0m\u001b[1;33m.\u001b[0m\u001b[0mfinalize_points\u001b[0m\u001b[1;33m(\u001b[0m\u001b[1;33m)\u001b[0m\u001b[1;33m\u001b[0m\u001b[0m\n\u001b[0m\u001b[0;32m     57\u001b[0m \u001b[1;33m\u001b[0m\u001b[0m\n\u001b[0;32m     58\u001b[0m     \u001b[1;32mdef\u001b[0m \u001b[0mfinalize_points\u001b[0m\u001b[1;33m(\u001b[0m\u001b[0mself\u001b[0m\u001b[1;33m)\u001b[0m\u001b[1;33m:\u001b[0m\u001b[1;33m\u001b[0m\u001b[0m\n",
      "\u001b[1;32m~\\git\\QCreator\\QCreator\\elements\\cpw.py\u001b[0m in \u001b[0;36mfinalize_points\u001b[1;34m(self)\u001b[0m\n\u001b[0;32m    117\u001b[0m \u001b[1;33m\u001b[0m\u001b[0m\n\u001b[0;32m    118\u001b[0m                 \u001b[1;32mif\u001b[0m \u001b[0mreplaced_length\u001b[0m \u001b[1;33m>\u001b[0m \u001b[0mlength1\u001b[0m \u001b[1;32mor\u001b[0m \u001b[0mreplaced_length\u001b[0m \u001b[1;33m>\u001b[0m \u001b[0mlength2\u001b[0m\u001b[1;33m:\u001b[0m\u001b[1;33m\u001b[0m\u001b[0m\n\u001b[1;32m--> 119\u001b[1;33m                     \u001b[1;32mraise\u001b[0m \u001b[0mValueError\u001b[0m\u001b[1;33m(\u001b[0m\u001b[1;34m'Too short segment in line to round corner with given radius'\u001b[0m\u001b[1;33m)\u001b[0m\u001b[1;33m\u001b[0m\u001b[0m\n\u001b[0m\u001b[0;32m    120\u001b[0m \u001b[1;33m\u001b[0m\u001b[0m\n\u001b[0;32m    121\u001b[0m                 \u001b[0mself\u001b[0m\u001b[1;33m.\u001b[0m\u001b[0msegments\u001b[0m\u001b[1;33m.\u001b[0m\u001b[0mappend\u001b[0m\u001b[1;33m(\u001b[0m\u001b[1;33m{\u001b[0m\u001b[1;34m'type'\u001b[0m\u001b[1;33m:\u001b[0m \u001b[1;34m'segment'\u001b[0m\u001b[1;33m,\u001b[0m \u001b[1;34m'endpoint'\u001b[0m\u001b[1;33m:\u001b[0m \u001b[0mreplaced_point1\u001b[0m\u001b[1;33m}\u001b[0m\u001b[1;33m)\u001b[0m\u001b[1;33m\u001b[0m\u001b[0m\n",
      "\u001b[1;31mValueError\u001b[0m: Too short segment in line to round corner with given radius"
     ]
    }
   ],
   "source": [
    "flux_pads = [\n",
    "    (sample.qubits[0], pads_bottom[0]),\n",
    "    (sample.qubits[1], pads_bottom[1]),\n",
    "    (sample.qubits[2], pads_bottom[2]),\n",
    "    (sample.qubits[3], pads_top[0]),\n",
    "    (sample.qubits[4], pads_top[1]),\n",
    "    (sample.qubits[5], pads_top[2]),\n",
    "    \n",
    "    ]\n",
    "\n",
    "for coaxmon, pad in flux_pads:  \n",
    "    flux_line_narrowing_position = np.asarray(coaxmon.terminals['flux_line'].position)\n",
    "    direction = [np.cos(coaxmon.terminals['flux_line'].orientation), \n",
    "                 np.sin(coaxmon.terminals['flux_line'].orientation)]\n",
    "    narrowing_length = 10.0\n",
    "    flux_line_narrowing_position = flux_line_narrowing_position - np.asarray(direction)*narrowing_length/2\n",
    "    flux_line_narrowing = elements.Narrowing(name='flux_line_narrowing', position=flux_line_narrowing_position, \n",
    "                                             orientation=coaxmon.terminals['flux_line'].orientation+np.pi, \n",
    "                                             w1=coaxmon.terminals['flux_line'].w, \n",
    "                                             s1=coaxmon.terminals['flux_line'].s, g1=coaxmon.terminals['flux_line'].g,\n",
    "                                             w2=tl_core, s2=tl_gap, g2=tl_ground, \n",
    "                                             layer_configuration=sample.layer_configuration, length=narrowing_length)\n",
    "    sample.add(flux_line_narrowing)\n",
    "\n",
    "    sample.connect_cpw(pad, flux_line_narrowing, 'port', 'port2', 'flux_control5', points=[])\n",
    "\n",
    "#sample.connect_cpw(pads_bottom[0], sample.qubits[6], 'port', 'flux_line', 'flux_control6', points=[])\n",
    "#sample.connect_cpw(pads_bottom[2], sample.qubits[7], 'port', 'flux_line', 'flux_control7', points=[])\n",
    "#sample.connect_cpw(pads_top[4], sample.qubits[8], 'port', 'flux_line', 'flux_control8', points=[])"
   ]
  },
  {
   "cell_type": "markdown",
   "metadata": {},
   "source": [
    "# Finalize"
   ]
  },
  {
   "cell_type": "code",
   "execution_count": 28,
   "metadata": {
    "collapsed": true
   },
   "outputs": [],
   "source": [
    "grid_ground = elements.GridGround(sample.chip_geometry, sample.layer_configuration, sample.objects, \n",
    "                                  width=4, period=100)\n",
    "sample.add(grid_ground)\n",
    "sample.draw_design()"
   ]
  },
  {
   "cell_type": "code",
   "execution_count": 29,
   "metadata": {
    "collapsed": true
   },
   "outputs": [],
   "source": [
    "sample.draw_cap()"
   ]
  },
  {
   "cell_type": "code",
   "execution_count": 30,
   "metadata": {},
   "outputs": [
    {
     "name": "stdout",
     "output_type": "stream",
     "text": [
      "Gds file has been writen here:  C:\\Users\\Elena\\git\\QCreator\\example_notebooks\\1Q_test.gds\n",
      "For 0 conductor total length is:  11984\n",
      "For 1 conductor total length is:  4885\n",
      "For 2 conductor total length is:  1579\n",
      "For 3 conductor total length is:  1607\n",
      "Sum : 20055\n",
      "Data has been written into the file: C:\\Users\\Elena\\git\\QCreator\\example_notebooks\\mesh_4k_data\n"
     ]
    },
    {
     "ename": "FileNotFoundError",
     "evalue": "[WinError 2] Не удается найти указанный файл",
     "output_type": "error",
     "traceback": [
      "\u001b[1;31m---------------------------------------------------------------------------\u001b[0m",
      "\u001b[1;31mFileNotFoundError\u001b[0m                         Traceback (most recent call last)",
      "\u001b[1;32m<ipython-input-30-9cea8fd6b202>\u001b[0m in \u001b[0;36m<module>\u001b[1;34m()\u001b[0m\n\u001b[0;32m      1\u001b[0m \u001b[1;32mfor\u001b[0m \u001b[0mi\u001b[0m\u001b[1;33m,\u001b[0m\u001b[0mqubit\u001b[0m \u001b[1;32min\u001b[0m \u001b[0menumerate\u001b[0m\u001b[1;33m(\u001b[0m\u001b[0msample\u001b[0m\u001b[1;33m.\u001b[0m\u001b[0mqubits\u001b[0m\u001b[1;33m)\u001b[0m\u001b[1;33m:\u001b[0m\u001b[1;33m\u001b[0m\u001b[0m\n\u001b[0;32m      2\u001b[0m     sample.calculate_qubit_capacitance(cell= sample.qubit_cap_cells[i], qubit=sample.qubits[i],\n\u001b[1;32m----> 3\u001b[1;33m                                        mesh_volume=10)\n\u001b[0m",
      "\u001b[1;32m~\\git\\QCreator\\QCreator\\general_sample_creator.py\u001b[0m in \u001b[0;36mcalculate_qubit_capacitance\u001b[1;34m(self, cell, qubit, mesh_volume, name)\u001b[0m\n\u001b[0;32m    272\u001b[0m         \u001b[0mmesh\u001b[0m\u001b[1;33m.\u001b[0m\u001b[0mrun_meshing\u001b[0m\u001b[1;33m(\u001b[0m\u001b[0mmesh_volume\u001b[0m\u001b[1;33m=\u001b[0m\u001b[0mmesh_volume\u001b[0m\u001b[1;33m)\u001b[0m\u001b[1;33m\u001b[0m\u001b[0m\n\u001b[0;32m    273\u001b[0m         \u001b[0mmesh\u001b[0m\u001b[1;33m.\u001b[0m\u001b[0mwrite_into_file\u001b[0m\u001b[1;33m(\u001b[0m\u001b[0mos\u001b[0m\u001b[1;33m.\u001b[0m\u001b[0mgetcwd\u001b[0m\u001b[1;33m(\u001b[0m\u001b[1;33m)\u001b[0m \u001b[1;33m+\u001b[0m \u001b[1;34m'\\\\'\u001b[0m \u001b[1;33m+\u001b[0m \u001b[1;34m'mesh_4k_data'\u001b[0m\u001b[1;33m)\u001b[0m\u001b[1;33m\u001b[0m\u001b[0m\n\u001b[1;32m--> 274\u001b[1;33m         \u001b[0mmesh\u001b[0m\u001b[1;33m.\u001b[0m\u001b[0mrun_fastcap\u001b[0m\u001b[1;33m(\u001b[0m\u001b[0mos\u001b[0m\u001b[1;33m.\u001b[0m\u001b[0mgetcwd\u001b[0m\u001b[1;33m(\u001b[0m\u001b[1;33m)\u001b[0m \u001b[1;33m+\u001b[0m \u001b[1;34m'\\\\'\u001b[0m \u001b[1;33m+\u001b[0m \u001b[1;34m'mesh_4k_results'\u001b[0m\u001b[1;33m)\u001b[0m\u001b[1;33m\u001b[0m\u001b[0m\n\u001b[0m\u001b[0;32m    275\u001b[0m         \u001b[0mprint\u001b[0m\u001b[1;33m(\u001b[0m\u001b[1;34m\"Capacitance results have been writen here: \"\u001b[0m\u001b[1;33m,\u001b[0m \u001b[0mos\u001b[0m\u001b[1;33m.\u001b[0m\u001b[0mgetcwd\u001b[0m\u001b[1;33m(\u001b[0m\u001b[1;33m)\u001b[0m \u001b[1;33m+\u001b[0m \u001b[1;34m'\\\\'\u001b[0m \u001b[1;33m+\u001b[0m \u001b[1;34m'mesh_4k_results'\u001b[0m\u001b[1;33m)\u001b[0m\u001b[1;33m\u001b[0m\u001b[0m\n\u001b[0;32m    276\u001b[0m         \u001b[0mcaps\u001b[0m \u001b[1;33m=\u001b[0m \u001b[0mnp\u001b[0m\u001b[1;33m.\u001b[0m\u001b[0mround\u001b[0m\u001b[1;33m(\u001b[0m\u001b[0mmesh\u001b[0m\u001b[1;33m.\u001b[0m\u001b[0mget_capacitances\u001b[0m\u001b[1;33m(\u001b[0m\u001b[1;33m)\u001b[0m\u001b[1;33m,\u001b[0m\u001b[1;36m1\u001b[0m\u001b[1;33m)\u001b[0m\u001b[1;33m\u001b[0m\u001b[0m\n",
      "\u001b[1;32m~\\git\\QCreator\\QCreator\\meshing.py\u001b[0m in \u001b[0;36mrun_fastcap\u001b[1;34m(self, output_file_name)\u001b[0m\n\u001b[0;32m    115\u001b[0m         \u001b[0mself\u001b[0m\u001b[1;33m.\u001b[0m\u001b[0mcap_filename\u001b[0m \u001b[1;33m=\u001b[0m \u001b[0moutput_file_name\u001b[0m\u001b[1;33m\u001b[0m\u001b[0m\n\u001b[0;32m    116\u001b[0m         \u001b[1;31m# ret=subprocess.call(args,stdout=output_file, shell=False,stderr=subprocess.DEVNULL)\u001b[0m\u001b[1;33m\u001b[0m\u001b[1;33m\u001b[0m\u001b[0m\n\u001b[1;32m--> 117\u001b[1;33m         \u001b[0mret\u001b[0m \u001b[1;33m=\u001b[0m \u001b[0msubprocess\u001b[0m\u001b[1;33m.\u001b[0m\u001b[0mcall\u001b[0m\u001b[1;33m(\u001b[0m\u001b[0margs\u001b[0m\u001b[1;33m,\u001b[0m \u001b[0mstdout\u001b[0m\u001b[1;33m=\u001b[0m\u001b[0moutput_file\u001b[0m\u001b[1;33m,\u001b[0m \u001b[0mshell\u001b[0m\u001b[1;33m=\u001b[0m\u001b[1;32mFalse\u001b[0m\u001b[1;33m)\u001b[0m\u001b[1;33m\u001b[0m\u001b[0m\n\u001b[0m\u001b[0;32m    118\u001b[0m         \u001b[0moutput_file\u001b[0m\u001b[1;33m.\u001b[0m\u001b[0mclose\u001b[0m\u001b[1;33m(\u001b[0m\u001b[1;33m)\u001b[0m\u001b[1;33m\u001b[0m\u001b[0m\n\u001b[0;32m    119\u001b[0m         \u001b[0mprint\u001b[0m\u001b[1;33m(\u001b[0m\u001b[1;34m'Time for fastcap job is: '\u001b[0m\u001b[1;33m,\u001b[0m \u001b[0mtime\u001b[0m\u001b[1;33m.\u001b[0m\u001b[0mtime\u001b[0m\u001b[1;33m(\u001b[0m\u001b[1;33m)\u001b[0m \u001b[1;33m-\u001b[0m \u001b[0mstart\u001b[0m\u001b[1;33m)\u001b[0m\u001b[1;33m\u001b[0m\u001b[0m\n",
      "\u001b[1;32m~\\Anaconda3\\lib\\subprocess.py\u001b[0m in \u001b[0;36mcall\u001b[1;34m(timeout, *popenargs, **kwargs)\u001b[0m\n\u001b[0;32m    265\u001b[0m     \u001b[0mretcode\u001b[0m \u001b[1;33m=\u001b[0m \u001b[0mcall\u001b[0m\u001b[1;33m(\u001b[0m\u001b[1;33m[\u001b[0m\u001b[1;34m\"ls\"\u001b[0m\u001b[1;33m,\u001b[0m \u001b[1;34m\"-l\"\u001b[0m\u001b[1;33m]\u001b[0m\u001b[1;33m)\u001b[0m\u001b[1;33m\u001b[0m\u001b[0m\n\u001b[0;32m    266\u001b[0m     \"\"\"\n\u001b[1;32m--> 267\u001b[1;33m     \u001b[1;32mwith\u001b[0m \u001b[0mPopen\u001b[0m\u001b[1;33m(\u001b[0m\u001b[1;33m*\u001b[0m\u001b[0mpopenargs\u001b[0m\u001b[1;33m,\u001b[0m \u001b[1;33m**\u001b[0m\u001b[0mkwargs\u001b[0m\u001b[1;33m)\u001b[0m \u001b[1;32mas\u001b[0m \u001b[0mp\u001b[0m\u001b[1;33m:\u001b[0m\u001b[1;33m\u001b[0m\u001b[0m\n\u001b[0m\u001b[0;32m    268\u001b[0m         \u001b[1;32mtry\u001b[0m\u001b[1;33m:\u001b[0m\u001b[1;33m\u001b[0m\u001b[0m\n\u001b[0;32m    269\u001b[0m             \u001b[1;32mreturn\u001b[0m \u001b[0mp\u001b[0m\u001b[1;33m.\u001b[0m\u001b[0mwait\u001b[0m\u001b[1;33m(\u001b[0m\u001b[0mtimeout\u001b[0m\u001b[1;33m=\u001b[0m\u001b[0mtimeout\u001b[0m\u001b[1;33m)\u001b[0m\u001b[1;33m\u001b[0m\u001b[0m\n",
      "\u001b[1;32m~\\Anaconda3\\lib\\subprocess.py\u001b[0m in \u001b[0;36m__init__\u001b[1;34m(self, args, bufsize, executable, stdin, stdout, stderr, preexec_fn, close_fds, shell, cwd, env, universal_newlines, startupinfo, creationflags, restore_signals, start_new_session, pass_fds, encoding, errors)\u001b[0m\n\u001b[0;32m    707\u001b[0m                                 \u001b[0mc2pread\u001b[0m\u001b[1;33m,\u001b[0m \u001b[0mc2pwrite\u001b[0m\u001b[1;33m,\u001b[0m\u001b[1;33m\u001b[0m\u001b[0m\n\u001b[0;32m    708\u001b[0m                                 \u001b[0merrread\u001b[0m\u001b[1;33m,\u001b[0m \u001b[0merrwrite\u001b[0m\u001b[1;33m,\u001b[0m\u001b[1;33m\u001b[0m\u001b[0m\n\u001b[1;32m--> 709\u001b[1;33m                                 restore_signals, start_new_session)\n\u001b[0m\u001b[0;32m    710\u001b[0m         \u001b[1;32mexcept\u001b[0m\u001b[1;33m:\u001b[0m\u001b[1;33m\u001b[0m\u001b[0m\n\u001b[0;32m    711\u001b[0m             \u001b[1;31m# Cleanup if the child failed starting.\u001b[0m\u001b[1;33m\u001b[0m\u001b[1;33m\u001b[0m\u001b[0m\n",
      "\u001b[1;32m~\\Anaconda3\\lib\\subprocess.py\u001b[0m in \u001b[0;36m_execute_child\u001b[1;34m(self, args, executable, preexec_fn, close_fds, pass_fds, cwd, env, startupinfo, creationflags, shell, p2cread, p2cwrite, c2pread, c2pwrite, errread, errwrite, unused_restore_signals, unused_start_new_session)\u001b[0m\n\u001b[0;32m    995\u001b[0m                                          \u001b[0menv\u001b[0m\u001b[1;33m,\u001b[0m\u001b[1;33m\u001b[0m\u001b[0m\n\u001b[0;32m    996\u001b[0m                                          \u001b[0mos\u001b[0m\u001b[1;33m.\u001b[0m\u001b[0mfspath\u001b[0m\u001b[1;33m(\u001b[0m\u001b[0mcwd\u001b[0m\u001b[1;33m)\u001b[0m \u001b[1;32mif\u001b[0m \u001b[0mcwd\u001b[0m \u001b[1;32mis\u001b[0m \u001b[1;32mnot\u001b[0m \u001b[1;32mNone\u001b[0m \u001b[1;32melse\u001b[0m \u001b[1;32mNone\u001b[0m\u001b[1;33m,\u001b[0m\u001b[1;33m\u001b[0m\u001b[0m\n\u001b[1;32m--> 997\u001b[1;33m                                          startupinfo)\n\u001b[0m\u001b[0;32m    998\u001b[0m             \u001b[1;32mfinally\u001b[0m\u001b[1;33m:\u001b[0m\u001b[1;33m\u001b[0m\u001b[0m\n\u001b[0;32m    999\u001b[0m                 \u001b[1;31m# Child is launched. Close the parent's copy of those pipe\u001b[0m\u001b[1;33m\u001b[0m\u001b[1;33m\u001b[0m\u001b[0m\n",
      "\u001b[1;31mFileNotFoundError\u001b[0m: [WinError 2] Не удается найти указанный файл"
     ]
    }
   ],
   "source": [
    "for i,qubit in enumerate(sample.qubits):\n",
    "    sample.calculate_qubit_capacitance(cell= sample.qubit_cap_cells[i], qubit=sample.qubits[i],\n",
    "                                       mesh_volume=10)"
   ]
  },
  {
   "cell_type": "code",
   "execution_count": null,
   "metadata": {
    "collapsed": true
   },
   "outputs": [],
   "source": []
  },
  {
   "cell_type": "code",
   "execution_count": null,
   "metadata": {
    "collapsed": true
   },
   "outputs": [],
   "source": []
  },
  {
   "cell_type": "code",
   "execution_count": null,
   "metadata": {
    "collapsed": true
   },
   "outputs": [],
   "source": []
  },
  {
   "cell_type": "markdown",
   "metadata": {},
   "source": [
    "# Feedline"
   ]
  },
  {
   "cell_type": "code",
   "execution_count": 33,
   "metadata": {},
   "outputs": [
    {
     "ename": "AttributeError",
     "evalue": "'Sample' object has no attribute 'generate_line'",
     "output_type": "error",
     "traceback": [
      "\u001b[1;31m---------------------------------------------------------------------------\u001b[0m",
      "\u001b[1;31mAttributeError\u001b[0m                            Traceback (most recent call last)",
      "\u001b[1;32m<ipython-input-33-ed0e7db4bde3>\u001b[0m in \u001b[0;36m<module>\u001b[1;34m()\u001b[0m\n\u001b[0;32m      1\u001b[0m \u001b[0mpoints\u001b[0m \u001b[1;33m=\u001b[0m \u001b[1;33m[\u001b[0m\u001b[0mp1\u001b[0m\u001b[1;33m.\u001b[0m\u001b[0mposition\u001b[0m\u001b[1;33m,\u001b[0m \u001b[0mp2\u001b[0m\u001b[1;33m.\u001b[0m\u001b[0mposition\u001b[0m\u001b[1;33m]\u001b[0m\u001b[1;33m\u001b[0m\u001b[0m\n\u001b[1;32m----> 2\u001b[1;33m \u001b[0msample\u001b[0m\u001b[1;33m.\u001b[0m\u001b[0mgenerate_line\u001b[0m\u001b[1;33m(\u001b[0m\u001b[1;34m'feedline'\u001b[0m\u001b[1;33m,\u001b[0m \u001b[0mdeepcopy\u001b[0m\u001b[1;33m(\u001b[0m\u001b[0mpoints\u001b[0m\u001b[1;33m)\u001b[0m\u001b[1;33m,\u001b[0m \u001b[0mtl_core\u001b[0m\u001b[1;33m,\u001b[0m \u001b[0mtl_gap\u001b[0m\u001b[1;33m,\u001b[0m \u001b[0mtl_ground\u001b[0m\u001b[1;33m,\u001b[0m \u001b[1;32mNone\u001b[0m\u001b[1;33m)\u001b[0m\u001b[1;33m\u001b[0m\u001b[0m\n\u001b[0m\u001b[0;32m      3\u001b[0m \u001b[1;31m#('feedline', points, tl_core, tl_gap, tl_ground, sample.layer_configuration, R = 20)\u001b[0m\u001b[1;33m\u001b[0m\u001b[1;33m\u001b[0m\u001b[0m\n\u001b[0;32m      4\u001b[0m \u001b[0msample\u001b[0m\u001b[1;33m.\u001b[0m\u001b[0madd\u001b[0m\u001b[1;33m(\u001b[0m\u001b[0mgdf\u001b[0m\u001b[1;33m.\u001b[0m\u001b[0mCPW\u001b[0m\u001b[1;33m(\u001b[0m\u001b[1;34m'feedline'\u001b[0m\u001b[1;33m,\u001b[0m \u001b[0mpoints\u001b[0m\u001b[1;33m,\u001b[0m \u001b[0mtl_core\u001b[0m\u001b[1;33m,\u001b[0m \u001b[0mtl_gap\u001b[0m\u001b[1;33m,\u001b[0m \u001b[0mtl_ground\u001b[0m\u001b[1;33m,\u001b[0m \u001b[1;32mNone\u001b[0m\u001b[1;33m,\u001b[0m \u001b[0msample\u001b[0m\u001b[1;33m.\u001b[0m\u001b[0mlayer_configuration\u001b[0m\u001b[1;33m,\u001b[0m \u001b[0mR\u001b[0m \u001b[1;33m=\u001b[0m \u001b[1;36m100\u001b[0m\u001b[1;33m)\u001b[0m\u001b[1;33m)\u001b[0m\u001b[1;33m\u001b[0m\u001b[0m\n",
      "\u001b[1;31mAttributeError\u001b[0m: 'Sample' object has no attribute 'generate_line'"
     ]
    }
   ],
   "source": [
    "points = [p1.position, p2.position]\n",
    "sample.generate_line('feedline', deepcopy(points), tl_core, tl_gap, tl_ground, None)\n",
    "#('feedline', points, tl_core, tl_gap, tl_ground, sample.layer_configuration, R = 20)\n",
    "sample.add(gdf.CPW('feedline', points, tl_core, tl_gap, tl_ground, None, sample.layer_configuration, R = 100))"
   ]
  },
  {
   "cell_type": "code",
   "execution_count": 32,
   "metadata": {},
   "outputs": [
    {
     "ename": "AttributeError",
     "evalue": "'Sample' object has no attribute 'generate_array_of_bridges'",
     "output_type": "error",
     "traceback": [
      "\u001b[1;31m---------------------------------------------------------------------------\u001b[0m",
      "\u001b[1;31mAttributeError\u001b[0m                            Traceback (most recent call last)",
      "\u001b[1;32m<ipython-input-32-c3b239fbb863>\u001b[0m in \u001b[0;36m<module>\u001b[1;34m()\u001b[0m\n\u001b[0;32m      2\u001b[0m                     width=15, length=42, padsize=30, line_type=None)\n\u001b[0;32m      3\u001b[0m \u001b[1;33m\u001b[0m\u001b[0m\n\u001b[1;32m----> 4\u001b[1;33m \u001b[0msample\u001b[0m\u001b[1;33m.\u001b[0m\u001b[0mgenerate_array_of_bridges\u001b[0m\u001b[1;33m(\u001b[0m\u001b[0mdeepcopy\u001b[0m\u001b[1;33m(\u001b[0m\u001b[0mpoints\u001b[0m\u001b[1;33m)\u001b[0m\u001b[1;33m,\u001b[0m\u001b[0mfeedline_bridge_params\u001b[0m\u001b[1;33m)\u001b[0m\u001b[1;33m\u001b[0m\u001b[0m\n\u001b[0m",
      "\u001b[1;31mAttributeError\u001b[0m: 'Sample' object has no attribute 'generate_array_of_bridges'"
     ]
    }
   ],
   "source": [
    "feedline_bridge_params=creator.Bridges_over_line_param(distance=500, offset=30,\n",
    "                    width=15, length=42, padsize=30, line_type=None)\n",
    "\n",
    "sample.generate_array_of_bridges(deepcopy(points),feedline_bridge_params)"
   ]
  },
  {
   "cell_type": "markdown",
   "metadata": {},
   "source": [
    "# Draw design"
   ]
  },
  {
   "cell_type": "code",
   "execution_count": 17,
   "metadata": {},
   "outputs": [
    {
     "name": "stderr",
     "output_type": "stream",
     "text": [
      "C:\\Users\\Elena\\Anaconda3\\lib\\site-packages\\gdspy\\path.py:828: UserWarning: [GDSPY] Possible inconsistency found in `FlexPath` due to sharp corner.\n",
      "  \"[GDSPY] Possible inconsistency found in \"\n"
     ]
    }
   ],
   "source": [
    "sample.draw_design()"
   ]
  },
  {
   "cell_type": "code",
   "execution_count": 17,
   "metadata": {
    "collapsed": true
   },
   "outputs": [],
   "source": [
    "sample.watch()"
   ]
  },
  {
   "cell_type": "code",
   "execution_count": 11,
   "metadata": {},
   "outputs": [
    {
     "name": "stdout",
     "output_type": "stream",
     "text": [
      "Gds file has been writen here:  C:\\Users\\Elena\\git\\QCreator\\example_notebooks\\1Q_test.gds\n"
     ]
    }
   ],
   "source": [
    "sample.write_to_gds()"
   ]
  },
  {
   "cell_type": "code",
   "execution_count": null,
   "metadata": {
    "collapsed": true
   },
   "outputs": [],
   "source": []
  }
 ],
 "metadata": {
  "kernelspec": {
   "display_name": "Python 3",
   "language": "python",
   "name": "python3"
  },
  "language_info": {
   "codemirror_mode": {
    "name": "ipython",
    "version": 3
   },
   "file_extension": ".py",
   "mimetype": "text/x-python",
   "name": "python",
   "nbconvert_exporter": "python",
   "pygments_lexer": "ipython3",
   "version": "3.8.5"
  }
 },
 "nbformat": 4,
 "nbformat_minor": 2
}
