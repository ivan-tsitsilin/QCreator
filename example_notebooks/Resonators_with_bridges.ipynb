{
 "cells": [
  {
   "cell_type": "code",
   "execution_count": 1,
   "metadata": {},
   "outputs": [],
   "source": [
    "import sys\n",
    "sys.path.append('..')\n",
    "import gdspy\n",
    "import numpy as np\n",
    "from importlib import reload\n",
    "from copy import deepcopy\n",
    "from QCreator import elements\n",
    "from QCreator import general_sample_creator as creator\n",
    "from QCreator import meshing\n",
    "from QCreator.auxiliary_functions import *\n",
    "\n",
    "tl_core = 20.\n",
    "tl_gap = 12.\n",
    "tl_ground = 10.\n",
    "\n",
    "\n",
    "# resonator_core = 7\n",
    "# resonator_gap = 4\n",
    "# resonator_ground = 16\n",
    "resonator_core = 8\n",
    "resonator_gap = 7\n",
    "resonator_ground = 16\n",
    "\n",
    "pad_offset = 800\n",
    "pad_element_offset = 1000\n",
    "qubit_position_offset = 800\n",
    "\n",
    "coupler_start = pad_offset + pad_element_offset\n",
    "coupler_delta = 500\n",
    "coupler_length = 450\n",
    "num_couplers = 1"
   ]
  },
  {
   "cell_type": "code",
   "execution_count": 2,
   "metadata": {},
   "outputs": [],
   "source": [
    "reload(gdspy)\n",
    "reload(creator)\n",
    "reload(elements)\n",
    "\n",
    "\n",
    "layers_configuration = {\n",
    "    'total':0,\n",
    "    'restricted area':10,\n",
    "    'for removing':100,\n",
    "    'JJs':1,\n",
    "    'air bridges':2,\n",
    "    'air bridge pads':3,\n",
    "    'vertical gridlines':15,\n",
    "    'horizontal gridlines':16,\n",
    "    'inverted':17\n",
    "}\n",
    "\n",
    "sample = creator.Sample('1Q_test',layers_configuration)\n",
    "\n",
    "#specify sample vertical and horizontal lengths\n",
    "sample.chip_geometry.sample_vertical_size=4.7e3\n",
    "sample.chip_geometry.sample_horizontal_size=4.7e3\n",
    "# num_qubits_line = 3\n",
    "\n",
    "central_line_y = sample.chip_geometry.sample_vertical_size/2\n",
    "\n",
    "# ChichkovAB = elements.AirBridge(width=15, \n",
    "#                                 length=60, \n",
    "#                                 padsize=30, \n",
    "#                                 min_spacing = 30,\n",
    "#                                 layer_configuration=sample.layer_configuration)\n",
    "\n",
    "chip_edge_ground = elements.ChipEdgeGround(sample.chip_geometry, sample.layer_configuration, sample.pads)\n",
    "sample.add(chip_edge_ground)"
   ]
  },
  {
   "cell_type": "code",
   "execution_count": null,
   "metadata": {},
   "outputs": [],
   "source": []
  },
  {
   "cell_type": "code",
   "execution_count": 3,
   "metadata": {},
   "outputs": [],
   "source": [
    "# 1. Create contact pads:\n",
    "pads_left = []\n",
    "pads_right = []\n",
    "for pad_side_id in range(1):\n",
    "    pad = elements.Pad('pad-left-'+str(pad_side_id), \n",
    "                       (pad_offset,  sample.chip_geometry.sample_vertical_size/2), np.pi, tl_core, \n",
    "                       tl_gap, tl_ground, \n",
    "                       layer_configuration=sample.layer_configuration, chip_geometry=sample.chip_geometry, \n",
    "                       **elements.default_pad_geometry())\n",
    "    pads_left.append(pad)\n",
    "    sample.add(pad)\n",
    "    pad = elements.Pad('pad-right-'+str(pad_side_id), \n",
    "                       (sample.chip_geometry.sample_horizontal_size-pad_offset,  \n",
    "                        sample.chip_geometry.sample_vertical_size/2), 0, tl_core, \n",
    "                       tl_gap, tl_ground, \n",
    "                       layer_configuration=sample.layer_configuration, chip_geometry=sample.chip_geometry, \n",
    "                       **elements.default_pad_geometry())\n",
    "    pads_right.append(pad)\n",
    "    sample.add(pad)\n",
    "    \n",
    "pads_top = []\n",
    "pads_bottom = []\n",
    "for pad_side_id in range(3):\n",
    "    pad = elements.Pad('pad-bottom-'+str(pad_side_id), \n",
    "                       (sample.chip_geometry.sample_horizontal_size/4*(pad_side_id+1), pad_offset), \n",
    "                       -np.pi/2, tl_core, tl_gap, tl_ground, \n",
    "                       layer_configuration=sample.layer_configuration, chip_geometry=sample.chip_geometry, \n",
    "                       **elements.default_pad_geometry())\n",
    "    pads_bottom.append(pad)\n",
    "    sample.add(pad)\n",
    "    pad = elements.Pad('pad-top-'+str(pad_side_id), \n",
    "                       (sample.chip_geometry.sample_horizontal_size/4*(pad_side_id+1),\n",
    "                        sample.chip_geometry.sample_vertical_size-pad_offset), \n",
    "                        np.pi/2, tl_core, tl_gap, tl_ground, \n",
    "                       layer_configuration=sample.layer_configuration, chip_geometry=sample.chip_geometry, \n",
    "                       **elements.default_pad_geometry())\n",
    "    pads_top.append(pad)\n",
    "    sample.add(pad)\n",
    "    \n",
    "p1 = pads_left[0]\n",
    "p2 = pads_right[0]"
   ]
  },
  {
   "cell_type": "code",
   "execution_count": 4,
   "metadata": {},
   "outputs": [],
   "source": [
    "# g5, g6, res, open_part_of_res = draw_single_resonator(sample,elements,\n",
    "#                             coupler_start, central_line_y, coupler_length,\n",
    "#                              resonator_core,resonator_gap,resonator_ground, \n",
    "#                              tl_core, tl_gap, tl_ground, grounding_width=10,\n",
    "#                              closed_end_meander_length=3000,length_left=200,length_right=400,\n",
    "#                              open_end_legth=800,\n",
    "#                              port_orientation='right', direction_orientation='down')"
   ]
  },
  {
   "cell_type": "code",
   "execution_count": 5,
   "metadata": {},
   "outputs": [
    {
     "name": "stdout",
     "output_type": "stream",
     "text": [
      "cpw segments [{'type': 'endpoint', 'endpoint': array([ 800., 2350.])}, {'type': 'segment', 'endpoint': array([ 800.19200006, 2350.        ]), 'startpoint': array([ 800., 2350.])}, {'type': 'segment', 'endpoint': array([3899.80799994, 2350.        ]), 'startpoint': array([ 800.19200006, 2350.        ])}, {'type': 'endpoint', 'endpoint': array([3900., 2350.]), 'startpoint': array([3899.80799994, 2350.        ])}]\n",
      "[CPW \"---0\", l=0.192, CPW \"---_between_bridges_1\", l=300.000, CPW \"---_between_bridges_2\", l=300.000, CPW \"---_between_bridges_3\", l=300.000, CPW \"---_between_bridges_4\", l=300.000, CPW \"---_between_bridges_5\", l=300.000, CPW \"---_between_bridges_6\", l=300.000, CPW \"---_between_bridges_7\", l=300.000, CPW \"---_between_bridges_8\", l=300.000, CPW \"---_between_bridges_9\", l=300.000, CPW \"---_between_bridges_10\", l=309.616]\n"
     ]
    }
   ],
   "source": [
    "connector = sample.connect_cpw(o1=p1, o2=p2, port1='port', port2='port', name='---',\n",
    "                    points=[], bridges = True, pads_geometry=[4,10],\n",
    "                    bridge_geometry=[56, 7], distance_between_pads=54, min_spacing=300)"
   ]
  },
  {
   "cell_type": "code",
   "execution_count": 6,
   "metadata": {},
   "outputs": [
    {
     "data": {
      "text/plain": [
       "10.0"
      ]
     },
     "execution_count": 6,
     "metadata": {},
     "output_type": "execute_result"
    }
   ],
   "source": [
    "connector.g"
   ]
  },
  {
   "cell_type": "code",
   "execution_count": 17,
   "metadata": {},
   "outputs": [],
   "source": [
    "sample.draw_design()\n",
    "sample.watch()"
   ]
  },
  {
   "cell_type": "code",
   "execution_count": 23,
   "metadata": {},
   "outputs": [
    {
     "name": "stdout",
     "output_type": "stream",
     "text": [
      "Gds file has been writen here:  /home/alena/QCreator/example_notebooks\\1Q_test.gds\n"
     ]
    }
   ],
   "source": [
    "sample.write_to_gds()"
   ]
  },
  {
   "cell_type": "code",
   "execution_count": 6,
   "metadata": {},
   "outputs": [],
   "source": [
    "sys, connections, elements = sample.get_tls()"
   ]
  },
  {
   "cell_type": "code",
   "execution_count": 7,
   "metadata": {},
   "outputs": [
    {
     "data": {
      "text/plain": [
       "[[Short , [0]],\n",
       " [Port pad-left-0, [20]],\n",
       " [Port pad-right-0, [21]],\n",
       " [Port pad-bottom-0, [22]],\n",
       " [Port pad-top-0, [23]],\n",
       " [Port pad-bottom-1, [24]],\n",
       " [Port pad-top-1, [25]],\n",
       " [Port pad-bottom-2, [26]],\n",
       " [Port pad-top-2, [27]],\n",
       " [TL ---0 (n=1), [20, 1]],\n",
       " [TL ---_between_bridges_1 (n=1), [1, 2]],\n",
       " [TL ---_between_bridges_2 (n=1), [3, 4]],\n",
       " [TL ---_between_bridges_3 (n=1), [5, 6]],\n",
       " [TL ---_between_bridges_4 (n=1), [7, 8]],\n",
       " [TL ---_between_bridges_5 (n=1), [9, 10]],\n",
       " [TL ---_between_bridges_6 (n=1), [11, 12]],\n",
       " [TL ---_between_bridges_7 (n=1), [13, 14]],\n",
       " [TL ---_between_bridges_8 (n=1), [15, 16]],\n",
       " [TL ---_between_bridges_9 (n=1), [17, 18]],\n",
       " [TL ---_between_bridges_10 (n=1), [19, 21]],\n",
       " [TL ---bridge0_line1 (n=1), [2, 28]],\n",
       " [TL ---bridge0_line2 (n=1), [28, 3]],\n",
       " [C , [28, 0]],\n",
       " [TL ---bridge1_line1 (n=1), [4, 29]],\n",
       " [TL ---bridge1_line2 (n=1), [29, 5]],\n",
       " [C , [29, 0]],\n",
       " [TL ---bridge2_line1 (n=1), [6, 30]],\n",
       " [TL ---bridge2_line2 (n=1), [30, 7]],\n",
       " [C , [30, 0]],\n",
       " [TL ---bridge3_line1 (n=1), [8, 31]],\n",
       " [TL ---bridge3_line2 (n=1), [31, 9]],\n",
       " [C , [31, 0]],\n",
       " [TL ---bridge4_line1 (n=1), [10, 32]],\n",
       " [TL ---bridge4_line2 (n=1), [32, 11]],\n",
       " [C , [32, 0]],\n",
       " [TL ---bridge5_line1 (n=1), [12, 33]],\n",
       " [TL ---bridge5_line2 (n=1), [33, 13]],\n",
       " [C , [33, 0]],\n",
       " [TL ---bridge6_line1 (n=1), [14, 34]],\n",
       " [TL ---bridge6_line2 (n=1), [34, 15]],\n",
       " [C , [34, 0]],\n",
       " [TL ---bridge7_line1 (n=1), [16, 35]],\n",
       " [TL ---bridge7_line2 (n=1), [35, 17]],\n",
       " [C , [35, 0]],\n",
       " [TL ---bridge8_line1 (n=1), [18, 36]],\n",
       " [TL ---bridge8_line2 (n=1), [36, 19]],\n",
       " [C , [36, 0]]]"
      ]
     },
     "execution_count": 7,
     "metadata": {},
     "output_type": "execute_result"
    }
   ],
   "source": [
    "sample.get_topology()"
   ]
  },
  {
   "cell_type": "code",
   "execution_count": 8,
   "metadata": {},
   "outputs": [],
   "source": [
    "omega, kappa, modes = sys.get_modes()"
   ]
  },
  {
   "cell_type": "code",
   "execution_count": 9,
   "metadata": {},
   "outputs": [
    {
     "data": {
      "text/plain": [
       "array([1.70537917e+10, 3.47195627e+10, 5.31294065e+10, 7.21126031e+10,\n",
       "       9.15056097e+10, 1.11244927e+11, 1.31383320e+11, 1.52184508e+11,\n",
       "       1.74838918e+11, 2.06030064e+11, 2.24902078e+11, 2.31578616e+11,\n",
       "       2.31850668e+11, 2.55716845e+11, 2.77907954e+11, 2.99266820e+11,\n",
       "       3.20435317e+11, 3.41825905e+11, 3.64010368e+11, 3.99969948e+11,\n",
       "       4.23042851e+11, 4.23076281e+11, 4.36102079e+11, 4.45133723e+11,\n",
       "       4.65215214e+11, 4.82713897e+11, 4.97650108e+11, 5.10375395e+11,\n",
       "       5.21277615e+11, 5.37073994e+11, 5.38230058e+11, 5.41084265e+11,\n",
       "       5.46446119e+11, 5.53716482e+11, 5.54133376e+11, 5.58159835e+11,\n",
       "       5.61556695e+11, 5.69040592e+11, 5.75323587e+11, 5.76954424e+11,\n",
       "       5.85762870e+11, 5.93312915e+11, 5.95949671e+11, 6.02327913e+11,\n",
       "       6.19025928e+11, 6.19428556e+11, 6.20561731e+11, 6.21716239e+11,\n",
       "       6.22591989e+11, 6.22952938e+11, 6.28091695e+11, 6.28475522e+11,\n",
       "       6.32410832e+11, 6.32694768e+11, 6.33683571e+11, 6.34469770e+11,\n",
       "       6.35139312e+11, 6.36975174e+11, 6.37312756e+11, 6.37743106e+11,\n",
       "       6.42624609e+11, 6.43063544e+11, 6.49016817e+11, 6.49047280e+11,\n",
       "       6.50825489e+11, 6.50826745e+11, 6.51053784e+11, 6.59087642e+11,\n",
       "       6.65478733e+11, 6.69512298e+11, 6.71925464e+11, 6.73173893e+11,\n",
       "       6.74304886e+11, 6.74805059e+11, 6.81961813e+11, 6.90971961e+11,\n",
       "       6.93949275e+11, 6.94586299e+11, 6.96321090e+11, 7.02442009e+11,\n",
       "       7.02445081e+11, 7.19249277e+11, 7.21493909e+11, 7.45132316e+11,\n",
       "       7.50861225e+11, 8.16511608e+11, 1.00184457e+12, 1.18231202e+12,\n",
       "       1.33547146e+12, 2.13691358e+12, 2.35315933e+12, 2.62372206e+12,\n",
       "       2.91559565e+12, 3.20926459e+12, 3.48517459e+12, 3.71865577e+12,\n",
       "       3.87898499e+12, 6.71923544e+12, 6.87106647e+12, 7.08646376e+12,\n",
       "       7.33146360e+12, 7.57771876e+12, 7.80146211e+12, 7.98141834e+12,\n",
       "       8.09874677e+12, 1.23784966e+13, 1.24027662e+13, 1.24945014e+13,\n",
       "       1.26311319e+13, 1.27936223e+13, 1.28099943e+13, 1.29620219e+13,\n",
       "       1.31174118e+13, 1.32428609e+13, 1.33244469e+13, 1.82964461e+13,\n",
       "       1.83606259e+13, 1.84576114e+13, 1.85747464e+13, 1.86976946e+13,\n",
       "       1.88120958e+13, 1.89048387e+13, 1.89652324e+13, 2.34533647e+13,\n",
       "       2.42316747e+13, 2.42833284e+13, 2.43318162e+13, 2.44054490e+13,\n",
       "       2.44948414e+13, 2.45890529e+13, 2.46769168e+13, 2.47481927e+13,\n",
       "       2.47945925e+13, 2.87316335e+13, 2.95397351e+13, 2.95671921e+13,\n",
       "       2.96088238e+13, 2.96592360e+13, 2.97121764e+13, 2.97613422e+13,\n",
       "       2.98010586e+13, 2.98268256e+13, 3.02382579e+13, 3.03181842e+13,\n",
       "       3.09094176e+13, 3.21433508e+13, 3.24939905e+13, 3.25073527e+13,\n",
       "       3.25277104e+13, 3.25525176e+13, 3.25787514e+13, 3.26032811e+13,\n",
       "       3.26232125e+13, 3.26361987e+13, 3.29892233e+13, 3.31542267e+13,\n",
       "       3.42094049e+13, 3.43046091e+13, 3.45670783e+13, 3.45800451e+13,\n",
       "       3.45999293e+13, 3.46243699e+13, 3.46504674e+13, 3.46751033e+13,\n",
       "       3.46952872e+13, 3.47085178e+13, 3.74451807e+13, 3.74453624e+13,\n",
       "       3.74458450e+13, 3.74464822e+13, 3.74470410e+13, 3.74481858e+13,\n",
       "       3.74488088e+13, 3.74502709e+13, 3.74510636e+13, 3.74525064e+13,\n",
       "       3.74535426e+13, 3.74546446e+13, 3.74558281e+13, 3.74564291e+13,\n",
       "       3.74574505e+13, 3.74576195e+13, 3.75315567e+13, 3.75315602e+13,\n",
       "       3.75441130e+13, 3.75441232e+13, 3.75633563e+13, 3.75633684e+13,\n",
       "       3.75869799e+13, 3.75869846e+13, 3.76121452e+13, 3.76121535e+13,\n",
       "       3.76358345e+13, 3.76358512e+13, 3.76551920e+13, 3.76552062e+13,\n",
       "       3.76678540e+13, 3.76678590e+13, 3.80938497e+13, 3.81263758e+13,\n",
       "       3.81766075e+13, 3.82389317e+13, 3.83061806e+13, 3.83703161e+13,\n",
       "       3.84233265e+13, 3.84582994e+13, 3.94356024e+13, 3.95534287e+13,\n",
       "       3.97468274e+13, 3.98731221e+13, 4.10213918e+13, 4.10216498e+13,\n",
       "       4.10424535e+13, 4.10433669e+13, 4.10747023e+13, 4.10763667e+13,\n",
       "       4.11142257e+13, 4.11163895e+13, 4.11562382e+13, 4.11584158e+13,\n",
       "       4.11956678e+13, 4.11973630e+13, 4.12277726e+13, 4.12287118e+13,\n",
       "       4.12487073e+13, 4.12489743e+13, 4.13528558e+13, 4.13532081e+13,\n",
       "       4.13893978e+13, 4.13906457e+13, 4.14465415e+13, 4.14488182e+13,\n",
       "       4.15186135e+13, 4.15215786e+13, 4.15977986e+13, 4.16007896e+13,\n",
       "       4.16746542e+13, 4.16769889e+13, 4.17391415e+13, 4.17404386e+13,\n",
       "       4.17821555e+13, 4.17825249e+13, 7.81193270e+13, 7.83949827e+13,\n",
       "       7.88150977e+13, 7.93269816e+13, 7.98677977e+13, 8.03725714e+13,\n",
       "       8.07817714e+13, 8.10478061e+13, 3.42476815e+14, 6.36454557e+14,\n",
       "       7.91172991e+14, 7.92075497e+14, 8.63944346e+14, 8.90471953e+14,\n",
       "       1.02692488e+15, 1.03843442e+15])"
      ]
     },
     "execution_count": 9,
     "metadata": {},
     "output_type": "execute_result"
    }
   ],
   "source": [
    "omega / (2* np.pi)"
   ]
  },
  {
   "cell_type": "code",
   "execution_count": null,
   "metadata": {},
   "outputs": [],
   "source": [
    "1.930694"
   ]
  }
 ],
 "metadata": {
  "kernelspec": {
   "display_name": "Python 3",
   "language": "python",
   "name": "python3"
  },
  "language_info": {
   "codemirror_mode": {
    "name": "ipython",
    "version": 3
   },
   "file_extension": ".py",
   "mimetype": "text/x-python",
   "name": "python",
   "nbconvert_exporter": "python",
   "pygments_lexer": "ipython3",
   "version": "3.7.3"
  }
 },
 "nbformat": 4,
 "nbformat_minor": 2
}
