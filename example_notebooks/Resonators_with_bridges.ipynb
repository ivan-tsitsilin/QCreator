{
 "cells": [
  {
   "cell_type": "code",
   "execution_count": 1,
   "metadata": {},
   "outputs": [],
   "source": [
    "import sys\n",
    "sys.path.append('..')\n",
    "import gdspy\n",
    "import numpy as np\n",
    "from importlib import reload\n",
    "from copy import deepcopy\n",
    "from QCreator import elements\n",
    "from QCreator import general_sample_creator as creator\n",
    "from QCreator import meshing\n",
    "from QCreator.auxiliary_functions import *\n",
    "\n",
    "tl_core = 20.\n",
    "tl_gap = 12.\n",
    "tl_ground = 10.\n",
    "\n",
    "\n",
    "# resonator_core = 7\n",
    "# resonator_gap = 4\n",
    "# resonator_ground = 16\n",
    "resonator_core = 8\n",
    "resonator_gap = 7\n",
    "resonator_ground = 16\n",
    "\n",
    "pad_offset = 800\n",
    "pad_element_offset = 1000\n",
    "qubit_position_offset = 800\n",
    "\n",
    "coupler_start = pad_offset + pad_element_offset\n",
    "coupler_delta = 500\n",
    "coupler_length = 450\n",
    "num_couplers = 1"
   ]
  },
  {
   "cell_type": "code",
   "execution_count": 2,
   "metadata": {},
   "outputs": [],
   "source": [
    "reload(gdspy)\n",
    "reload(creator)\n",
    "reload(elements)\n",
    "\n",
    "\n",
    "layers_configuration = {\n",
    "    'total':0,\n",
    "    'restricted area':10,\n",
    "    'for removing':100,\n",
    "    'JJs':1,\n",
    "    'air bridges':2,\n",
    "    'air bridge pads':3,\n",
    "    'vertical gridlines':15,\n",
    "    'horizontal gridlines':16,\n",
    "    'inverted':17\n",
    "}\n",
    "\n",
    "sample = creator.Sample('1Q_test',layers_configuration)\n",
    "\n",
    "#specify sample vertical and horizontal lengths\n",
    "sample.chip_geometry.sample_vertical_size=4.7e3\n",
    "sample.chip_geometry.sample_horizontal_size=4.7e3\n",
    "# num_qubits_line = 3\n",
    "\n",
    "central_line_y = sample.chip_geometry.sample_vertical_size/2\n",
    "\n",
    "# ChichkovAB = elements.AirBridge(width=15, \n",
    "#                                 length=60, \n",
    "#                                 padsize=30, \n",
    "#                                 min_spacing = 30,\n",
    "#                                 layer_configuration=sample.layer_configuration)\n",
    "\n",
    "chip_edge_ground = elements.ChipEdgeGround(sample.chip_geometry, sample.layer_configuration, sample.pads)\n",
    "sample.add(chip_edge_ground)"
   ]
  },
  {
   "cell_type": "code",
   "execution_count": null,
   "metadata": {},
   "outputs": [],
   "source": []
  },
  {
   "cell_type": "code",
   "execution_count": 3,
   "metadata": {},
   "outputs": [],
   "source": [
    "# 1. Create contact pads:\n",
    "pads_left = []\n",
    "pads_right = []\n",
    "for pad_side_id in range(1):\n",
    "    pad = elements.Pad('pad-left-'+str(pad_side_id), \n",
    "                       (pad_offset,  sample.chip_geometry.sample_vertical_size/2), np.pi, tl_core, \n",
    "                       tl_gap, tl_ground, \n",
    "                       layer_configuration=sample.layer_configuration, chip_geometry=sample.chip_geometry, \n",
    "                       **elements.default_pad_geometry())\n",
    "    pads_left.append(pad)\n",
    "    sample.add(pad)\n",
    "    pad = elements.Pad('pad-right-'+str(pad_side_id), \n",
    "                       (sample.chip_geometry.sample_horizontal_size-pad_offset,  \n",
    "                        sample.chip_geometry.sample_vertical_size/2), 0, tl_core, \n",
    "                       tl_gap, tl_ground, \n",
    "                       layer_configuration=sample.layer_configuration, chip_geometry=sample.chip_geometry, \n",
    "                       **elements.default_pad_geometry())\n",
    "    pads_right.append(pad)\n",
    "    sample.add(pad)\n",
    "    \n",
    "pads_top = []\n",
    "pads_bottom = []\n",
    "for pad_side_id in range(3):\n",
    "    pad = elements.Pad('pad-bottom-'+str(pad_side_id), \n",
    "                       (sample.chip_geometry.sample_horizontal_size/4*(pad_side_id+1), pad_offset), \n",
    "                       -np.pi/2, tl_core, tl_gap, tl_ground, \n",
    "                       layer_configuration=sample.layer_configuration, chip_geometry=sample.chip_geometry, \n",
    "                       **elements.default_pad_geometry())\n",
    "    pads_bottom.append(pad)\n",
    "    sample.add(pad)\n",
    "    pad = elements.Pad('pad-top-'+str(pad_side_id), \n",
    "                       (sample.chip_geometry.sample_horizontal_size/4*(pad_side_id+1),\n",
    "                        sample.chip_geometry.sample_vertical_size-pad_offset), \n",
    "                        np.pi/2, tl_core, tl_gap, tl_ground, \n",
    "                       layer_configuration=sample.layer_configuration, chip_geometry=sample.chip_geometry, \n",
    "                       **elements.default_pad_geometry())\n",
    "    pads_top.append(pad)\n",
    "    sample.add(pad)\n",
    "    \n",
    "p1 = pads_left[0]\n",
    "p2 = pads_right[0]"
   ]
  },
  {
   "cell_type": "code",
   "execution_count": 4,
   "metadata": {},
   "outputs": [
    {
     "name": "stdout",
     "output_type": "stream",
     "text": [
      "cpw segments [{'type': 'endpoint', 'endpoint': array([2261., 2299.]), 'length': 0}, {'type': 'endpoint', 'endpoint': array([2261., 1499.]), 'length': 800.0, 'startpoint': array([2261., 2299.])}]\n"
     ]
    }
   ],
   "source": [
    "g5, g6, res, open_part_of_res = draw_single_resonator(sample,elements,\n",
    "                            coupler_start, central_line_y, coupler_length,\n",
    "                             resonator_core,resonator_gap,resonator_ground, \n",
    "                             tl_core, tl_gap, tl_ground, grounding_width=10,\n",
    "                             closed_end_meander_length=3000,length_left=200,length_right=400,\n",
    "                             open_end_legth=800, min_bridge_spacing=150,\n",
    "                             port_orientation='right', direction_orientation='down')"
   ]
  },
  {
   "cell_type": "code",
   "execution_count": 5,
   "metadata": {},
   "outputs": [
    {
     "name": "stdout",
     "output_type": "stream",
     "text": [
      "cpw segments [{'type': 'endpoint', 'endpoint': array([ 800., 2350.]), 'length': 0}, {'type': 'segment', 'startpoint': array([ 800., 2350.]), 'endpoint': array([1764.6653303 , 2368.97524429]), 'length': 964.8519365085308}, {'type': 'turn', 'turn': -0.01966775104340696, 'startpoint': array([1764.6653303 , 2368.97524429]), 'endpoint': array([1767.18264014, 2369.        ]), 'length': -2.517472133556091, 'instead_point': array([1765.92386349, 2369.        ])}, {'type': 'endpoint', 'endpoint': array([1768., 2369.]), 'length': 0.8173598620257962, 'startpoint': array([1767.18264014, 2369.        ])}]\n",
      "[CPW \"---s0\", l=152.475, CPW \"---s1\", l=152.475, CPW \"---s2\", l=152.475, CPW \"---s3\", l=152.475, CPW \"---s4\", l=152.475, CPW \"---s5\", l=155.810]\n"
     ]
    }
   ],
   "source": [
    "connector = sample.connect_cpw(o1=p1, o2=g5, port1='port', port2='narrow', name='---',\n",
    "                    points=[], bridges = True, pads_geometry=[4,10],\n",
    "                    bridge_geometry=[56, 7], distance_between_pads=54, min_spacing=150)"
   ]
  },
  {
   "cell_type": "code",
   "execution_count": 6,
   "metadata": {},
   "outputs": [
    {
     "name": "stdout",
     "output_type": "stream",
     "text": [
      "cpw segments [{'type': 'endpoint', 'endpoint': array([2282., 2369.]), 'length': 0}, {'type': 'endpoint', 'endpoint': array([3900., 2350.]), 'length': 1618.1115536328143, 'startpoint': array([2282., 2369.])}]\n",
      "[CPW \"---s0\", l=152.811, CPW \"---s1\", l=152.811, CPW \"---s2\", l=152.811, CPW \"---s3\", l=152.811, CPW \"---s4\", l=152.811, CPW \"---s5\", l=152.811, CPW \"---s6\", l=152.811, CPW \"---s7\", l=152.811, CPW \"---s8\", l=152.811, CPW \"---s9\", l=152.811]\n"
     ]
    }
   ],
   "source": [
    "connector = sample.connect_cpw(o1=g6, o2=p2, port1='narrow', port2='port', name='---',\n",
    "                    points=[], bridges = True, pads_geometry=[4,10],\n",
    "                    bridge_geometry=[56, 7], distance_between_pads=54, min_spacing=150)"
   ]
  },
  {
   "cell_type": "code",
   "execution_count": null,
   "metadata": {},
   "outputs": [
    {
     "name": "stderr",
     "output_type": "stream",
     "text": [
      "C:\\ProgramData\\Anaconda3\\envs\\py38\\lib\\site-packages\\gdspy\\path.py:827: UserWarning: [GDSPY] Possible inconsistency found in `FlexPath` due to sharp corner.\n",
      "  warnings.warn(\n"
     ]
    }
   ],
   "source": [
    "sample.draw_design()\n",
    "sample.watch()"
   ]
  },
  {
   "cell_type": "code",
   "execution_count": 8,
   "metadata": {},
   "outputs": [
    {
     "name": "stdout",
     "output_type": "stream",
     "text": [
      "Gds file has been writen here:  D:\\Documents-cloud\\qubits\\simulation\\QCreator\\example_notebooks\\1Q_test.gds\n"
     ]
    }
   ],
   "source": [
    "sample.write_to_gds()"
   ]
  },
  {
   "cell_type": "code",
   "execution_count": 11,
   "metadata": {},
   "outputs": [],
   "source": [
    "sys, connections, elements = sample.get_tls()"
   ]
  },
  {
   "cell_type": "code",
   "execution_count": 12,
   "metadata": {},
   "outputs": [
    {
     "data": {
      "text/plain": [
       "[[Short , [0]],\n",
       " [Port pad-left-0, [81]],\n",
       " [Port pad-right-0, [92]],\n",
       " [Port pad-bottom-0, [93]],\n",
       " [Port pad-top-0, [94]],\n",
       " [Port pad-bottom-1, [95]],\n",
       " [Port pad-top-1, [96]],\n",
       " [Port pad-bottom-2, [97]],\n",
       " [Port pad-top-2, [98]],\n",
       " [TL TL-resonator coupler (n=3), [1, 2, 3, 6, 7, 8]],\n",
       " [TL closed end resonator fanout_line_0 (n=2), [99, 100, 4, 5]],\n",
       " [TL closed end resonator fanout_line_1 (n=1), [101, 73]],\n",
       " [TL closed end resonator fanout_coupled_line_2 (n=3),\n",
       "  [1, 2, 3, 99, 100, 101]],\n",
       " [R cl10, [5, 0]],\n",
       " [TL cl1 (n=1), [4, 82]],\n",
       " [TL open end resonator fanout_line_0 (n=1), [102, 75]],\n",
       " [TL open end resonator fanout_line_1 (n=2), [103, 104, 9, 10]],\n",
       " [TL open end resonator fanout_coupled_line_2 (n=3), [8, 7, 6, 102, 103, 104]],\n",
       " [R cl20, [9, 0]],\n",
       " [TL cl2 (n=1), [10, 91]],\n",
       " [TL closed ends0 (n=1), [73, 11]],\n",
       " [TL closed endb0_line1 (n=1), [11, 105]],\n",
       " [TL closed endb0_line2 (n=1), [105, 12]],\n",
       " [C , [105, 0]],\n",
       " [TL closed ends1 (n=1), [12, 13]],\n",
       " [TL closed endb1_line1 (n=1), [13, 106]],\n",
       " [TL closed endb1_line2 (n=1), [106, 14]],\n",
       " [C , [106, 0]],\n",
       " [TL closed ends2 (n=1), [14, 15]],\n",
       " [TL closed endb2_line1 (n=1), [15, 107]],\n",
       " [TL closed endb2_line2 (n=1), [107, 16]],\n",
       " [C , [107, 0]],\n",
       " [TL closed ends3 (n=1), [16, 17]],\n",
       " [TL closed endb3_line1 (n=1), [17, 108]],\n",
       " [TL closed endb3_line2 (n=1), [108, 18]],\n",
       " [C , [108, 0]],\n",
       " [TL closed ends4 (n=1), [18, 19]],\n",
       " [TL closed endb4_line1 (n=1), [19, 109]],\n",
       " [TL closed endb4_line2 (n=1), [109, 20]],\n",
       " [C , [109, 0]],\n",
       " [TL closed ends5 (n=1), [20, 21]],\n",
       " [TL closed endb5_line1 (n=1), [21, 110]],\n",
       " [TL closed endb5_line2 (n=1), [110, 22]],\n",
       " [C , [110, 0]],\n",
       " [TL closed ends6 (n=1), [22, 23]],\n",
       " [TL closed endb6_line1 (n=1), [23, 111]],\n",
       " [TL closed endb6_line2 (n=1), [111, 24]],\n",
       " [C , [111, 0]],\n",
       " [TL closed ends7 (n=1), [24, 25]],\n",
       " [TL closed endb7_line1 (n=1), [25, 112]],\n",
       " [TL closed endb7_line2 (n=1), [112, 26]],\n",
       " [C , [112, 0]],\n",
       " [TL closed ends8 (n=1), [26, 27]],\n",
       " [TL closed endb8_line1 (n=1), [27, 113]],\n",
       " [TL closed endb8_line2 (n=1), [113, 28]],\n",
       " [C , [113, 0]],\n",
       " [TL closed ends9 (n=1), [28, 29]],\n",
       " [TL closed endb9_line1 (n=1), [29, 114]],\n",
       " [TL closed endb9_line2 (n=1), [114, 30]],\n",
       " [C , [114, 0]],\n",
       " [TL closed ends10 (n=1), [30, 31]],\n",
       " [TL closed endb10_line1 (n=1), [31, 115]],\n",
       " [TL closed endb10_line2 (n=1), [115, 32]],\n",
       " [C , [115, 0]],\n",
       " [TL closed ends11 (n=1), [32, 33]],\n",
       " [TL closed endb11_line1 (n=1), [33, 116]],\n",
       " [TL closed endb11_line2 (n=1), [116, 34]],\n",
       " [C , [116, 0]],\n",
       " [TL closed ends12 (n=1), [34, 35]],\n",
       " [TL closed endb12_line1 (n=1), [35, 117]],\n",
       " [TL closed endb12_line2 (n=1), [117, 36]],\n",
       " [C , [117, 0]],\n",
       " [TL closed ends13 (n=1), [36, 37]],\n",
       " [TL closed endb13_line1 (n=1), [37, 118]],\n",
       " [TL closed endb13_line2 (n=1), [118, 38]],\n",
       " [C , [118, 0]],\n",
       " [TL closed ends14 (n=1), [38, 39]],\n",
       " [TL closed endb14_line1 (n=1), [39, 119]],\n",
       " [TL closed endb14_line2 (n=1), [119, 40]],\n",
       " [C , [119, 0]],\n",
       " [TL closed ends15 (n=1), [40, 41]],\n",
       " [TL closed endb15_line1 (n=1), [41, 120]],\n",
       " [TL closed endb15_line2 (n=1), [120, 42]],\n",
       " [C , [120, 0]],\n",
       " [TL closed ends16 (n=1), [42, 43]],\n",
       " [TL closed endb16_line1 (n=1), [43, 121]],\n",
       " [TL closed endb16_line2 (n=1), [121, 44]],\n",
       " [C , [121, 0]],\n",
       " [TL closed ends17 (n=1), [44, 45]],\n",
       " [TL closed endb17_line1 (n=1), [45, 122]],\n",
       " [TL closed endb17_line2 (n=1), [122, 46]],\n",
       " [C , [122, 0]],\n",
       " [TL closed ends18 (n=1), [46, 47]],\n",
       " [TL closed endb18_line1 (n=1), [47, 123]],\n",
       " [TL closed endb18_line2 (n=1), [123, 48]],\n",
       " [C , [123, 0]],\n",
       " [TL closed ends19 (n=1), [48, 49]],\n",
       " [TL closed endb19_line1 (n=1), [49, 124]],\n",
       " [TL closed endb19_line2 (n=1), [124, 50]],\n",
       " [C , [124, 0]],\n",
       " [TL closed ends20 (n=1), [50, 51]],\n",
       " [TL closed endb20_line1 (n=1), [51, 125]],\n",
       " [TL closed endb20_line2 (n=1), [125, 52]],\n",
       " [C , [125, 0]],\n",
       " [TL closed ends21 (n=1), [52, 53]],\n",
       " [TL closed endb21_line1 (n=1), [53, 126]],\n",
       " [TL closed endb21_line2 (n=1), [126, 54]],\n",
       " [C , [126, 0]],\n",
       " [TL closed ends22 (n=1), [54, 55]],\n",
       " [TL closed endb22_line1 (n=1), [55, 127]],\n",
       " [TL closed endb22_line2 (n=1), [127, 56]],\n",
       " [C , [127, 0]],\n",
       " [TL closed ends23 (n=1), [56, 57]],\n",
       " [TL closed endb23_line1 (n=1), [57, 128]],\n",
       " [TL closed endb23_line2 (n=1), [128, 58]],\n",
       " [C , [128, 0]],\n",
       " [TL closed ends24 (n=1), [58, 59]],\n",
       " [TL closed endb24_line1 (n=1), [59, 129]],\n",
       " [TL closed endb24_line2 (n=1), [129, 60]],\n",
       " [C , [129, 0]],\n",
       " [TL closed ends25 (n=1), [60, 61]],\n",
       " [TL closed endb25_line1 (n=1), [61, 130]],\n",
       " [TL closed endb25_line2 (n=1), [130, 62]],\n",
       " [C , [130, 0]],\n",
       " [TL closed ends26 (n=1), [62, 63]],\n",
       " [TL closed endb26_line1 (n=1), [63, 131]],\n",
       " [TL closed endb26_line2 (n=1), [131, 64]],\n",
       " [C , [131, 0]],\n",
       " [TL closed ends27 (n=1), [64, 65]],\n",
       " [TL closed endb27_line1 (n=1), [65, 132]],\n",
       " [TL closed endb27_line2 (n=1), [132, 66]],\n",
       " [C , [132, 0]],\n",
       " [TL closed ends28 (n=1), [66, 67]],\n",
       " [TL closed endb28_line1 (n=1), [67, 133]],\n",
       " [TL closed endb28_line2 (n=1), [133, 68]],\n",
       " [C , [133, 0]],\n",
       " [TL closed ends29 (n=1), [68, 69]],\n",
       " [TL closed endb29_line1 (n=1), [69, 134]],\n",
       " [TL closed endb29_line2 (n=1), [134, 70]],\n",
       " [C , [134, 0]],\n",
       " [TL closed ends30 (n=1), [70, 71]],\n",
       " [TL closed endb30_line1 (n=1), [71, 135]],\n",
       " [TL closed endb30_line2 (n=1), [135, 72]],\n",
       " [C , [135, 0]],\n",
       " [TL closed ends31 (n=1), [72, 74]],\n",
       " [Short , [74]],\n",
       " [C open_end, [76, 0]],\n",
       " [TL right open end (n=1), [75, 76]],\n",
       " [TL ---s0 (n=1), [81, 77]],\n",
       " [TL ---b0_line1 (n=1), [77, 136]],\n",
       " [TL ---b0_line2 (n=1), [136, 78]],\n",
       " [C , [136, 0]],\n",
       " [TL ---s1 (n=1), [78, 79]],\n",
       " [TL ---b1_line1 (n=1), [79, 137]],\n",
       " [TL ---b1_line2 (n=1), [137, 80]],\n",
       " [C , [137, 0]],\n",
       " [TL ---s2 (n=1), [80, 82]],\n",
       " [TL ---s0 (n=1), [91, 83]],\n",
       " [TL ---b0_line1 (n=1), [83, 138]],\n",
       " [TL ---b0_line2 (n=1), [138, 84]],\n",
       " [C , [138, 0]],\n",
       " [TL ---s1 (n=1), [84, 85]],\n",
       " [TL ---b1_line1 (n=1), [85, 139]],\n",
       " [TL ---b1_line2 (n=1), [139, 86]],\n",
       " [C , [139, 0]],\n",
       " [TL ---s2 (n=1), [86, 87]],\n",
       " [TL ---b2_line1 (n=1), [87, 140]],\n",
       " [TL ---b2_line2 (n=1), [140, 88]],\n",
       " [C , [140, 0]],\n",
       " [TL ---s3 (n=1), [88, 89]],\n",
       " [TL ---b3_line1 (n=1), [89, 141]],\n",
       " [TL ---b3_line2 (n=1), [141, 90]],\n",
       " [C , [141, 0]],\n",
       " [TL ---s4 (n=1), [90, 92]]]"
      ]
     },
     "execution_count": 12,
     "metadata": {},
     "output_type": "execute_result"
    }
   ],
   "source": [
    "sample.get_topology()"
   ]
  },
  {
   "cell_type": "code",
   "execution_count": null,
   "metadata": {},
   "outputs": [],
   "source": [
    "omega, kappa, modes = sys.get_modes()"
   ]
  },
  {
   "cell_type": "code",
   "execution_count": null,
   "metadata": {},
   "outputs": [],
   "source": [
    "omega / (2* np.pi)"
   ]
  },
  {
   "cell_type": "code",
   "execution_count": null,
   "metadata": {},
   "outputs": [],
   "source": [
    "1.930694"
   ]
  }
 ],
 "metadata": {
  "kernelspec": {
   "display_name": "Python 3",
   "language": "python",
   "name": "python3"
  },
  "language_info": {
   "codemirror_mode": {
    "name": "ipython",
    "version": 3
   },
   "file_extension": ".py",
   "mimetype": "text/x-python",
   "name": "python",
   "nbconvert_exporter": "python",
   "pygments_lexer": "ipython3",
   "version": "3.8.5"
  }
 },
 "nbformat": 4,
 "nbformat_minor": 2
}
