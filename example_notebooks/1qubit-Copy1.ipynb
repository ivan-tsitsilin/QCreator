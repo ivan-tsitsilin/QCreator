{
 "cells": [
  {
   "cell_type": "code",
   "execution_count": 1,
   "metadata": {},
   "outputs": [],
   "source": [
    "import sys\n",
    "sys.path.append('..')\n",
    "import gdspy\n",
    "import numpy as np\n",
    "from importlib import reload\n",
    "#import libraries.conformal_mapping as cm\n",
    "#import libraries.general_design_functions as gdf\n",
    "#import libraries.general_sample_creator as creator\n",
    "#from  ..libraries import general_design_functions as gdf\n",
    "#fr\n",
    "from copy import deepcopy\n",
    "from QCreator import elements\n",
    "from QCreator import general_sample_creator as creator"
   ]
  },
  {
   "cell_type": "code",
   "execution_count": 2,
   "metadata": {},
   "outputs": [],
   "source": [
    "tl_core = 20.\n",
    "tl_gap = 12.\n",
    "tl_ground = 10.\n",
    "\n",
    "resonator_core = 8\n",
    "resonator_gap = 7\n",
    "resonator_ground = 16\n",
    "\n",
    "pad_offset = 1000\n",
    "pad_element_offset = 1000\n",
    "\n",
    "coupler_start = pad_offset + pad_element_offset\n",
    "coupler_delta = 500\n",
    "coupler_length = 300\n",
    "num_couplers = 1"
   ]
  },
  {
   "cell_type": "markdown",
   "metadata": {},
   "source": [
    "# Transmission line with resonator (failed version)"
   ]
  },
  {
   "cell_type": "code",
   "execution_count": 8,
   "metadata": {},
   "outputs": [],
   "source": [
    "reload(gdspy)\n",
    "reload(creator)\n",
    "reload(elements)\n",
    "\n",
    "layers_configuration = {\n",
    "    'total':0,\n",
    "    'restricted area':10,\n",
    "    'for removing':100,\n",
    "    'JJs':1,\n",
    "    'air bridges':2,\n",
    "    'air bridge pads':3,\n",
    "    'vertical gridlines':15,\n",
    "    'horizontal gridlines':16\n",
    "}\n",
    "sample = creator.Sample('4_qubits',layers_configuration)\n",
    "\n",
    "#specify sample vertical and horizontal lengths\n",
    "sample.chip_geometry.sample_vertical_size=4.7e3\n",
    "sample.chip_geometry.sample_horizontal_size=9.7e3\n",
    "\n",
    "central_line_y = sample.chip_geometry.sample_vertical_size/2\n",
    "\n",
    "ChichkovAB = elements.AirBridge(width=15, \n",
    "                                length=60, \n",
    "                                padsize=30, \n",
    "                                min_spacing = 30,\n",
    "                                layer_configuration=sample.layer_configuration)\n",
    "\n",
    "chip_edge_ground = elements.ChipEdgeGround(sample.chip_geometry, sample.layer_configuration, sample.pads)\n",
    "sample.add(chip_edge_ground)\n",
    "\n",
    "grid_ground = elements.GridGround(sample.chip_geometry, sample.layer_configuration, sample.objects, \n",
    "                                  width=4, period=500)\n",
    "sample.add(grid_ground)\n",
    "\n",
    "# 1. Create contact pads:\n",
    "\n",
    "p1 = elements.Pad('p1', (pad_offset,  central_line_y), np.pi, tl_core, tl_gap, tl_ground, \n",
    "                  layer_configuration=sample.layer_configuration, chip_geometry=sample.chip_geometry, \n",
    "                  **elements.default_pad_geometry())\n",
    "p2 = elements.Pad('p2', (sample.chip_geometry.sample_horizontal_size-pad_offset,  central_line_y), \n",
    "                  0, tl_core, tl_gap, tl_ground, \n",
    "                  layer_configuration=sample.layer_configuration, chip_geometry=sample.chip_geometry, \n",
    "                  **elements.default_pad_geometry())\n",
    "sample.add(p1)\n",
    "sample.add(p2)\n",
    "\n",
    "# 2. Create main copler:\n",
    "\n",
    "main_coupler = elements.CPWCoupler('TL-resonator coupler', [(coupler_start, central_line_y), \n",
    "                                                            (coupler_start+coupler_length, central_line_y)],\n",
    "                                   [resonator_core, resonator_ground, tl_core],[resonator_gap, resonator_gap, tl_gap, tl_gap],\n",
    "                                   tl_ground, sample.layer_configuration, r=100)\n",
    "sample.add(main_coupler)\n",
    "\n",
    "# 3. Create fanout to create closed enfd of resonator\n",
    "fanout_for_closed_end = sample.fanout(o=main_coupler, port='port1', name='closed end resonator fanout', grouping=[1, 3])\n",
    "\n",
    "# 4. \n",
    "g1 = sample.ground(o=fanout_for_closed_end, port='center', name='cl1', grounding_width=10, grounding_between = [(2,3)])\n",
    "\n",
    "# 5. Create left part of transmission line\n",
    "left_TL = sample.connect_cpw(o1=p1, o2=g1, port1='port', port2='narrow', name='left TL', points=[])\n",
    "\n",
    "# 6. Create closed meander of resonator\n",
    "closed_end_meander = sample.connect_meander(name='closed end', o1=fanout_for_closed_end, port1='up',\n",
    "                                            meander_length=2300,restricted_scale=400, constant_scale=900, radius=40)\n",
    "\n",
    "# 7. Create fanout to create closed enfd of resonator\n",
    "fanout_for_open_end = sample.fanout(o=main_coupler, port='port2', name='open end resonator fanout', grouping=[1, 3])\n",
    "\n",
    "# 8. \n",
    "g2 = sample.ground(o=fanout_for_open_end, port='center', name='cl2', grounding_width=10, grounding_between = [(0,1)])\n",
    "\n",
    "# 9. Create left part of transmission line\n",
    "right_TL = sample.connect_cpw(o1=p2, o2=g2, port1='port', port2='narrow', name='right TL', points=[])\n",
    "\n",
    "# 10. Create closed meander of resonator\n",
    "open_end_resonator = elements.CPW(name='open end resonator', points=[fanout_for_open_end.get_terminals()['down'].position, (fanout_for_open_end.get_terminals()['down'].position[0],\n",
    "                                                                                                                    fanout_for_open_end.get_terminals()['down'].position[1]-1000)],\n",
    "                                  w=fanout_for_open_end.get_terminals()['down'].w, s=fanout_for_open_end.get_terminals()['down'].s,\n",
    "                                  g=fanout_for_open_end.get_terminals()['down'].g, layer_configuration=sample.layer_configuration, r=25)\n",
    "sample.add(open_end_resonator)\n",
    "sample.connections.append(((fanout_for_open_end, 'down'), (open_end_resonator, 'port1')))\n",
    "\n",
    "# 11. Create grounding of resonator\n",
    "resonator_ground_ = sample.ground(o=closed_end_meander, port='port2', name='resonator ground', grounding_width=30, grounding_between = [(0,2)])"
   ]
  },
  {
   "cell_type": "code",
   "execution_count": 10,
   "metadata": {},
   "outputs": [],
   "source": [
    "design = sample.draw_design()\n",
    "sample.watch()"
   ]
  },
  {
   "cell_type": "code",
   "execution_count": 7,
   "metadata": {},
   "outputs": [
    {
     "data": {
      "text/plain": [
       "16"
      ]
     },
     "execution_count": 7,
     "metadata": {},
     "output_type": "execute_result"
    }
   ],
   "source": [
    "resonator_ground"
   ]
  },
  {
   "cell_type": "code",
   "execution_count": 6,
   "metadata": {},
   "outputs": [],
   "source": [
    "sys, connections, elements_ = sample.get_tls()"
   ]
  },
  {
   "cell_type": "code",
   "execution_count": 9,
   "metadata": {},
   "outputs": [
    {
     "data": {
      "text/plain": [
       "{(CPWCoupler \"TL-resonator coupler\", n=3, l=299.798, 'port1', 0): 1,\n",
       " (RectFanout closed end resonator fanout, n=3, grouping=(0, 2), 'wide', 0): 1,\n",
       " (CPWCoupler \"TL-resonator coupler\", n=3, l=299.798, 'port1', 1): 2,\n",
       " (RectFanout closed end resonator fanout, n=3, grouping=(0, 2), 'wide', 1): 2,\n",
       " (CPWCoupler \"TL-resonator coupler\", n=3, l=299.798, 'port1', 2): 3,\n",
       " (RectFanout closed end resonator fanout, n=3, grouping=(0, 2), 'wide', 2): 3,\n",
       " (RectFanout closed end resonator fanout, n=3, grouping=(0, 2),\n",
       "  'center',\n",
       "  0): 4,\n",
       " (RectGrounding cl1, 'wide', 0): 4,\n",
       " (RectFanout closed end resonator fanout, n=3, grouping=(0, 2),\n",
       "  'center',\n",
       "  1): 5,\n",
       " (RectGrounding cl1, 'wide', 1): 5,\n",
       " (CPW \"left TL\", l=968.634, 'port1', 0): 6,\n",
       " (<QCreator.elements.pad.Pad at 0x2297ae18910>, 'port', 0): 6,\n",
       " (CPW \"left TL\", l=968.634, 'port2', 0): 7,\n",
       " (RectGrounding cl1, 'narrow', 0): 7,\n",
       " (CPWCoupler \"TL-resonator coupler\", n=3, l=299.798, 'port2', 0): 8,\n",
       " (RectFanout open end resonator fanout, n=3, grouping=(1, 3), 'wide', 0): 8,\n",
       " (CPWCoupler \"TL-resonator coupler\", n=3, l=299.798, 'port2', 1): 9,\n",
       " (RectFanout open end resonator fanout, n=3, grouping=(1, 3), 'wide', 1): 9,\n",
       " (CPWCoupler \"TL-resonator coupler\", n=3, l=299.798, 'port2', 2): 10,\n",
       " (RectFanout open end resonator fanout, n=3, grouping=(1, 3), 'wide', 2): 10,\n",
       " (RectFanout open end resonator fanout, n=3, grouping=(1, 3), 'center', 0): 11,\n",
       " (RectGrounding cl2, 'wide', 0): 11,\n",
       " (RectFanout open end resonator fanout, n=3, grouping=(1, 3), 'center', 1): 12,\n",
       " (RectGrounding cl2, 'wide', 1): 12,\n",
       " (CPW \"right TL\", l=6367.932, 'port1', 0): 13,\n",
       " (<QCreator.elements.pad.Pad at 0x22979cad460>, 'port', 0): 13,\n",
       " (CPW \"right TL\", l=6367.932, 'port2', 0): 14,\n",
       " (RectGrounding cl2, 'narrow', 0): 14,\n",
       " (RectFanout open end resonator fanout, n=3, grouping=(1, 3), 'down'): 15,\n",
       " (CPW \"open end resonator\", l=999.933, 'port1'): 15,\n",
       " (CPW \"closed end\", l=2299.958, 'port2', 0): 16,\n",
       " (RectGrounding resonator ground, 'wide', 0): 16,\n",
       " (RectFanout closed end resonator fanout, n=3, grouping=(0, 2), 'up', 0): 17,\n",
       " (CPW \"closed end\", l=2299.958, 'port1', 0): 18,\n",
       " (RectFanout open end resonator fanout, n=3, grouping=(1, 3), 'down', 0): 19,\n",
       " (CPW \"open end resonator\", l=999.933, 'port1', 0): 20,\n",
       " (CPW \"open end resonator\", l=999.933, 'port2', 0): 21}"
      ]
     },
     "execution_count": 9,
     "metadata": {},
     "output_type": "execute_result"
    }
   ],
   "source": [
    "connections"
   ]
  },
  {
   "cell_type": "code",
   "execution_count": 7,
   "metadata": {},
   "outputs": [
    {
     "name": "stderr",
     "output_type": "stream",
     "text": [
      "..\\QCreator\\general_sample_creator.py:250: FutureWarning: `rcond` parameter will change to the default of machine precision times ``max(M, N)`` where M and N are the input matrix dimensions.\n",
      "To use the future default and silence this warning we advise to pass `rcond=None`, to keep using the old, explicitly pass `rcond=-1`.\n",
      "  s.append(np.linalg.lstsq(m, boundary)[0][a2[0]])\n"
     ]
    },
    {
     "data": {
      "text/plain": [
       "[<matplotlib.lines.Line2D at 0x2297f698730>]"
      ]
     },
     "execution_count": 7,
     "metadata": {},
     "output_type": "execute_result"
    },
    {
     "data": {
      "image/png": "[encoded data removed]",
      "text/plain": [
       "<Figure size 432x288 with 1 Axes>"
      ]
     },
     "metadata": {
      "needs_background": "light"
     },
     "output_type": "display_data"
    }
   ],
   "source": [
    "f = np.linspace(4e9, 10e9, 6001)\n",
    "s11 = sample.get_s21('p1', 'p1', f)\n",
    "s21 = sample.get_s21('p1', 'p2', f)\n",
    "from matplotlib import pyplot as plt\n",
    "plt.plot(f, np.abs(s11))\n",
    "plt.plot(f, np.abs(s21))"
   ]
  },
  {
   "cell_type": "code",
   "execution_count": null,
   "metadata": {},
   "outputs": [],
   "source": []
  }
 ],
 "metadata": {
  "kernelspec": {
   "display_name": "Python 3",
   "language": "python",
   "name": "python3"
  },
  "language_info": {
   "codemirror_mode": {
    "name": "ipython",
    "version": 3
   },
   "file_extension": ".py",
   "mimetype": "text/x-python",
   "name": "python",
   "nbconvert_exporter": "python",
   "pygments_lexer": "ipython3",
   "version": "3.8.5"
  }
 },
 "nbformat": 4,
 "nbformat_minor": 2
}
